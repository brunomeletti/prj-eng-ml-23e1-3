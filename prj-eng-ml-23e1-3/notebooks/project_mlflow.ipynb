{
 "cells": [
  {
   "cell_type": "code",
   "execution_count": 1,
   "metadata": {},
   "outputs": [],
   "source": [
    "# %pip install pandas\n",
    "# %pip install scikit-learn\n",
    "# %pip install pycaret\n",
    "# %pip install mlflow"
   ]
  },
  {
   "cell_type": "code",
   "execution_count": 3,
   "metadata": {},
   "outputs": [],
   "source": [
    "import pandas  as pd\n",
    "\n",
    "from sklearn.model_selection import train_test_split\n",
    "from pycaret.regression import *\n",
    "from pycaret.classification import *\n",
    "from pycaret.regression import RegressionExperiment\n",
    "from sklearn.metrics import log_loss \n",
    "# from pycaret.regression import *"
   ]
  },
  {
   "cell_type": "code",
   "execution_count": 1,
   "metadata": {},
   "outputs": [],
   "source": [
    "seed = 123"
   ]
  },
  {
   "cell_type": "code",
   "execution_count": 4,
   "metadata": {},
   "outputs": [
    {
     "name": "stdout",
     "output_type": "stream",
     "text": [
      "Dados Originais. 30697 amostras e 25 colunas.\n"
     ]
    }
   ],
   "source": [
    "# Carrega o dataset e exibe os dados\n",
    "raw_df = pd.read_csv('../Data/01_raw/kobe_dataset.csv', delimiter=',')\n",
    "# raw_df = Catalog.load('raw_kobe_dataset')\n",
    "\n",
    "print('Dados Originais. {} amostras e {} colunas.'.format(raw_df.shape[0], raw_df.shape[1]))"
   ]
  },
  {
   "cell_type": "code",
   "execution_count": 12,
   "metadata": {},
   "outputs": [
    {
     "data": {
      "text/plain": [
       "['action_type',\n",
       " 'combined_shot_type',\n",
       " 'game_event_id',\n",
       " 'game_id',\n",
       " 'lat',\n",
       " 'loc_x',\n",
       " 'loc_y',\n",
       " 'lon',\n",
       " 'minutes_remaining',\n",
       " 'period',\n",
       " 'playoffs',\n",
       " 'season',\n",
       " 'seconds_remaining',\n",
       " 'shot_distance',\n",
       " 'shot_made_flag',\n",
       " 'shot_type',\n",
       " 'shot_zone_area',\n",
       " 'shot_zone_basic',\n",
       " 'shot_zone_range',\n",
       " 'team_id',\n",
       " 'team_name',\n",
       " 'game_date',\n",
       " 'matchup',\n",
       " 'opponent',\n",
       " 'shot_id']"
      ]
     },
     "execution_count": 12,
     "metadata": {},
     "output_type": "execute_result"
    }
   ],
   "source": [
    "list(raw_df.columns.values)"
   ]
  },
  {
   "cell_type": "code",
   "execution_count": 5,
   "metadata": {},
   "outputs": [
    {
     "data": {
      "text/plain": [
       "action_type              0\n",
       "combined_shot_type       0\n",
       "game_event_id            0\n",
       "game_id                  0\n",
       "lat                      0\n",
       "loc_x                    0\n",
       "loc_y                    0\n",
       "lon                      0\n",
       "minutes_remaining        0\n",
       "period                   0\n",
       "playoffs                 0\n",
       "season                   0\n",
       "seconds_remaining        0\n",
       "shot_distance            0\n",
       "shot_made_flag        5000\n",
       "shot_type                0\n",
       "shot_zone_area           0\n",
       "shot_zone_basic          0\n",
       "shot_zone_range          0\n",
       "team_id                  0\n",
       "team_name                0\n",
       "game_date                0\n",
       "matchup                  0\n",
       "opponent                 0\n",
       "shot_id                  0\n",
       "dtype: int64"
      ]
     },
     "execution_count": 5,
     "metadata": {},
     "output_type": "execute_result"
    }
   ],
   "source": [
    "raw_df.isnull().sum()"
   ]
  },
  {
   "cell_type": "code",
   "execution_count": 5,
   "metadata": {},
   "outputs": [
    {
     "name": "stdout",
     "output_type": "stream",
     "text": [
      "Dados de trabalho. 25697 amostras e 25 colunas.\n"
     ]
    }
   ],
   "source": [
    "conformed_df = raw_df.dropna()\n",
    "print('Dados de trabalho. {} amostras e {} colunas.'.format(conformed_df.shape[0], conformed_df.shape[1]))"
   ]
  },
  {
   "cell_type": "code",
   "execution_count": 6,
   "metadata": {},
   "outputs": [
    {
     "name": "stdout",
     "output_type": "stream",
     "text": [
      "Dados de trabalho. 20285 amostras e 25 colunas.\n"
     ]
    }
   ],
   "source": [
    "conformed_df = conformed_df.query('shot_type == \"2PT Field Goal\"')\n",
    "print('Dados de trabalho. {} amostras e {} colunas.'.format(conformed_df.shape[0], conformed_df.shape[1]))"
   ]
  },
  {
   "cell_type": "code",
   "execution_count": 15,
   "metadata": {},
   "outputs": [
    {
     "data": {
      "text/plain": [
       "[(0.0, 10602), (1.0, 9683)]"
      ]
     },
     "execution_count": 15,
     "metadata": {},
     "output_type": "execute_result"
    }
   ],
   "source": [
    "list(conformed_df['shot_made_flag'].value_counts().items())"
   ]
  },
  {
   "cell_type": "markdown",
   "metadata": {},
   "source": [
    "- [x] Observe que há dados faltantes na base de dados! As linhas que possuem dados faltantes devem ser desconsideradas\n",
    "- [x] Você também irá filtrar os dados onde o valor de shot_type for igual à 2PT Field Goal.\n",
    "- [x] Ainda, para esse exercício serão apenas consideradas as colunas: \n",
    "  - lat\n",
    "  - lng\n",
    "  - minutes_remaining\n",
    "  - period\n",
    "  - playoffs\n",
    "  - shot_distance"
   ]
  },
  {
   "cell_type": "code",
   "execution_count": 18,
   "metadata": {},
   "outputs": [
    {
     "name": "stdout",
     "output_type": "stream",
     "text": [
      "Dados de trabalho, 20285 amostras e 6 colunas. Labels, 20285 amostras.\n"
     ]
    }
   ],
   "source": [
    "X = conformed_df[[\n",
    "    'lat',\n",
    "    'lon',\n",
    "    'minutes_remaining',\n",
    "    'period',\n",
    "    'playoffs',\n",
    "    'shot_distance'\n",
    "]];\n",
    "\n",
    "y = conformed_df[['shot_made_flag']]\n",
    "\n",
    "print('Dados de trabalho, {} amostras e {} colunas. Labels, {} amostras.'.format(X.shape[0], X.shape[1], y.shape[0]))"
   ]
  },
  {
   "cell_type": "markdown",
   "metadata": {},
   "source": [
    "- [x] Separe os dados em treino (80%) e teste (20 %) usando uma escolha aleatória e estratificada."
   ]
  },
  {
   "cell_type": "code",
   "execution_count": 17,
   "metadata": {},
   "outputs": [],
   "source": [
    "train, test, y_train, y_test = train_test_split(X, y, train_size=0.8, random_state=seed, stratify=y)"
   ]
  },
  {
   "cell_type": "markdown",
   "metadata": {},
   "source": [
    "- [x] Com os dados separados para treinamento, treine um modelo com regressão logística do sklearn usando a biblioteca pyCaret.\n",
    "- [x] Com os dados separados para treinamento, treine um modelo de classificação do sklearn usando a biblioteca pyCaret.\n",
    "- [x] Selecione agora os dados da base de dados original onde shot_type for igual à 3PT Field Goal (será uma nova base de dados)\n",
    "- [] Através da biblioteca requests, aplique o modelo treinado. Pode usar o MLFlow Models?  "
   ]
  },
  {
   "cell_type": "markdown",
   "metadata": {},
   "source": [
    "## Regressão"
   ]
  },
  {
   "cell_type": "code",
   "execution_count": 11,
   "metadata": {},
   "outputs": [
    {
     "data": {
      "text/html": [
       "<style type=\"text/css\">\n",
       "#T_d72a7_row8_col1 {\n",
       "  background-color: lightgreen;\n",
       "}\n",
       "</style>\n",
       "<table id=\"T_d72a7\">\n",
       "  <thead>\n",
       "    <tr>\n",
       "      <th class=\"blank level0\" >&nbsp;</th>\n",
       "      <th id=\"T_d72a7_level0_col0\" class=\"col_heading level0 col0\" >Description</th>\n",
       "      <th id=\"T_d72a7_level0_col1\" class=\"col_heading level0 col1\" >Value</th>\n",
       "    </tr>\n",
       "  </thead>\n",
       "  <tbody>\n",
       "    <tr>\n",
       "      <th id=\"T_d72a7_level0_row0\" class=\"row_heading level0 row0\" >0</th>\n",
       "      <td id=\"T_d72a7_row0_col0\" class=\"data row0 col0\" >Session id</td>\n",
       "      <td id=\"T_d72a7_row0_col1\" class=\"data row0 col1\" >123</td>\n",
       "    </tr>\n",
       "    <tr>\n",
       "      <th id=\"T_d72a7_level0_row1\" class=\"row_heading level0 row1\" >1</th>\n",
       "      <td id=\"T_d72a7_row1_col0\" class=\"data row1 col0\" >Target</td>\n",
       "      <td id=\"T_d72a7_row1_col1\" class=\"data row1 col1\" >shot_distance</td>\n",
       "    </tr>\n",
       "    <tr>\n",
       "      <th id=\"T_d72a7_level0_row2\" class=\"row_heading level0 row2\" >2</th>\n",
       "      <td id=\"T_d72a7_row2_col0\" class=\"data row2 col0\" >Target type</td>\n",
       "      <td id=\"T_d72a7_row2_col1\" class=\"data row2 col1\" >Regression</td>\n",
       "    </tr>\n",
       "    <tr>\n",
       "      <th id=\"T_d72a7_level0_row3\" class=\"row_heading level0 row3\" >3</th>\n",
       "      <td id=\"T_d72a7_row3_col0\" class=\"data row3 col0\" >Original data shape</td>\n",
       "      <td id=\"T_d72a7_row3_col1\" class=\"data row3 col1\" >(20285, 6)</td>\n",
       "    </tr>\n",
       "    <tr>\n",
       "      <th id=\"T_d72a7_level0_row4\" class=\"row_heading level0 row4\" >4</th>\n",
       "      <td id=\"T_d72a7_row4_col0\" class=\"data row4 col0\" >Transformed data shape</td>\n",
       "      <td id=\"T_d72a7_row4_col1\" class=\"data row4 col1\" >(20285, 6)</td>\n",
       "    </tr>\n",
       "    <tr>\n",
       "      <th id=\"T_d72a7_level0_row5\" class=\"row_heading level0 row5\" >5</th>\n",
       "      <td id=\"T_d72a7_row5_col0\" class=\"data row5 col0\" >Transformed train set shape</td>\n",
       "      <td id=\"T_d72a7_row5_col1\" class=\"data row5 col1\" >(16228, 6)</td>\n",
       "    </tr>\n",
       "    <tr>\n",
       "      <th id=\"T_d72a7_level0_row6\" class=\"row_heading level0 row6\" >6</th>\n",
       "      <td id=\"T_d72a7_row6_col0\" class=\"data row6 col0\" >Transformed test set shape</td>\n",
       "      <td id=\"T_d72a7_row6_col1\" class=\"data row6 col1\" >(4057, 6)</td>\n",
       "    </tr>\n",
       "    <tr>\n",
       "      <th id=\"T_d72a7_level0_row7\" class=\"row_heading level0 row7\" >7</th>\n",
       "      <td id=\"T_d72a7_row7_col0\" class=\"data row7 col0\" >Numeric features</td>\n",
       "      <td id=\"T_d72a7_row7_col1\" class=\"data row7 col1\" >5</td>\n",
       "    </tr>\n",
       "    <tr>\n",
       "      <th id=\"T_d72a7_level0_row8\" class=\"row_heading level0 row8\" >8</th>\n",
       "      <td id=\"T_d72a7_row8_col0\" class=\"data row8 col0\" >Preprocess</td>\n",
       "      <td id=\"T_d72a7_row8_col1\" class=\"data row8 col1\" >True</td>\n",
       "    </tr>\n",
       "    <tr>\n",
       "      <th id=\"T_d72a7_level0_row9\" class=\"row_heading level0 row9\" >9</th>\n",
       "      <td id=\"T_d72a7_row9_col0\" class=\"data row9 col0\" >Imputation type</td>\n",
       "      <td id=\"T_d72a7_row9_col1\" class=\"data row9 col1\" >simple</td>\n",
       "    </tr>\n",
       "    <tr>\n",
       "      <th id=\"T_d72a7_level0_row10\" class=\"row_heading level0 row10\" >10</th>\n",
       "      <td id=\"T_d72a7_row10_col0\" class=\"data row10 col0\" >Numeric imputation</td>\n",
       "      <td id=\"T_d72a7_row10_col1\" class=\"data row10 col1\" >mean</td>\n",
       "    </tr>\n",
       "    <tr>\n",
       "      <th id=\"T_d72a7_level0_row11\" class=\"row_heading level0 row11\" >11</th>\n",
       "      <td id=\"T_d72a7_row11_col0\" class=\"data row11 col0\" >Categorical imputation</td>\n",
       "      <td id=\"T_d72a7_row11_col1\" class=\"data row11 col1\" >mode</td>\n",
       "    </tr>\n",
       "    <tr>\n",
       "      <th id=\"T_d72a7_level0_row12\" class=\"row_heading level0 row12\" >12</th>\n",
       "      <td id=\"T_d72a7_row12_col0\" class=\"data row12 col0\" >Fold Generator</td>\n",
       "      <td id=\"T_d72a7_row12_col1\" class=\"data row12 col1\" >StratifiedKFold</td>\n",
       "    </tr>\n",
       "    <tr>\n",
       "      <th id=\"T_d72a7_level0_row13\" class=\"row_heading level0 row13\" >13</th>\n",
       "      <td id=\"T_d72a7_row13_col0\" class=\"data row13 col0\" >Fold Number</td>\n",
       "      <td id=\"T_d72a7_row13_col1\" class=\"data row13 col1\" >10</td>\n",
       "    </tr>\n",
       "    <tr>\n",
       "      <th id=\"T_d72a7_level0_row14\" class=\"row_heading level0 row14\" >14</th>\n",
       "      <td id=\"T_d72a7_row14_col0\" class=\"data row14 col0\" >CPU Jobs</td>\n",
       "      <td id=\"T_d72a7_row14_col1\" class=\"data row14 col1\" >-2</td>\n",
       "    </tr>\n",
       "    <tr>\n",
       "      <th id=\"T_d72a7_level0_row15\" class=\"row_heading level0 row15\" >15</th>\n",
       "      <td id=\"T_d72a7_row15_col0\" class=\"data row15 col0\" >Use GPU</td>\n",
       "      <td id=\"T_d72a7_row15_col1\" class=\"data row15 col1\" >False</td>\n",
       "    </tr>\n",
       "    <tr>\n",
       "      <th id=\"T_d72a7_level0_row16\" class=\"row_heading level0 row16\" >16</th>\n",
       "      <td id=\"T_d72a7_row16_col0\" class=\"data row16 col0\" >Log Experiment</td>\n",
       "      <td id=\"T_d72a7_row16_col1\" class=\"data row16 col1\" >MlflowLogger</td>\n",
       "    </tr>\n",
       "    <tr>\n",
       "      <th id=\"T_d72a7_level0_row17\" class=\"row_heading level0 row17\" >17</th>\n",
       "      <td id=\"T_d72a7_row17_col0\" class=\"data row17 col0\" >Experiment Name</td>\n",
       "      <td id=\"T_d72a7_row17_col1\" class=\"data row17 col1\" >regression_xp</td>\n",
       "    </tr>\n",
       "    <tr>\n",
       "      <th id=\"T_d72a7_level0_row18\" class=\"row_heading level0 row18\" >18</th>\n",
       "      <td id=\"T_d72a7_row18_col0\" class=\"data row18 col0\" >USI</td>\n",
       "      <td id=\"T_d72a7_row18_col1\" class=\"data row18 col1\" >79be</td>\n",
       "    </tr>\n",
       "  </tbody>\n",
       "</table>\n"
      ],
      "text/plain": [
       "<pandas.io.formats.style.Styler at 0x1a7af284d00>"
      ]
     },
     "metadata": {},
     "output_type": "display_data"
    },
    {
     "data": {
      "text/plain": [
       "Name                                                       Log Loss\n",
       "Display Name                                               Log Loss\n",
       "Score Function            <function log_loss at 0x000001A7A9B32680>\n",
       "Scorer               make_scorer(log_loss, greater_is_better=False)\n",
       "Target                                                         pred\n",
       "Args                                                             {}\n",
       "Greater is Better                                             False\n",
       "Custom                                                         True\n",
       "Name: logloss, dtype: object"
      ]
     },
     "execution_count": 11,
     "metadata": {},
     "output_type": "execute_result"
    }
   ],
   "source": [
    "regression_xp = RegressionExperiment()\n",
    "regression_xp.setup(data = train,\n",
    "                    session_id = seed,\n",
    "                    fold = 10,\n",
    "                    test_data = test,\n",
    "                    n_jobs = -2,\n",
    "                    fold_strategy = 'stratifiedkfold',\n",
    "                    experiment_name = 'regression_xp',\n",
    "                    log_experiment='mlflow')\n",
    "regression_xp.add_metric('logloss', 'Log Loss', log_loss, greater_is_better = False)"
   ]
  },
  {
   "cell_type": "code",
   "execution_count": 12,
   "metadata": {},
   "outputs": [
    {
     "data": {
      "text/html": [],
      "text/plain": [
       "<IPython.core.display.HTML object>"
      ]
     },
     "metadata": {},
     "output_type": "display_data"
    },
    {
     "data": {
      "text/html": [
       "<style type=\"text/css\">\n",
       "#T_bb8f9 th {\n",
       "  text-align: left;\n",
       "}\n",
       "#T_bb8f9_row0_col0, #T_bb8f9_row0_col1, #T_bb8f9_row0_col6, #T_bb8f9_row1_col0, #T_bb8f9_row1_col1, #T_bb8f9_row1_col2, #T_bb8f9_row1_col3, #T_bb8f9_row1_col4, #T_bb8f9_row1_col5, #T_bb8f9_row1_col6, #T_bb8f9_row2_col0, #T_bb8f9_row2_col1, #T_bb8f9_row2_col2, #T_bb8f9_row2_col3, #T_bb8f9_row2_col4, #T_bb8f9_row2_col5, #T_bb8f9_row2_col6, #T_bb8f9_row3_col0, #T_bb8f9_row3_col2, #T_bb8f9_row3_col3, #T_bb8f9_row3_col4, #T_bb8f9_row3_col5, #T_bb8f9_row4_col0, #T_bb8f9_row4_col1, #T_bb8f9_row4_col2, #T_bb8f9_row4_col3, #T_bb8f9_row4_col4, #T_bb8f9_row4_col5, #T_bb8f9_row4_col6, #T_bb8f9_row5_col0, #T_bb8f9_row5_col1, #T_bb8f9_row5_col2, #T_bb8f9_row5_col3, #T_bb8f9_row5_col4, #T_bb8f9_row5_col5, #T_bb8f9_row5_col6, #T_bb8f9_row6_col0, #T_bb8f9_row6_col1, #T_bb8f9_row6_col2, #T_bb8f9_row6_col3, #T_bb8f9_row6_col4, #T_bb8f9_row6_col5, #T_bb8f9_row6_col6, #T_bb8f9_row7_col0, #T_bb8f9_row7_col1, #T_bb8f9_row7_col2, #T_bb8f9_row7_col3, #T_bb8f9_row7_col4, #T_bb8f9_row7_col5, #T_bb8f9_row7_col6, #T_bb8f9_row8_col0, #T_bb8f9_row8_col1, #T_bb8f9_row8_col2, #T_bb8f9_row8_col3, #T_bb8f9_row8_col4, #T_bb8f9_row8_col5, #T_bb8f9_row8_col6, #T_bb8f9_row9_col0, #T_bb8f9_row9_col1, #T_bb8f9_row9_col2, #T_bb8f9_row9_col3, #T_bb8f9_row9_col4, #T_bb8f9_row9_col5, #T_bb8f9_row9_col6, #T_bb8f9_row10_col0, #T_bb8f9_row10_col1, #T_bb8f9_row10_col2, #T_bb8f9_row10_col3, #T_bb8f9_row10_col4, #T_bb8f9_row10_col5, #T_bb8f9_row10_col6, #T_bb8f9_row11_col0, #T_bb8f9_row11_col1, #T_bb8f9_row11_col2, #T_bb8f9_row11_col3, #T_bb8f9_row11_col4, #T_bb8f9_row11_col5, #T_bb8f9_row11_col6, #T_bb8f9_row12_col0, #T_bb8f9_row12_col1, #T_bb8f9_row12_col2, #T_bb8f9_row12_col3, #T_bb8f9_row12_col4, #T_bb8f9_row12_col5, #T_bb8f9_row12_col6, #T_bb8f9_row13_col0, #T_bb8f9_row13_col1, #T_bb8f9_row13_col2, #T_bb8f9_row13_col3, #T_bb8f9_row13_col4, #T_bb8f9_row13_col5, #T_bb8f9_row13_col6, #T_bb8f9_row14_col0, #T_bb8f9_row14_col1, #T_bb8f9_row14_col2, #T_bb8f9_row14_col3, #T_bb8f9_row14_col4, #T_bb8f9_row14_col5, #T_bb8f9_row14_col6, #T_bb8f9_row15_col0, #T_bb8f9_row15_col1, #T_bb8f9_row15_col2, #T_bb8f9_row15_col3, #T_bb8f9_row15_col4, #T_bb8f9_row15_col5, #T_bb8f9_row15_col6, #T_bb8f9_row16_col0, #T_bb8f9_row16_col1, #T_bb8f9_row16_col2, #T_bb8f9_row16_col3, #T_bb8f9_row16_col4, #T_bb8f9_row16_col5, #T_bb8f9_row16_col6, #T_bb8f9_row17_col0, #T_bb8f9_row17_col1, #T_bb8f9_row17_col2, #T_bb8f9_row17_col3, #T_bb8f9_row17_col4, #T_bb8f9_row17_col5, #T_bb8f9_row17_col6 {\n",
       "  text-align: left;\n",
       "}\n",
       "#T_bb8f9_row0_col2, #T_bb8f9_row0_col3, #T_bb8f9_row0_col4, #T_bb8f9_row0_col5, #T_bb8f9_row0_col7, #T_bb8f9_row1_col7, #T_bb8f9_row2_col7, #T_bb8f9_row3_col1, #T_bb8f9_row3_col6, #T_bb8f9_row3_col7, #T_bb8f9_row4_col7, #T_bb8f9_row5_col7, #T_bb8f9_row6_col7, #T_bb8f9_row7_col7, #T_bb8f9_row8_col7, #T_bb8f9_row9_col7, #T_bb8f9_row10_col7, #T_bb8f9_row11_col7, #T_bb8f9_row12_col7, #T_bb8f9_row13_col7, #T_bb8f9_row14_col7, #T_bb8f9_row15_col7, #T_bb8f9_row16_col7, #T_bb8f9_row17_col7 {\n",
       "  text-align: left;\n",
       "  background-color: yellow;\n",
       "}\n",
       "#T_bb8f9_row0_col8, #T_bb8f9_row1_col8, #T_bb8f9_row2_col8, #T_bb8f9_row3_col8, #T_bb8f9_row4_col8, #T_bb8f9_row5_col8, #T_bb8f9_row6_col8, #T_bb8f9_row7_col8, #T_bb8f9_row9_col8, #T_bb8f9_row10_col8, #T_bb8f9_row11_col8, #T_bb8f9_row12_col8, #T_bb8f9_row13_col8, #T_bb8f9_row14_col8, #T_bb8f9_row15_col8, #T_bb8f9_row16_col8, #T_bb8f9_row17_col8 {\n",
       "  text-align: left;\n",
       "  background-color: lightgrey;\n",
       "}\n",
       "#T_bb8f9_row8_col8 {\n",
       "  text-align: left;\n",
       "  background-color: yellow;\n",
       "  background-color: lightgrey;\n",
       "}\n",
       "</style>\n",
       "<table id=\"T_bb8f9\">\n",
       "  <thead>\n",
       "    <tr>\n",
       "      <th class=\"blank level0\" >&nbsp;</th>\n",
       "      <th id=\"T_bb8f9_level0_col0\" class=\"col_heading level0 col0\" >Model</th>\n",
       "      <th id=\"T_bb8f9_level0_col1\" class=\"col_heading level0 col1\" >MAE</th>\n",
       "      <th id=\"T_bb8f9_level0_col2\" class=\"col_heading level0 col2\" >MSE</th>\n",
       "      <th id=\"T_bb8f9_level0_col3\" class=\"col_heading level0 col3\" >RMSE</th>\n",
       "      <th id=\"T_bb8f9_level0_col4\" class=\"col_heading level0 col4\" >R2</th>\n",
       "      <th id=\"T_bb8f9_level0_col5\" class=\"col_heading level0 col5\" >RMSLE</th>\n",
       "      <th id=\"T_bb8f9_level0_col6\" class=\"col_heading level0 col6\" >MAPE</th>\n",
       "      <th id=\"T_bb8f9_level0_col7\" class=\"col_heading level0 col7\" >Log Loss</th>\n",
       "      <th id=\"T_bb8f9_level0_col8\" class=\"col_heading level0 col8\" >TT (Sec)</th>\n",
       "    </tr>\n",
       "  </thead>\n",
       "  <tbody>\n",
       "    <tr>\n",
       "      <th id=\"T_bb8f9_level0_row0\" class=\"row_heading level0 row0\" >et</th>\n",
       "      <td id=\"T_bb8f9_row0_col0\" class=\"data row0 col0\" >Extra Trees Regressor</td>\n",
       "      <td id=\"T_bb8f9_row0_col1\" class=\"data row0 col1\" >0.1083</td>\n",
       "      <td id=\"T_bb8f9_row0_col2\" class=\"data row0 col2\" >0.0876</td>\n",
       "      <td id=\"T_bb8f9_row0_col3\" class=\"data row0 col3\" >0.2552</td>\n",
       "      <td id=\"T_bb8f9_row0_col4\" class=\"data row0 col4\" >0.9985</td>\n",
       "      <td id=\"T_bb8f9_row0_col5\" class=\"data row0 col5\" >0.0257</td>\n",
       "      <td id=\"T_bb8f9_row0_col6\" class=\"data row0 col6\" >0.0145</td>\n",
       "      <td id=\"T_bb8f9_row0_col7\" class=\"data row0 col7\" >0.0000</td>\n",
       "      <td id=\"T_bb8f9_row0_col8\" class=\"data row0 col8\" >0.3180</td>\n",
       "    </tr>\n",
       "    <tr>\n",
       "      <th id=\"T_bb8f9_level0_row1\" class=\"row_heading level0 row1\" >rf</th>\n",
       "      <td id=\"T_bb8f9_row1_col0\" class=\"data row1 col0\" >Random Forest Regressor</td>\n",
       "      <td id=\"T_bb8f9_row1_col1\" class=\"data row1 col1\" >0.1136</td>\n",
       "      <td id=\"T_bb8f9_row1_col2\" class=\"data row1 col2\" >0.0953</td>\n",
       "      <td id=\"T_bb8f9_row1_col3\" class=\"data row1 col3\" >0.2721</td>\n",
       "      <td id=\"T_bb8f9_row1_col4\" class=\"data row1 col4\" >0.9983</td>\n",
       "      <td id=\"T_bb8f9_row1_col5\" class=\"data row1 col5\" >0.0281</td>\n",
       "      <td id=\"T_bb8f9_row1_col6\" class=\"data row1 col6\" >0.0147</td>\n",
       "      <td id=\"T_bb8f9_row1_col7\" class=\"data row1 col7\" >0.0000</td>\n",
       "      <td id=\"T_bb8f9_row1_col8\" class=\"data row1 col8\" >0.2750</td>\n",
       "    </tr>\n",
       "    <tr>\n",
       "      <th id=\"T_bb8f9_level0_row2\" class=\"row_heading level0 row2\" >lightgbm</th>\n",
       "      <td id=\"T_bb8f9_row2_col0\" class=\"data row2 col0\" >Light Gradient Boosting Machine</td>\n",
       "      <td id=\"T_bb8f9_row2_col1\" class=\"data row2 col1\" >0.1936</td>\n",
       "      <td id=\"T_bb8f9_row2_col2\" class=\"data row2 col2\" >0.1234</td>\n",
       "      <td id=\"T_bb8f9_row2_col3\" class=\"data row2 col3\" >0.3231</td>\n",
       "      <td id=\"T_bb8f9_row2_col4\" class=\"data row2 col4\" >0.9978</td>\n",
       "      <td id=\"T_bb8f9_row2_col5\" class=\"data row2 col5\" >0.0388</td>\n",
       "      <td id=\"T_bb8f9_row2_col6\" class=\"data row2 col6\" >0.0302</td>\n",
       "      <td id=\"T_bb8f9_row2_col7\" class=\"data row2 col7\" >0.0000</td>\n",
       "      <td id=\"T_bb8f9_row2_col8\" class=\"data row2 col8\" >0.2340</td>\n",
       "    </tr>\n",
       "    <tr>\n",
       "      <th id=\"T_bb8f9_level0_row3\" class=\"row_heading level0 row3\" >dt</th>\n",
       "      <td id=\"T_bb8f9_row3_col0\" class=\"data row3 col0\" >Decision Tree Regressor</td>\n",
       "      <td id=\"T_bb8f9_row3_col1\" class=\"data row3 col1\" >0.0988</td>\n",
       "      <td id=\"T_bb8f9_row3_col2\" class=\"data row3 col2\" >0.1433</td>\n",
       "      <td id=\"T_bb8f9_row3_col3\" class=\"data row3 col3\" >0.3556</td>\n",
       "      <td id=\"T_bb8f9_row3_col4\" class=\"data row3 col4\" >0.9975</td>\n",
       "      <td id=\"T_bb8f9_row3_col5\" class=\"data row3 col5\" >0.0384</td>\n",
       "      <td id=\"T_bb8f9_row3_col6\" class=\"data row3 col6\" >0.0127</td>\n",
       "      <td id=\"T_bb8f9_row3_col7\" class=\"data row3 col7\" >0.0000</td>\n",
       "      <td id=\"T_bb8f9_row3_col8\" class=\"data row3 col8\" >0.2250</td>\n",
       "    </tr>\n",
       "    <tr>\n",
       "      <th id=\"T_bb8f9_level0_row4\" class=\"row_heading level0 row4\" >gbr</th>\n",
       "      <td id=\"T_bb8f9_row4_col0\" class=\"data row4 col0\" >Gradient Boosting Regressor</td>\n",
       "      <td id=\"T_bb8f9_row4_col1\" class=\"data row4 col1\" >0.3185</td>\n",
       "      <td id=\"T_bb8f9_row4_col2\" class=\"data row4 col2\" >0.2489</td>\n",
       "      <td id=\"T_bb8f9_row4_col3\" class=\"data row4 col3\" >0.4879</td>\n",
       "      <td id=\"T_bb8f9_row4_col4\" class=\"data row4 col4\" >0.9956</td>\n",
       "      <td id=\"T_bb8f9_row4_col5\" class=\"data row4 col5\" >0.0921</td>\n",
       "      <td id=\"T_bb8f9_row4_col6\" class=\"data row4 col6\" >0.0571</td>\n",
       "      <td id=\"T_bb8f9_row4_col7\" class=\"data row4 col7\" >0.0000</td>\n",
       "      <td id=\"T_bb8f9_row4_col8\" class=\"data row4 col8\" >0.2310</td>\n",
       "    </tr>\n",
       "    <tr>\n",
       "      <th id=\"T_bb8f9_level0_row5\" class=\"row_heading level0 row5\" >knn</th>\n",
       "      <td id=\"T_bb8f9_row5_col0\" class=\"data row5 col0\" >K Neighbors Regressor</td>\n",
       "      <td id=\"T_bb8f9_row5_col1\" class=\"data row5 col1\" >0.6804</td>\n",
       "      <td id=\"T_bb8f9_row5_col2\" class=\"data row5 col2\" >1.4377</td>\n",
       "      <td id=\"T_bb8f9_row5_col3\" class=\"data row5 col3\" >1.1968</td>\n",
       "      <td id=\"T_bb8f9_row5_col4\" class=\"data row5 col4\" >0.9748</td>\n",
       "      <td id=\"T_bb8f9_row5_col5\" class=\"data row5 col5\" >0.1440</td>\n",
       "      <td id=\"T_bb8f9_row5_col6\" class=\"data row5 col6\" >0.0905</td>\n",
       "      <td id=\"T_bb8f9_row5_col7\" class=\"data row5 col7\" >0.0000</td>\n",
       "      <td id=\"T_bb8f9_row5_col8\" class=\"data row5 col8\" >0.2340</td>\n",
       "    </tr>\n",
       "    <tr>\n",
       "      <th id=\"T_bb8f9_level0_row6\" class=\"row_heading level0 row6\" >ada</th>\n",
       "      <td id=\"T_bb8f9_row6_col0\" class=\"data row6 col0\" >AdaBoost Regressor</td>\n",
       "      <td id=\"T_bb8f9_row6_col1\" class=\"data row6 col1\" >1.8169</td>\n",
       "      <td id=\"T_bb8f9_row6_col2\" class=\"data row6 col2\" >4.9567</td>\n",
       "      <td id=\"T_bb8f9_row6_col3\" class=\"data row6 col3\" >2.2241</td>\n",
       "      <td id=\"T_bb8f9_row6_col4\" class=\"data row6 col4\" >0.9130</td>\n",
       "      <td id=\"T_bb8f9_row6_col5\" class=\"data row6 col5\" >0.7367</td>\n",
       "      <td id=\"T_bb8f9_row6_col6\" class=\"data row6 col6\" >0.2314</td>\n",
       "      <td id=\"T_bb8f9_row6_col7\" class=\"data row6 col7\" >0.0000</td>\n",
       "      <td id=\"T_bb8f9_row6_col8\" class=\"data row6 col8\" >0.2290</td>\n",
       "    </tr>\n",
       "    <tr>\n",
       "      <th id=\"T_bb8f9_level0_row7\" class=\"row_heading level0 row7\" >lar</th>\n",
       "      <td id=\"T_bb8f9_row7_col0\" class=\"data row7 col0\" >Least Angle Regression</td>\n",
       "      <td id=\"T_bb8f9_row7_col1\" class=\"data row7 col1\" >4.1534</td>\n",
       "      <td id=\"T_bb8f9_row7_col2\" class=\"data row7 col2\" >25.9665</td>\n",
       "      <td id=\"T_bb8f9_row7_col3\" class=\"data row7 col3\" >5.0947</td>\n",
       "      <td id=\"T_bb8f9_row7_col4\" class=\"data row7 col4\" >0.5444</td>\n",
       "      <td id=\"T_bb8f9_row7_col5\" class=\"data row7 col5\" >0.9643</td>\n",
       "      <td id=\"T_bb8f9_row7_col6\" class=\"data row7 col6\" >0.5190</td>\n",
       "      <td id=\"T_bb8f9_row7_col7\" class=\"data row7 col7\" >0.0000</td>\n",
       "      <td id=\"T_bb8f9_row7_col8\" class=\"data row7 col8\" >0.2330</td>\n",
       "    </tr>\n",
       "    <tr>\n",
       "      <th id=\"T_bb8f9_level0_row8\" class=\"row_heading level0 row8\" >br</th>\n",
       "      <td id=\"T_bb8f9_row8_col0\" class=\"data row8 col0\" >Bayesian Ridge</td>\n",
       "      <td id=\"T_bb8f9_row8_col1\" class=\"data row8 col1\" >4.1535</td>\n",
       "      <td id=\"T_bb8f9_row8_col2\" class=\"data row8 col2\" >25.9665</td>\n",
       "      <td id=\"T_bb8f9_row8_col3\" class=\"data row8 col3\" >5.0947</td>\n",
       "      <td id=\"T_bb8f9_row8_col4\" class=\"data row8 col4\" >0.5444</td>\n",
       "      <td id=\"T_bb8f9_row8_col5\" class=\"data row8 col5\" >0.9644</td>\n",
       "      <td id=\"T_bb8f9_row8_col6\" class=\"data row8 col6\" >0.5190</td>\n",
       "      <td id=\"T_bb8f9_row8_col7\" class=\"data row8 col7\" >0.0000</td>\n",
       "      <td id=\"T_bb8f9_row8_col8\" class=\"data row8 col8\" >0.2220</td>\n",
       "    </tr>\n",
       "    <tr>\n",
       "      <th id=\"T_bb8f9_level0_row9\" class=\"row_heading level0 row9\" >lr</th>\n",
       "      <td id=\"T_bb8f9_row9_col0\" class=\"data row9 col0\" >Linear Regression</td>\n",
       "      <td id=\"T_bb8f9_row9_col1\" class=\"data row9 col1\" >4.1534</td>\n",
       "      <td id=\"T_bb8f9_row9_col2\" class=\"data row9 col2\" >25.9666</td>\n",
       "      <td id=\"T_bb8f9_row9_col3\" class=\"data row9 col3\" >5.0948</td>\n",
       "      <td id=\"T_bb8f9_row9_col4\" class=\"data row9 col4\" >0.5444</td>\n",
       "      <td id=\"T_bb8f9_row9_col5\" class=\"data row9 col5\" >0.9643</td>\n",
       "      <td id=\"T_bb8f9_row9_col6\" class=\"data row9 col6\" >0.5190</td>\n",
       "      <td id=\"T_bb8f9_row9_col7\" class=\"data row9 col7\" >0.0000</td>\n",
       "      <td id=\"T_bb8f9_row9_col8\" class=\"data row9 col8\" >0.7580</td>\n",
       "    </tr>\n",
       "    <tr>\n",
       "      <th id=\"T_bb8f9_level0_row10\" class=\"row_heading level0 row10\" >ridge</th>\n",
       "      <td id=\"T_bb8f9_row10_col0\" class=\"data row10 col0\" >Ridge Regression</td>\n",
       "      <td id=\"T_bb8f9_row10_col1\" class=\"data row10 col1\" >4.1587</td>\n",
       "      <td id=\"T_bb8f9_row10_col2\" class=\"data row10 col2\" >25.9738</td>\n",
       "      <td id=\"T_bb8f9_row10_col3\" class=\"data row10 col3\" >5.0955</td>\n",
       "      <td id=\"T_bb8f9_row10_col4\" class=\"data row10 col4\" >0.5443</td>\n",
       "      <td id=\"T_bb8f9_row10_col5\" class=\"data row10 col5\" >0.9688</td>\n",
       "      <td id=\"T_bb8f9_row10_col6\" class=\"data row10 col6\" >0.5213</td>\n",
       "      <td id=\"T_bb8f9_row10_col7\" class=\"data row10 col7\" >0.0000</td>\n",
       "      <td id=\"T_bb8f9_row10_col8\" class=\"data row10 col8\" >0.2390</td>\n",
       "    </tr>\n",
       "    <tr>\n",
       "      <th id=\"T_bb8f9_level0_row11\" class=\"row_heading level0 row11\" >omp</th>\n",
       "      <td id=\"T_bb8f9_row11_col0\" class=\"data row11 col0\" >Orthogonal Matching Pursuit</td>\n",
       "      <td id=\"T_bb8f9_row11_col1\" class=\"data row11 col1\" >4.1757</td>\n",
       "      <td id=\"T_bb8f9_row11_col2\" class=\"data row11 col2\" >26.2217</td>\n",
       "      <td id=\"T_bb8f9_row11_col3\" class=\"data row11 col3\" >5.1198</td>\n",
       "      <td id=\"T_bb8f9_row11_col4\" class=\"data row11 col4\" >0.5399</td>\n",
       "      <td id=\"T_bb8f9_row11_col5\" class=\"data row11 col5\" >0.9679</td>\n",
       "      <td id=\"T_bb8f9_row11_col6\" class=\"data row11 col6\" >0.5232</td>\n",
       "      <td id=\"T_bb8f9_row11_col7\" class=\"data row11 col7\" >0.0000</td>\n",
       "      <td id=\"T_bb8f9_row11_col8\" class=\"data row11 col8\" >0.2250</td>\n",
       "    </tr>\n",
       "    <tr>\n",
       "      <th id=\"T_bb8f9_level0_row12\" class=\"row_heading level0 row12\" >huber</th>\n",
       "      <td id=\"T_bb8f9_row12_col0\" class=\"data row12 col0\" >Huber Regressor</td>\n",
       "      <td id=\"T_bb8f9_row12_col1\" class=\"data row12 col1\" >4.3798</td>\n",
       "      <td id=\"T_bb8f9_row12_col2\" class=\"data row12 col2\" >36.7296</td>\n",
       "      <td id=\"T_bb8f9_row12_col3\" class=\"data row12 col3\" >6.0591</td>\n",
       "      <td id=\"T_bb8f9_row12_col4\" class=\"data row12 col4\" >0.3555</td>\n",
       "      <td id=\"T_bb8f9_row12_col5\" class=\"data row12 col5\" >0.9771</td>\n",
       "      <td id=\"T_bb8f9_row12_col6\" class=\"data row12 col6\" >0.4776</td>\n",
       "      <td id=\"T_bb8f9_row12_col7\" class=\"data row12 col7\" >0.0000</td>\n",
       "      <td id=\"T_bb8f9_row12_col8\" class=\"data row12 col8\" >0.2230</td>\n",
       "    </tr>\n",
       "    <tr>\n",
       "      <th id=\"T_bb8f9_level0_row13\" class=\"row_heading level0 row13\" >en</th>\n",
       "      <td id=\"T_bb8f9_row13_col0\" class=\"data row13 col0\" >Elastic Net</td>\n",
       "      <td id=\"T_bb8f9_row13_col1\" class=\"data row13 col1\" >6.7498</td>\n",
       "      <td id=\"T_bb8f9_row13_col2\" class=\"data row13 col2\" >56.8327</td>\n",
       "      <td id=\"T_bb8f9_row13_col3\" class=\"data row13 col3\" >7.5387</td>\n",
       "      <td id=\"T_bb8f9_row13_col4\" class=\"data row13 col4\" >0.0029</td>\n",
       "      <td id=\"T_bb8f9_row13_col5\" class=\"data row13 col5\" >1.2654</td>\n",
       "      <td id=\"T_bb8f9_row13_col6\" class=\"data row13 col6\" >0.8492</td>\n",
       "      <td id=\"T_bb8f9_row13_col7\" class=\"data row13 col7\" >0.0000</td>\n",
       "      <td id=\"T_bb8f9_row13_col8\" class=\"data row13 col8\" >0.2360</td>\n",
       "    </tr>\n",
       "    <tr>\n",
       "      <th id=\"T_bb8f9_level0_row14\" class=\"row_heading level0 row14\" >lasso</th>\n",
       "      <td id=\"T_bb8f9_row14_col0\" class=\"data row14 col0\" >Lasso Regression</td>\n",
       "      <td id=\"T_bb8f9_row14_col1\" class=\"data row14 col1\" >6.7565</td>\n",
       "      <td id=\"T_bb8f9_row14_col2\" class=\"data row14 col2\" >56.8930</td>\n",
       "      <td id=\"T_bb8f9_row14_col3\" class=\"data row14 col3\" >7.5427</td>\n",
       "      <td id=\"T_bb8f9_row14_col4\" class=\"data row14 col4\" >0.0018</td>\n",
       "      <td id=\"T_bb8f9_row14_col5\" class=\"data row14 col5\" >1.2659</td>\n",
       "      <td id=\"T_bb8f9_row14_col6\" class=\"data row14 col6\" >0.8504</td>\n",
       "      <td id=\"T_bb8f9_row14_col7\" class=\"data row14 col7\" >0.0000</td>\n",
       "      <td id=\"T_bb8f9_row14_col8\" class=\"data row14 col8\" >0.3280</td>\n",
       "    </tr>\n",
       "    <tr>\n",
       "      <th id=\"T_bb8f9_level0_row15\" class=\"row_heading level0 row15\" >llar</th>\n",
       "      <td id=\"T_bb8f9_row15_col0\" class=\"data row15 col0\" >Lasso Least Angle Regression</td>\n",
       "      <td id=\"T_bb8f9_row15_col1\" class=\"data row15 col1\" >6.7657</td>\n",
       "      <td id=\"T_bb8f9_row15_col2\" class=\"data row15 col2\" >56.9981</td>\n",
       "      <td id=\"T_bb8f9_row15_col3\" class=\"data row15 col3\" >7.5497</td>\n",
       "      <td id=\"T_bb8f9_row15_col4\" class=\"data row15 col4\" >-0.0000</td>\n",
       "      <td id=\"T_bb8f9_row15_col5\" class=\"data row15 col5\" >1.2665</td>\n",
       "      <td id=\"T_bb8f9_row15_col6\" class=\"data row15 col6\" >0.8521</td>\n",
       "      <td id=\"T_bb8f9_row15_col7\" class=\"data row15 col7\" >0.0000</td>\n",
       "      <td id=\"T_bb8f9_row15_col8\" class=\"data row15 col8\" >0.2250</td>\n",
       "    </tr>\n",
       "    <tr>\n",
       "      <th id=\"T_bb8f9_level0_row16\" class=\"row_heading level0 row16\" >dummy</th>\n",
       "      <td id=\"T_bb8f9_row16_col0\" class=\"data row16 col0\" >Dummy Regressor</td>\n",
       "      <td id=\"T_bb8f9_row16_col1\" class=\"data row16 col1\" >6.7657</td>\n",
       "      <td id=\"T_bb8f9_row16_col2\" class=\"data row16 col2\" >56.9981</td>\n",
       "      <td id=\"T_bb8f9_row16_col3\" class=\"data row16 col3\" >7.5497</td>\n",
       "      <td id=\"T_bb8f9_row16_col4\" class=\"data row16 col4\" >-0.0000</td>\n",
       "      <td id=\"T_bb8f9_row16_col5\" class=\"data row16 col5\" >1.2665</td>\n",
       "      <td id=\"T_bb8f9_row16_col6\" class=\"data row16 col6\" >0.8521</td>\n",
       "      <td id=\"T_bb8f9_row16_col7\" class=\"data row16 col7\" >0.0000</td>\n",
       "      <td id=\"T_bb8f9_row16_col8\" class=\"data row16 col8\" >0.2260</td>\n",
       "    </tr>\n",
       "    <tr>\n",
       "      <th id=\"T_bb8f9_level0_row17\" class=\"row_heading level0 row17\" >par</th>\n",
       "      <td id=\"T_bb8f9_row17_col0\" class=\"data row17 col0\" >Passive Aggressive Regressor</td>\n",
       "      <td id=\"T_bb8f9_row17_col1\" class=\"data row17 col1\" >7.5181</td>\n",
       "      <td id=\"T_bb8f9_row17_col2\" class=\"data row17 col2\" >85.0298</td>\n",
       "      <td id=\"T_bb8f9_row17_col3\" class=\"data row17 col3\" >9.0912</td>\n",
       "      <td id=\"T_bb8f9_row17_col4\" class=\"data row17 col4\" >-0.4929</td>\n",
       "      <td id=\"T_bb8f9_row17_col5\" class=\"data row17 col5\" >1.4033</td>\n",
       "      <td id=\"T_bb8f9_row17_col6\" class=\"data row17 col6\" >0.9581</td>\n",
       "      <td id=\"T_bb8f9_row17_col7\" class=\"data row17 col7\" >0.0000</td>\n",
       "      <td id=\"T_bb8f9_row17_col8\" class=\"data row17 col8\" >0.2250</td>\n",
       "    </tr>\n",
       "  </tbody>\n",
       "</table>\n"
      ],
      "text/plain": [
       "<pandas.io.formats.style.Styler at 0x1a7895988e0>"
      ]
     },
     "metadata": {},
     "output_type": "display_data"
    },
    {
     "data": {
      "text/html": [],
      "text/plain": [
       "<IPython.core.display.HTML object>"
      ]
     },
     "metadata": {},
     "output_type": "display_data"
    }
   ],
   "source": [
    "best_regression = regression_xp.compare_models()"
   ]
  },
  {
   "cell_type": "markdown",
   "metadata": {},
   "source": [
    "## Classificação"
   ]
  },
  {
   "cell_type": "code",
   "execution_count": 13,
   "metadata": {},
   "outputs": [
    {
     "data": {
      "text/html": [
       "<style type=\"text/css\">\n",
       "#T_fbc76_row9_col1 {\n",
       "  background-color: lightgreen;\n",
       "}\n",
       "</style>\n",
       "<table id=\"T_fbc76\">\n",
       "  <thead>\n",
       "    <tr>\n",
       "      <th class=\"blank level0\" >&nbsp;</th>\n",
       "      <th id=\"T_fbc76_level0_col0\" class=\"col_heading level0 col0\" >Description</th>\n",
       "      <th id=\"T_fbc76_level0_col1\" class=\"col_heading level0 col1\" >Value</th>\n",
       "    </tr>\n",
       "  </thead>\n",
       "  <tbody>\n",
       "    <tr>\n",
       "      <th id=\"T_fbc76_level0_row0\" class=\"row_heading level0 row0\" >0</th>\n",
       "      <td id=\"T_fbc76_row0_col0\" class=\"data row0 col0\" >Session id</td>\n",
       "      <td id=\"T_fbc76_row0_col1\" class=\"data row0 col1\" >123</td>\n",
       "    </tr>\n",
       "    <tr>\n",
       "      <th id=\"T_fbc76_level0_row1\" class=\"row_heading level0 row1\" >1</th>\n",
       "      <td id=\"T_fbc76_row1_col0\" class=\"data row1 col0\" >Target</td>\n",
       "      <td id=\"T_fbc76_row1_col1\" class=\"data row1 col1\" >shot_distance</td>\n",
       "    </tr>\n",
       "    <tr>\n",
       "      <th id=\"T_fbc76_level0_row2\" class=\"row_heading level0 row2\" >2</th>\n",
       "      <td id=\"T_fbc76_row2_col0\" class=\"data row2 col0\" >Target type</td>\n",
       "      <td id=\"T_fbc76_row2_col1\" class=\"data row2 col1\" >Multiclass</td>\n",
       "    </tr>\n",
       "    <tr>\n",
       "      <th id=\"T_fbc76_level0_row3\" class=\"row_heading level0 row3\" >3</th>\n",
       "      <td id=\"T_fbc76_row3_col0\" class=\"data row3 col0\" >Target mapping</td>\n",
       "      <td id=\"T_fbc76_row3_col1\" class=\"data row3 col1\" >0: 0, 1: 1, 2: 2, 3: 3, 4: 4, 5: 5, 6: 6, 7: 7, 8: 8, 9: 9, 10: 10, 11: 11, 12: 12, 13: 13, 14: 14, 15: 15, 16: 16, 17: 17, 18: 18, 19: 19, 20: 20, 21: 21, 22: 22, 23: 23, 26: 24, 50: 25</td>\n",
       "    </tr>\n",
       "    <tr>\n",
       "      <th id=\"T_fbc76_level0_row4\" class=\"row_heading level0 row4\" >4</th>\n",
       "      <td id=\"T_fbc76_row4_col0\" class=\"data row4 col0\" >Original data shape</td>\n",
       "      <td id=\"T_fbc76_row4_col1\" class=\"data row4 col1\" >(20285, 6)</td>\n",
       "    </tr>\n",
       "    <tr>\n",
       "      <th id=\"T_fbc76_level0_row5\" class=\"row_heading level0 row5\" >5</th>\n",
       "      <td id=\"T_fbc76_row5_col0\" class=\"data row5 col0\" >Transformed data shape</td>\n",
       "      <td id=\"T_fbc76_row5_col1\" class=\"data row5 col1\" >(20285, 6)</td>\n",
       "    </tr>\n",
       "    <tr>\n",
       "      <th id=\"T_fbc76_level0_row6\" class=\"row_heading level0 row6\" >6</th>\n",
       "      <td id=\"T_fbc76_row6_col0\" class=\"data row6 col0\" >Transformed train set shape</td>\n",
       "      <td id=\"T_fbc76_row6_col1\" class=\"data row6 col1\" >(16228, 6)</td>\n",
       "    </tr>\n",
       "    <tr>\n",
       "      <th id=\"T_fbc76_level0_row7\" class=\"row_heading level0 row7\" >7</th>\n",
       "      <td id=\"T_fbc76_row7_col0\" class=\"data row7 col0\" >Transformed test set shape</td>\n",
       "      <td id=\"T_fbc76_row7_col1\" class=\"data row7 col1\" >(4057, 6)</td>\n",
       "    </tr>\n",
       "    <tr>\n",
       "      <th id=\"T_fbc76_level0_row8\" class=\"row_heading level0 row8\" >8</th>\n",
       "      <td id=\"T_fbc76_row8_col0\" class=\"data row8 col0\" >Numeric features</td>\n",
       "      <td id=\"T_fbc76_row8_col1\" class=\"data row8 col1\" >5</td>\n",
       "    </tr>\n",
       "    <tr>\n",
       "      <th id=\"T_fbc76_level0_row9\" class=\"row_heading level0 row9\" >9</th>\n",
       "      <td id=\"T_fbc76_row9_col0\" class=\"data row9 col0\" >Preprocess</td>\n",
       "      <td id=\"T_fbc76_row9_col1\" class=\"data row9 col1\" >True</td>\n",
       "    </tr>\n",
       "    <tr>\n",
       "      <th id=\"T_fbc76_level0_row10\" class=\"row_heading level0 row10\" >10</th>\n",
       "      <td id=\"T_fbc76_row10_col0\" class=\"data row10 col0\" >Imputation type</td>\n",
       "      <td id=\"T_fbc76_row10_col1\" class=\"data row10 col1\" >simple</td>\n",
       "    </tr>\n",
       "    <tr>\n",
       "      <th id=\"T_fbc76_level0_row11\" class=\"row_heading level0 row11\" >11</th>\n",
       "      <td id=\"T_fbc76_row11_col0\" class=\"data row11 col0\" >Numeric imputation</td>\n",
       "      <td id=\"T_fbc76_row11_col1\" class=\"data row11 col1\" >mean</td>\n",
       "    </tr>\n",
       "    <tr>\n",
       "      <th id=\"T_fbc76_level0_row12\" class=\"row_heading level0 row12\" >12</th>\n",
       "      <td id=\"T_fbc76_row12_col0\" class=\"data row12 col0\" >Categorical imputation</td>\n",
       "      <td id=\"T_fbc76_row12_col1\" class=\"data row12 col1\" >mode</td>\n",
       "    </tr>\n",
       "    <tr>\n",
       "      <th id=\"T_fbc76_level0_row13\" class=\"row_heading level0 row13\" >13</th>\n",
       "      <td id=\"T_fbc76_row13_col0\" class=\"data row13 col0\" >Fold Generator</td>\n",
       "      <td id=\"T_fbc76_row13_col1\" class=\"data row13 col1\" >StratifiedKFold</td>\n",
       "    </tr>\n",
       "    <tr>\n",
       "      <th id=\"T_fbc76_level0_row14\" class=\"row_heading level0 row14\" >14</th>\n",
       "      <td id=\"T_fbc76_row14_col0\" class=\"data row14 col0\" >Fold Number</td>\n",
       "      <td id=\"T_fbc76_row14_col1\" class=\"data row14 col1\" >10</td>\n",
       "    </tr>\n",
       "    <tr>\n",
       "      <th id=\"T_fbc76_level0_row15\" class=\"row_heading level0 row15\" >15</th>\n",
       "      <td id=\"T_fbc76_row15_col0\" class=\"data row15 col0\" >CPU Jobs</td>\n",
       "      <td id=\"T_fbc76_row15_col1\" class=\"data row15 col1\" >-2</td>\n",
       "    </tr>\n",
       "    <tr>\n",
       "      <th id=\"T_fbc76_level0_row16\" class=\"row_heading level0 row16\" >16</th>\n",
       "      <td id=\"T_fbc76_row16_col0\" class=\"data row16 col0\" >Use GPU</td>\n",
       "      <td id=\"T_fbc76_row16_col1\" class=\"data row16 col1\" >False</td>\n",
       "    </tr>\n",
       "    <tr>\n",
       "      <th id=\"T_fbc76_level0_row17\" class=\"row_heading level0 row17\" >17</th>\n",
       "      <td id=\"T_fbc76_row17_col0\" class=\"data row17 col0\" >Log Experiment</td>\n",
       "      <td id=\"T_fbc76_row17_col1\" class=\"data row17 col1\" >MlflowLogger</td>\n",
       "    </tr>\n",
       "    <tr>\n",
       "      <th id=\"T_fbc76_level0_row18\" class=\"row_heading level0 row18\" >18</th>\n",
       "      <td id=\"T_fbc76_row18_col0\" class=\"data row18 col0\" >Experiment Name</td>\n",
       "      <td id=\"T_fbc76_row18_col1\" class=\"data row18 col1\" >classification_xp</td>\n",
       "    </tr>\n",
       "    <tr>\n",
       "      <th id=\"T_fbc76_level0_row19\" class=\"row_heading level0 row19\" >19</th>\n",
       "      <td id=\"T_fbc76_row19_col0\" class=\"data row19 col0\" >USI</td>\n",
       "      <td id=\"T_fbc76_row19_col1\" class=\"data row19 col1\" >04d2</td>\n",
       "    </tr>\n",
       "  </tbody>\n",
       "</table>\n"
      ],
      "text/plain": [
       "<pandas.io.formats.style.Styler at 0x1a7ae97cac0>"
      ]
     },
     "metadata": {},
     "output_type": "display_data"
    },
    {
     "data": {
      "text/plain": [
       "Name                                                       Log Loss\n",
       "Display Name                                               Log Loss\n",
       "Score Function            <function log_loss at 0x000001A7A9B32680>\n",
       "Scorer               make_scorer(log_loss, greater_is_better=False)\n",
       "Target                                                         pred\n",
       "Args                                                             {}\n",
       "Greater is Better                                             False\n",
       "Multiclass                                                     True\n",
       "Custom                                                         True\n",
       "Name: logloss, dtype: object"
      ]
     },
     "execution_count": 13,
     "metadata": {},
     "output_type": "execute_result"
    }
   ],
   "source": [
    "classification_xp = ClassificationExperiment()\n",
    "classification_xp.setup(\n",
    "    data = train,\n",
    "    session_id = seed,\n",
    "    fold = 10,\n",
    "    test_data = test,\n",
    "    n_jobs = -2,\n",
    "    fold_strategy = 'stratifiedkfold',\n",
    "    log_experiment='mlflow',\n",
    "    experiment_name = 'classification_xp')\n",
    "classification_xp.add_metric('logloss', 'Log Loss', log_loss, greater_is_better = False)"
   ]
  },
  {
   "cell_type": "code",
   "execution_count": 14,
   "metadata": {},
   "outputs": [],
   "source": [
    "# exp.add_metric('f1_score_custom', 'Custom F1 Score', f1_score_custom)"
   ]
  },
  {
   "cell_type": "code",
   "execution_count": 15,
   "metadata": {},
   "outputs": [
    {
     "data": {
      "text/html": [],
      "text/plain": [
       "<IPython.core.display.HTML object>"
      ]
     },
     "metadata": {},
     "output_type": "display_data"
    },
    {
     "data": {
      "text/html": [
       "<style type=\"text/css\">\n",
       "#T_f519c th {\n",
       "  text-align: left;\n",
       "}\n",
       "#T_f519c_row0_col0, #T_f519c_row0_col2, #T_f519c_row1_col0, #T_f519c_row1_col1, #T_f519c_row1_col3, #T_f519c_row1_col4, #T_f519c_row1_col5, #T_f519c_row1_col6, #T_f519c_row1_col7, #T_f519c_row2_col0, #T_f519c_row2_col1, #T_f519c_row2_col2, #T_f519c_row2_col3, #T_f519c_row2_col4, #T_f519c_row2_col5, #T_f519c_row2_col6, #T_f519c_row2_col7, #T_f519c_row3_col0, #T_f519c_row3_col1, #T_f519c_row3_col2, #T_f519c_row3_col3, #T_f519c_row3_col4, #T_f519c_row3_col5, #T_f519c_row3_col6, #T_f519c_row3_col7, #T_f519c_row4_col0, #T_f519c_row4_col1, #T_f519c_row4_col2, #T_f519c_row4_col3, #T_f519c_row4_col4, #T_f519c_row4_col5, #T_f519c_row4_col6, #T_f519c_row4_col7, #T_f519c_row5_col0, #T_f519c_row5_col1, #T_f519c_row5_col2, #T_f519c_row5_col3, #T_f519c_row5_col4, #T_f519c_row5_col5, #T_f519c_row5_col6, #T_f519c_row5_col7, #T_f519c_row6_col0, #T_f519c_row6_col1, #T_f519c_row6_col2, #T_f519c_row6_col3, #T_f519c_row6_col4, #T_f519c_row6_col5, #T_f519c_row6_col6, #T_f519c_row6_col7, #T_f519c_row7_col0, #T_f519c_row7_col1, #T_f519c_row7_col2, #T_f519c_row7_col3, #T_f519c_row7_col4, #T_f519c_row7_col5, #T_f519c_row7_col6, #T_f519c_row7_col7, #T_f519c_row8_col0, #T_f519c_row8_col1, #T_f519c_row8_col2, #T_f519c_row8_col3, #T_f519c_row8_col4, #T_f519c_row8_col5, #T_f519c_row8_col6, #T_f519c_row8_col7, #T_f519c_row9_col0, #T_f519c_row9_col1, #T_f519c_row9_col2, #T_f519c_row9_col3, #T_f519c_row9_col4, #T_f519c_row9_col5, #T_f519c_row9_col6, #T_f519c_row9_col7, #T_f519c_row10_col0, #T_f519c_row10_col1, #T_f519c_row10_col2, #T_f519c_row10_col3, #T_f519c_row10_col4, #T_f519c_row10_col5, #T_f519c_row10_col6, #T_f519c_row10_col7, #T_f519c_row11_col0, #T_f519c_row11_col1, #T_f519c_row11_col2, #T_f519c_row11_col3, #T_f519c_row11_col4, #T_f519c_row11_col5, #T_f519c_row11_col6, #T_f519c_row11_col7, #T_f519c_row12_col0, #T_f519c_row12_col1, #T_f519c_row12_col2, #T_f519c_row12_col3, #T_f519c_row12_col4, #T_f519c_row12_col5, #T_f519c_row12_col6, #T_f519c_row12_col7 {\n",
       "  text-align: left;\n",
       "}\n",
       "#T_f519c_row0_col1, #T_f519c_row0_col3, #T_f519c_row0_col4, #T_f519c_row0_col5, #T_f519c_row0_col6, #T_f519c_row0_col7, #T_f519c_row0_col8, #T_f519c_row1_col2, #T_f519c_row1_col8, #T_f519c_row2_col8, #T_f519c_row3_col8, #T_f519c_row4_col8, #T_f519c_row5_col8, #T_f519c_row6_col8, #T_f519c_row7_col8, #T_f519c_row8_col8, #T_f519c_row9_col8, #T_f519c_row10_col8, #T_f519c_row11_col8, #T_f519c_row12_col8 {\n",
       "  text-align: left;\n",
       "  background-color: yellow;\n",
       "}\n",
       "#T_f519c_row0_col9, #T_f519c_row1_col9, #T_f519c_row2_col9, #T_f519c_row3_col9, #T_f519c_row4_col9, #T_f519c_row5_col9, #T_f519c_row6_col9, #T_f519c_row7_col9, #T_f519c_row8_col9, #T_f519c_row9_col9, #T_f519c_row10_col9, #T_f519c_row11_col9 {\n",
       "  text-align: left;\n",
       "  background-color: lightgrey;\n",
       "}\n",
       "#T_f519c_row12_col9 {\n",
       "  text-align: left;\n",
       "  background-color: yellow;\n",
       "  background-color: lightgrey;\n",
       "}\n",
       "</style>\n",
       "<table id=\"T_f519c\">\n",
       "  <thead>\n",
       "    <tr>\n",
       "      <th class=\"blank level0\" >&nbsp;</th>\n",
       "      <th id=\"T_f519c_level0_col0\" class=\"col_heading level0 col0\" >Model</th>\n",
       "      <th id=\"T_f519c_level0_col1\" class=\"col_heading level0 col1\" >Accuracy</th>\n",
       "      <th id=\"T_f519c_level0_col2\" class=\"col_heading level0 col2\" >AUC</th>\n",
       "      <th id=\"T_f519c_level0_col3\" class=\"col_heading level0 col3\" >Recall</th>\n",
       "      <th id=\"T_f519c_level0_col4\" class=\"col_heading level0 col4\" >Prec.</th>\n",
       "      <th id=\"T_f519c_level0_col5\" class=\"col_heading level0 col5\" >F1</th>\n",
       "      <th id=\"T_f519c_level0_col6\" class=\"col_heading level0 col6\" >Kappa</th>\n",
       "      <th id=\"T_f519c_level0_col7\" class=\"col_heading level0 col7\" >MCC</th>\n",
       "      <th id=\"T_f519c_level0_col8\" class=\"col_heading level0 col8\" >Log Loss</th>\n",
       "      <th id=\"T_f519c_level0_col9\" class=\"col_heading level0 col9\" >TT (Sec)</th>\n",
       "    </tr>\n",
       "  </thead>\n",
       "  <tbody>\n",
       "    <tr>\n",
       "      <th id=\"T_f519c_level0_row0\" class=\"row_heading level0 row0\" >dt</th>\n",
       "      <td id=\"T_f519c_row0_col0\" class=\"data row0 col0\" >Decision Tree Classifier</td>\n",
       "      <td id=\"T_f519c_row0_col1\" class=\"data row0 col1\" >0.9000</td>\n",
       "      <td id=\"T_f519c_row0_col2\" class=\"data row0 col2\" >0.1888</td>\n",
       "      <td id=\"T_f519c_row0_col3\" class=\"data row0 col3\" >0.9000</td>\n",
       "      <td id=\"T_f519c_row0_col4\" class=\"data row0 col4\" >0.9011</td>\n",
       "      <td id=\"T_f519c_row0_col5\" class=\"data row0 col5\" >0.8997</td>\n",
       "      <td id=\"T_f519c_row0_col6\" class=\"data row0 col6\" >0.8910</td>\n",
       "      <td id=\"T_f519c_row0_col7\" class=\"data row0 col7\" >0.8911</td>\n",
       "      <td id=\"T_f519c_row0_col8\" class=\"data row0 col8\" >0.0000</td>\n",
       "      <td id=\"T_f519c_row0_col9\" class=\"data row0 col9\" >0.2680</td>\n",
       "    </tr>\n",
       "    <tr>\n",
       "      <th id=\"T_f519c_level0_row1\" class=\"row_heading level0 row1\" >rf</th>\n",
       "      <td id=\"T_f519c_row1_col0\" class=\"data row1 col0\" >Random Forest Classifier</td>\n",
       "      <td id=\"T_f519c_row1_col1\" class=\"data row1 col1\" >0.8331</td>\n",
       "      <td id=\"T_f519c_row1_col2\" class=\"data row1 col2\" >0.1987</td>\n",
       "      <td id=\"T_f519c_row1_col3\" class=\"data row1 col3\" >0.8331</td>\n",
       "      <td id=\"T_f519c_row1_col4\" class=\"data row1 col4\" >0.8337</td>\n",
       "      <td id=\"T_f519c_row1_col5\" class=\"data row1 col5\" >0.8315</td>\n",
       "      <td id=\"T_f519c_row1_col6\" class=\"data row1 col6\" >0.8180</td>\n",
       "      <td id=\"T_f519c_row1_col7\" class=\"data row1 col7\" >0.8181</td>\n",
       "      <td id=\"T_f519c_row1_col8\" class=\"data row1 col8\" >0.0000</td>\n",
       "      <td id=\"T_f519c_row1_col9\" class=\"data row1 col9\" >1.0110</td>\n",
       "    </tr>\n",
       "    <tr>\n",
       "      <th id=\"T_f519c_level0_row2\" class=\"row_heading level0 row2\" >gbc</th>\n",
       "      <td id=\"T_f519c_row2_col0\" class=\"data row2 col0\" >Gradient Boosting Classifier</td>\n",
       "      <td id=\"T_f519c_row2_col1\" class=\"data row2 col1\" >0.8316</td>\n",
       "      <td id=\"T_f519c_row2_col2\" class=\"data row2 col2\" >0.1984</td>\n",
       "      <td id=\"T_f519c_row2_col3\" class=\"data row2 col3\" >0.8316</td>\n",
       "      <td id=\"T_f519c_row2_col4\" class=\"data row2 col4\" >0.8347</td>\n",
       "      <td id=\"T_f519c_row2_col5\" class=\"data row2 col5\" >0.8316</td>\n",
       "      <td id=\"T_f519c_row2_col6\" class=\"data row2 col6\" >0.8165</td>\n",
       "      <td id=\"T_f519c_row2_col7\" class=\"data row2 col7\" >0.8167</td>\n",
       "      <td id=\"T_f519c_row2_col8\" class=\"data row2 col8\" >0.0000</td>\n",
       "      <td id=\"T_f519c_row2_col9\" class=\"data row2 col9\" >0.7720</td>\n",
       "    </tr>\n",
       "    <tr>\n",
       "      <th id=\"T_f519c_level0_row3\" class=\"row_heading level0 row3\" >et</th>\n",
       "      <td id=\"T_f519c_row3_col0\" class=\"data row3 col0\" >Extra Trees Classifier</td>\n",
       "      <td id=\"T_f519c_row3_col1\" class=\"data row3 col1\" >0.7658</td>\n",
       "      <td id=\"T_f519c_row3_col2\" class=\"data row3 col2\" >0.1980</td>\n",
       "      <td id=\"T_f519c_row3_col3\" class=\"data row3 col3\" >0.7658</td>\n",
       "      <td id=\"T_f519c_row3_col4\" class=\"data row3 col4\" >0.7666</td>\n",
       "      <td id=\"T_f519c_row3_col5\" class=\"data row3 col5\" >0.7645</td>\n",
       "      <td id=\"T_f519c_row3_col6\" class=\"data row3 col6\" >0.7447</td>\n",
       "      <td id=\"T_f519c_row3_col7\" class=\"data row3 col7\" >0.7448</td>\n",
       "      <td id=\"T_f519c_row3_col8\" class=\"data row3 col8\" >0.0000</td>\n",
       "      <td id=\"T_f519c_row3_col9\" class=\"data row3 col9\" >2.7060</td>\n",
       "    </tr>\n",
       "    <tr>\n",
       "      <th id=\"T_f519c_level0_row4\" class=\"row_heading level0 row4\" >knn</th>\n",
       "      <td id=\"T_f519c_row4_col0\" class=\"data row4 col0\" >K Neighbors Classifier</td>\n",
       "      <td id=\"T_f519c_row4_col1\" class=\"data row4 col1\" >0.4129</td>\n",
       "      <td id=\"T_f519c_row4_col2\" class=\"data row4 col2\" >0.1667</td>\n",
       "      <td id=\"T_f519c_row4_col3\" class=\"data row4 col3\" >0.4129</td>\n",
       "      <td id=\"T_f519c_row4_col4\" class=\"data row4 col4\" >0.4007</td>\n",
       "      <td id=\"T_f519c_row4_col5\" class=\"data row4 col5\" >0.4021</td>\n",
       "      <td id=\"T_f519c_row4_col6\" class=\"data row4 col6\" >0.3570</td>\n",
       "      <td id=\"T_f519c_row4_col7\" class=\"data row4 col7\" >0.3573</td>\n",
       "      <td id=\"T_f519c_row4_col8\" class=\"data row4 col8\" >0.0000</td>\n",
       "      <td id=\"T_f519c_row4_col9\" class=\"data row4 col9\" >0.3860</td>\n",
       "    </tr>\n",
       "    <tr>\n",
       "      <th id=\"T_f519c_level0_row5\" class=\"row_heading level0 row5\" >nb</th>\n",
       "      <td id=\"T_f519c_row5_col0\" class=\"data row5 col0\" >Naive Bayes</td>\n",
       "      <td id=\"T_f519c_row5_col1\" class=\"data row5 col1\" >0.3892</td>\n",
       "      <td id=\"T_f519c_row5_col2\" class=\"data row5 col2\" >0.1783</td>\n",
       "      <td id=\"T_f519c_row5_col3\" class=\"data row5 col3\" >0.3892</td>\n",
       "      <td id=\"T_f519c_row5_col4\" class=\"data row5 col4\" >0.4065</td>\n",
       "      <td id=\"T_f519c_row5_col5\" class=\"data row5 col5\" >0.3738</td>\n",
       "      <td id=\"T_f519c_row5_col6\" class=\"data row5 col6\" >0.3316</td>\n",
       "      <td id=\"T_f519c_row5_col7\" class=\"data row5 col7\" >0.3349</td>\n",
       "      <td id=\"T_f519c_row5_col8\" class=\"data row5 col8\" >0.0000</td>\n",
       "      <td id=\"T_f519c_row5_col9\" class=\"data row5 col9\" >0.2580</td>\n",
       "    </tr>\n",
       "    <tr>\n",
       "      <th id=\"T_f519c_level0_row6\" class=\"row_heading level0 row6\" >ada</th>\n",
       "      <td id=\"T_f519c_row6_col0\" class=\"data row6 col0\" >Ada Boost Classifier</td>\n",
       "      <td id=\"T_f519c_row6_col1\" class=\"data row6 col1\" >0.2913</td>\n",
       "      <td id=\"T_f519c_row6_col2\" class=\"data row6 col2\" >0.1385</td>\n",
       "      <td id=\"T_f519c_row6_col3\" class=\"data row6 col3\" >0.2913</td>\n",
       "      <td id=\"T_f519c_row6_col4\" class=\"data row6 col4\" >0.2017</td>\n",
       "      <td id=\"T_f519c_row6_col5\" class=\"data row6 col5\" >0.2161</td>\n",
       "      <td id=\"T_f519c_row6_col6\" class=\"data row6 col6\" >0.2181</td>\n",
       "      <td id=\"T_f519c_row6_col7\" class=\"data row6 col7\" >0.2554</td>\n",
       "      <td id=\"T_f519c_row6_col8\" class=\"data row6 col8\" >0.0000</td>\n",
       "      <td id=\"T_f519c_row6_col9\" class=\"data row6 col9\" >0.2770</td>\n",
       "    </tr>\n",
       "    <tr>\n",
       "      <th id=\"T_f519c_level0_row7\" class=\"row_heading level0 row7\" >lda</th>\n",
       "      <td id=\"T_f519c_row7_col0\" class=\"data row7 col0\" >Linear Discriminant Analysis</td>\n",
       "      <td id=\"T_f519c_row7_col1\" class=\"data row7 col1\" >0.2788</td>\n",
       "      <td id=\"T_f519c_row7_col2\" class=\"data row7 col2\" >0.1548</td>\n",
       "      <td id=\"T_f519c_row7_col3\" class=\"data row7 col3\" >0.2788</td>\n",
       "      <td id=\"T_f519c_row7_col4\" class=\"data row7 col4\" >0.1347</td>\n",
       "      <td id=\"T_f519c_row7_col5\" class=\"data row7 col5\" >0.1712</td>\n",
       "      <td id=\"T_f519c_row7_col6\" class=\"data row7 col6\" >0.1441</td>\n",
       "      <td id=\"T_f519c_row7_col7\" class=\"data row7 col7\" >0.1625</td>\n",
       "      <td id=\"T_f519c_row7_col8\" class=\"data row7 col8\" >0.0000</td>\n",
       "      <td id=\"T_f519c_row7_col9\" class=\"data row7 col9\" >0.2520</td>\n",
       "    </tr>\n",
       "    <tr>\n",
       "      <th id=\"T_f519c_level0_row8\" class=\"row_heading level0 row8\" >lr</th>\n",
       "      <td id=\"T_f519c_row8_col0\" class=\"data row8 col0\" >Logistic Regression</td>\n",
       "      <td id=\"T_f519c_row8_col1\" class=\"data row8 col1\" >0.2706</td>\n",
       "      <td id=\"T_f519c_row8_col2\" class=\"data row8 col2\" >0.1409</td>\n",
       "      <td id=\"T_f519c_row8_col3\" class=\"data row8 col3\" >0.2706</td>\n",
       "      <td id=\"T_f519c_row8_col4\" class=\"data row8 col4\" >0.1052</td>\n",
       "      <td id=\"T_f519c_row8_col5\" class=\"data row8 col5\" >0.1461</td>\n",
       "      <td id=\"T_f519c_row8_col6\" class=\"data row8 col6\" >0.1248</td>\n",
       "      <td id=\"T_f519c_row8_col7\" class=\"data row8 col7\" >0.1482</td>\n",
       "      <td id=\"T_f519c_row8_col8\" class=\"data row8 col8\" >0.0000</td>\n",
       "      <td id=\"T_f519c_row8_col9\" class=\"data row8 col9\" >0.3100</td>\n",
       "    </tr>\n",
       "    <tr>\n",
       "      <th id=\"T_f519c_level0_row9\" class=\"row_heading level0 row9\" >ridge</th>\n",
       "      <td id=\"T_f519c_row9_col0\" class=\"data row9 col0\" >Ridge Classifier</td>\n",
       "      <td id=\"T_f519c_row9_col1\" class=\"data row9 col1\" >0.2683</td>\n",
       "      <td id=\"T_f519c_row9_col2\" class=\"data row9 col2\" >0.0000</td>\n",
       "      <td id=\"T_f519c_row9_col3\" class=\"data row9 col3\" >0.2683</td>\n",
       "      <td id=\"T_f519c_row9_col4\" class=\"data row9 col4\" >0.0962</td>\n",
       "      <td id=\"T_f519c_row9_col5\" class=\"data row9 col5\" >0.1336</td>\n",
       "      <td id=\"T_f519c_row9_col6\" class=\"data row9 col6\" >0.1115</td>\n",
       "      <td id=\"T_f519c_row9_col7\" class=\"data row9 col7\" >0.1434</td>\n",
       "      <td id=\"T_f519c_row9_col8\" class=\"data row9 col8\" >0.0000</td>\n",
       "      <td id=\"T_f519c_row9_col9\" class=\"data row9 col9\" >0.2520</td>\n",
       "    </tr>\n",
       "    <tr>\n",
       "      <th id=\"T_f519c_level0_row10\" class=\"row_heading level0 row10\" >lightgbm</th>\n",
       "      <td id=\"T_f519c_row10_col0\" class=\"data row10 col0\" >Light Gradient Boosting Machine</td>\n",
       "      <td id=\"T_f519c_row10_col1\" class=\"data row10 col1\" >0.2287</td>\n",
       "      <td id=\"T_f519c_row10_col2\" class=\"data row10 col2\" >0.1088</td>\n",
       "      <td id=\"T_f519c_row10_col3\" class=\"data row10 col3\" >0.2287</td>\n",
       "      <td id=\"T_f519c_row10_col4\" class=\"data row10 col4\" >0.2007</td>\n",
       "      <td id=\"T_f519c_row10_col5\" class=\"data row10 col5\" >0.1758</td>\n",
       "      <td id=\"T_f519c_row10_col6\" class=\"data row10 col6\" >0.1267</td>\n",
       "      <td id=\"T_f519c_row10_col7\" class=\"data row10 col7\" >0.1464</td>\n",
       "      <td id=\"T_f519c_row10_col8\" class=\"data row10 col8\" >0.0000</td>\n",
       "      <td id=\"T_f519c_row10_col9\" class=\"data row10 col9\" >0.5620</td>\n",
       "    </tr>\n",
       "    <tr>\n",
       "      <th id=\"T_f519c_level0_row11\" class=\"row_heading level0 row11\" >dummy</th>\n",
       "      <td id=\"T_f519c_row11_col0\" class=\"data row11 col0\" >Dummy Classifier</td>\n",
       "      <td id=\"T_f519c_row11_col1\" class=\"data row11 col1\" >0.2258</td>\n",
       "      <td id=\"T_f519c_row11_col2\" class=\"data row11 col2\" >0.1000</td>\n",
       "      <td id=\"T_f519c_row11_col3\" class=\"data row11 col3\" >0.2258</td>\n",
       "      <td id=\"T_f519c_row11_col4\" class=\"data row11 col4\" >0.0510</td>\n",
       "      <td id=\"T_f519c_row11_col5\" class=\"data row11 col5\" >0.0832</td>\n",
       "      <td id=\"T_f519c_row11_col6\" class=\"data row11 col6\" >0.0000</td>\n",
       "      <td id=\"T_f519c_row11_col7\" class=\"data row11 col7\" >0.0000</td>\n",
       "      <td id=\"T_f519c_row11_col8\" class=\"data row11 col8\" >0.0000</td>\n",
       "      <td id=\"T_f519c_row11_col9\" class=\"data row11 col9\" >0.2510</td>\n",
       "    </tr>\n",
       "    <tr>\n",
       "      <th id=\"T_f519c_level0_row12\" class=\"row_heading level0 row12\" >svm</th>\n",
       "      <td id=\"T_f519c_row12_col0\" class=\"data row12 col0\" >SVM - Linear Kernel</td>\n",
       "      <td id=\"T_f519c_row12_col1\" class=\"data row12 col1\" >0.1158</td>\n",
       "      <td id=\"T_f519c_row12_col2\" class=\"data row12 col2\" >0.0000</td>\n",
       "      <td id=\"T_f519c_row12_col3\" class=\"data row12 col3\" >0.1158</td>\n",
       "      <td id=\"T_f519c_row12_col4\" class=\"data row12 col4\" >0.0429</td>\n",
       "      <td id=\"T_f519c_row12_col5\" class=\"data row12 col5\" >0.0545</td>\n",
       "      <td id=\"T_f519c_row12_col6\" class=\"data row12 col6\" >0.0262</td>\n",
       "      <td id=\"T_f519c_row12_col7\" class=\"data row12 col7\" >0.0385</td>\n",
       "      <td id=\"T_f519c_row12_col8\" class=\"data row12 col8\" >0.0000</td>\n",
       "      <td id=\"T_f519c_row12_col9\" class=\"data row12 col9\" >0.2440</td>\n",
       "    </tr>\n",
       "  </tbody>\n",
       "</table>\n"
      ],
      "text/plain": [
       "<pandas.io.formats.style.Styler at 0x1a7aefd4d00>"
      ]
     },
     "metadata": {},
     "output_type": "display_data"
    },
    {
     "data": {
      "text/html": [],
      "text/plain": [
       "<IPython.core.display.HTML object>"
      ]
     },
     "metadata": {},
     "output_type": "display_data"
    }
   ],
   "source": [
    "best_classification = classification_xp.compare_models()"
   ]
  },
  {
   "cell_type": "markdown",
   "metadata": {},
   "source": [
    "Verificar se o log loss 0 não é causado pela ausencia do createmodel do exp"
   ]
  },
  {
   "cell_type": "code",
   "execution_count": 16,
   "metadata": {},
   "outputs": [],
   "source": [
    "# !mlflow ui"
   ]
  },
  {
   "cell_type": "code",
   "execution_count": 17,
   "metadata": {},
   "outputs": [
    {
     "name": "stdout",
     "output_type": "stream",
     "text": [
      "Transformation Pipeline and Model Successfully Saved\n"
     ]
    }
   ],
   "source": [
    "classification_xp.save_model(best_classification, 'best_classification_model');"
   ]
  },
  {
   "cell_type": "code",
   "execution_count": 18,
   "metadata": {},
   "outputs": [],
   "source": [
    "# classification_loaded_model = load_model('classification_best_model_pipeline')"
   ]
  },
  {
   "cell_type": "code",
   "execution_count": 19,
   "metadata": {},
   "outputs": [],
   "source": [
    "# classification_loaded_model = assign_model(classification_loaded_model, custom_metric = {'Log Loss': log_loss_custom, 'F1 Score': f1_score_custom})\n",
    "# evaluate_model(lr)"
   ]
  },
  {
   "cell_type": "markdown",
   "metadata": {},
   "source": [
    "---"
   ]
  },
  {
   "cell_type": "code",
   "execution_count": 20,
   "metadata": {},
   "outputs": [],
   "source": [
    "three_pt_field_goal_df = conformed_df.query('shot_type == \"3PT Field Goal\"')"
   ]
  }
 ],
 "metadata": {
  "kernelspec": {
   "display_name": "Python 3 (ipykernel)",
   "language": "python",
   "name": "python3"
  },
  "language_info": {
   "codemirror_mode": {
    "name": "ipython",
    "version": 3
   },
   "file_extension": ".py",
   "mimetype": "text/x-python",
   "name": "python",
   "nbconvert_exporter": "python",
   "pygments_lexer": "ipython3",
   "version": "3.10.4 (tags/v3.10.4:9d38120, Mar 23 2022, 23:13:41) [MSC v.1929 64 bit (AMD64)]"
  },
  "vscode": {
   "interpreter": {
    "hash": "369f2c481f4da34e4445cda3fffd2e751bd1c4d706f27375911949ba6bb62e1c"
   }
  }
 },
 "nbformat": 4,
 "nbformat_minor": 2
}
