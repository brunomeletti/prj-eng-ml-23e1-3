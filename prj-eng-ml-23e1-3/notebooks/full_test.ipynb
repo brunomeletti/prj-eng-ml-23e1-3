{
 "cells": [
  {
   "cell_type": "code",
   "execution_count": 1,
   "metadata": {},
   "outputs": [],
   "source": [
    "import pandas as pd\n",
    "from sklearn.model_selection import train_test_split\n",
    "from pycaret.classification import *\n",
    "from sklearn.metrics import log_loss, f1_score\n",
    "import matplotlib.pyplot as plt\n",
    "from sklearn.metrics import confusion_matrix\n",
    "import numpy as np"
   ]
  },
  {
   "cell_type": "code",
   "execution_count": 2,
   "metadata": {},
   "outputs": [],
   "source": [
    "random_state = 42\n",
    "folds = 2\n",
    "features = ['lat', 'lon', 'minutes_remaining', 'period', 'playoffs', 'shot_distance']\n",
    "target = 'shot_made_flag'\n",
    "test_size = 0.2"
   ]
  },
  {
   "cell_type": "code",
   "execution_count": 3,
   "metadata": {},
   "outputs": [],
   "source": [
    "def plot_confusion_matrix(y_true, y_pred):\n",
    "    # Define as classes e a matriz de confusão\n",
    "    classes = ['Arremessos Perdidos', 'Arremessos Convertidos']\n",
    "    cm = confusion_matrix(y_true, y_pred)\n",
    "\n",
    "    # Plota a matriz de confusão usando matplotlib\n",
    "    fig, ax = plt.subplots()\n",
    "    im = ax.imshow(cm, interpolation='nearest', cmap=plt.cm.Blues)\n",
    "    ax.figure.colorbar(im, ax=ax)\n",
    "\n",
    "    # Configura os rótulos dos eixos e o título\n",
    "    ax.set(xticks=np.arange(cm.shape[1]),\n",
    "        yticks=np.arange(cm.shape[0]),\n",
    "        xticklabels=classes, yticklabels=classes,\n",
    "        xlabel='Predição', ylabel='Real',\n",
    "        title='Matriz de Confusão')\n",
    "    plt.setp(ax.get_xticklabels(), rotation=45, ha=\"right\",\n",
    "            rotation_mode=\"anchor\")\n",
    "\n",
    "    # Adiciona os valores aos quadrados\n",
    "    thresh = cm.max() / 2.\n",
    "    for i in range(cm.shape[0]):\n",
    "        for j in range(cm.shape[1]):\n",
    "            ax.text(j, i, format(cm[i, j], 'd'),\n",
    "                    ha=\"center\", va=\"center\",\n",
    "                    color=\"white\" if cm[i, j] > thresh else \"black\")"
   ]
  },
  {
   "attachments": {},
   "cell_type": "markdown",
   "metadata": {},
   "source": [
    "## Normalização"
   ]
  },
  {
   "cell_type": "code",
   "execution_count": 5,
   "metadata": {},
   "outputs": [],
   "source": [
    "# carregar o conjunto de dados\n",
    "raw_data = pd.read_csv('../Data/01_raw/kobe_dataset.csv', delimiter=',')\n",
    "\n",
    "# normaliza os dados\n",
    "raw_data.dropna(inplace=True)"
   ]
  },
  {
   "attachments": {},
   "cell_type": "markdown",
   "metadata": {},
   "source": [
    "## Treinamento do Modelo com 2PT Field Goal"
   ]
  },
  {
   "cell_type": "code",
   "execution_count": 6,
   "metadata": {},
   "outputs": [],
   "source": [
    "# filtra os dados pelo critério de arremessos de 2 pts\n",
    "two_points_df = raw_data[raw_data['shot_type'] == '2PT Field Goal']\n",
    "\n",
    "two_points_df = two_points_df[[\n",
    "    'lat',\n",
    "    'lon',\n",
    "    'minutes_remaining',\n",
    "    'period',\n",
    "    'playoffs',\n",
    "    'shot_distance',\n",
    "    'shot_made_flag'\n",
    "]]"
   ]
  },
  {
   "cell_type": "code",
   "execution_count": 7,
   "metadata": {},
   "outputs": [],
   "source": [
    "# separar dados de treino e teste\n",
    "train, test = train_test_split(two_points_df, stratify=two_points_df[target], test_size=test_size, random_state=random_state, shuffle=True)\n",
    "\n",
    "train_X = train[features]\n",
    "train_y = train[target]\n",
    "test_X = test[features]\n",
    "test_y = test[target]\n",
    "\n",
    "# X = new_data.drop('shot_made_flag', axis = 1)\n",
    "# y = new_data.drop(columns=X.columns)\n",
    "\n",
    "# X_train, X_test, y_train, y_test = train_test_split(X, y, test_size=test_size, random_state=random_state, shuffle=True, stratify=y)"
   ]
  },
  {
   "cell_type": "code",
   "execution_count": null,
   "metadata": {},
   "outputs": [],
   "source": [
    "two_points_df[target].value_counts()"
   ]
  },
  {
   "cell_type": "code",
   "execution_count": 8,
   "metadata": {},
   "outputs": [],
   "source": [
    "train_y = pd.DataFrame(train_y)\n",
    "test_y = pd.DataFrame(test_y)"
   ]
  },
  {
   "attachments": {},
   "cell_type": "markdown",
   "metadata": {},
   "source": [
    "### Regressão Logística"
   ]
  },
  {
   "cell_type": "code",
   "execution_count": null,
   "metadata": {},
   "outputs": [],
   "source": [
    "lr_xp = ClassificationExperiment()\n",
    "lr_xp.setup(data=train_X, target=train_y.squeeze(), train_size=(1 - test_size), session_id=random_state, fold_strategy = 'stratifiedkfold')"
   ]
  },
  {
   "cell_type": "code",
   "execution_count": null,
   "metadata": {},
   "outputs": [],
   "source": [
    "lr_xp.add_metric('logloss', 'Log Loss', log_loss, greater_is_better = False)\n",
    "lr_xp.add_metric('F1_score', 'F1 score', f1_score)"
   ]
  },
  {
   "cell_type": "code",
   "execution_count": null,
   "metadata": {},
   "outputs": [],
   "source": [
    "best_lr_model = lr_xp.create_model('lr')\n",
    "lr_tuned_model = lr_xp.tune_model(best_lr_model)"
   ]
  },
  {
   "cell_type": "code",
   "execution_count": null,
   "metadata": {},
   "outputs": [],
   "source": [
    "lr_train_predictions = lr_xp.predict_model(lr_tuned_model, data=train_X)"
   ]
  },
  {
   "cell_type": "code",
   "execution_count": null,
   "metadata": {},
   "outputs": [],
   "source": [
    "lr_train_log_loss_score = log_loss(train_y, lr_train_predictions['prediction_score'])\n",
    "lr_train_f1_score = f1_score(train_y, lr_train_predictions['prediction_label'])"
   ]
  },
  {
   "cell_type": "code",
   "execution_count": null,
   "metadata": {},
   "outputs": [],
   "source": [
    "print('Logistic Regreeesion Train log_loss_score: {}\\nLogistic Regreeesion Train f1_score: {}'.format(lr_train_log_loss_score, lr_train_f1_score))"
   ]
  },
  {
   "attachments": {},
   "cell_type": "markdown",
   "metadata": {},
   "source": [
    "### Classificação"
   ]
  },
  {
   "cell_type": "code",
   "execution_count": 9,
   "metadata": {},
   "outputs": [
    {
     "data": {
      "text/html": [
       "<style type=\"text/css\">\n",
       "#T_02745_row8_col1 {\n",
       "  background-color: lightgreen;\n",
       "}\n",
       "</style>\n",
       "<table id=\"T_02745\">\n",
       "  <thead>\n",
       "    <tr>\n",
       "      <th class=\"blank level0\" >&nbsp;</th>\n",
       "      <th id=\"T_02745_level0_col0\" class=\"col_heading level0 col0\" >Description</th>\n",
       "      <th id=\"T_02745_level0_col1\" class=\"col_heading level0 col1\" >Value</th>\n",
       "    </tr>\n",
       "  </thead>\n",
       "  <tbody>\n",
       "    <tr>\n",
       "      <th id=\"T_02745_level0_row0\" class=\"row_heading level0 row0\" >0</th>\n",
       "      <td id=\"T_02745_row0_col0\" class=\"data row0 col0\" >Session id</td>\n",
       "      <td id=\"T_02745_row0_col1\" class=\"data row0 col1\" >42</td>\n",
       "    </tr>\n",
       "    <tr>\n",
       "      <th id=\"T_02745_level0_row1\" class=\"row_heading level0 row1\" >1</th>\n",
       "      <td id=\"T_02745_row1_col0\" class=\"data row1 col0\" >Target</td>\n",
       "      <td id=\"T_02745_row1_col1\" class=\"data row1 col1\" >shot_made_flag</td>\n",
       "    </tr>\n",
       "    <tr>\n",
       "      <th id=\"T_02745_level0_row2\" class=\"row_heading level0 row2\" >2</th>\n",
       "      <td id=\"T_02745_row2_col0\" class=\"data row2 col0\" >Target type</td>\n",
       "      <td id=\"T_02745_row2_col1\" class=\"data row2 col1\" >Binary</td>\n",
       "    </tr>\n",
       "    <tr>\n",
       "      <th id=\"T_02745_level0_row3\" class=\"row_heading level0 row3\" >3</th>\n",
       "      <td id=\"T_02745_row3_col0\" class=\"data row3 col0\" >Original data shape</td>\n",
       "      <td id=\"T_02745_row3_col1\" class=\"data row3 col1\" >(16228, 7)</td>\n",
       "    </tr>\n",
       "    <tr>\n",
       "      <th id=\"T_02745_level0_row4\" class=\"row_heading level0 row4\" >4</th>\n",
       "      <td id=\"T_02745_row4_col0\" class=\"data row4 col0\" >Transformed data shape</td>\n",
       "      <td id=\"T_02745_row4_col1\" class=\"data row4 col1\" >(16228, 7)</td>\n",
       "    </tr>\n",
       "    <tr>\n",
       "      <th id=\"T_02745_level0_row5\" class=\"row_heading level0 row5\" >5</th>\n",
       "      <td id=\"T_02745_row5_col0\" class=\"data row5 col0\" >Transformed train set shape</td>\n",
       "      <td id=\"T_02745_row5_col1\" class=\"data row5 col1\" >(12982, 7)</td>\n",
       "    </tr>\n",
       "    <tr>\n",
       "      <th id=\"T_02745_level0_row6\" class=\"row_heading level0 row6\" >6</th>\n",
       "      <td id=\"T_02745_row6_col0\" class=\"data row6 col0\" >Transformed test set shape</td>\n",
       "      <td id=\"T_02745_row6_col1\" class=\"data row6 col1\" >(3246, 7)</td>\n",
       "    </tr>\n",
       "    <tr>\n",
       "      <th id=\"T_02745_level0_row7\" class=\"row_heading level0 row7\" >7</th>\n",
       "      <td id=\"T_02745_row7_col0\" class=\"data row7 col0\" >Numeric features</td>\n",
       "      <td id=\"T_02745_row7_col1\" class=\"data row7 col1\" >6</td>\n",
       "    </tr>\n",
       "    <tr>\n",
       "      <th id=\"T_02745_level0_row8\" class=\"row_heading level0 row8\" >8</th>\n",
       "      <td id=\"T_02745_row8_col0\" class=\"data row8 col0\" >Preprocess</td>\n",
       "      <td id=\"T_02745_row8_col1\" class=\"data row8 col1\" >True</td>\n",
       "    </tr>\n",
       "    <tr>\n",
       "      <th id=\"T_02745_level0_row9\" class=\"row_heading level0 row9\" >9</th>\n",
       "      <td id=\"T_02745_row9_col0\" class=\"data row9 col0\" >Imputation type</td>\n",
       "      <td id=\"T_02745_row9_col1\" class=\"data row9 col1\" >simple</td>\n",
       "    </tr>\n",
       "    <tr>\n",
       "      <th id=\"T_02745_level0_row10\" class=\"row_heading level0 row10\" >10</th>\n",
       "      <td id=\"T_02745_row10_col0\" class=\"data row10 col0\" >Numeric imputation</td>\n",
       "      <td id=\"T_02745_row10_col1\" class=\"data row10 col1\" >mean</td>\n",
       "    </tr>\n",
       "    <tr>\n",
       "      <th id=\"T_02745_level0_row11\" class=\"row_heading level0 row11\" >11</th>\n",
       "      <td id=\"T_02745_row11_col0\" class=\"data row11 col0\" >Categorical imputation</td>\n",
       "      <td id=\"T_02745_row11_col1\" class=\"data row11 col1\" >mode</td>\n",
       "    </tr>\n",
       "    <tr>\n",
       "      <th id=\"T_02745_level0_row12\" class=\"row_heading level0 row12\" >12</th>\n",
       "      <td id=\"T_02745_row12_col0\" class=\"data row12 col0\" >Fold Generator</td>\n",
       "      <td id=\"T_02745_row12_col1\" class=\"data row12 col1\" >StratifiedKFold</td>\n",
       "    </tr>\n",
       "    <tr>\n",
       "      <th id=\"T_02745_level0_row13\" class=\"row_heading level0 row13\" >13</th>\n",
       "      <td id=\"T_02745_row13_col0\" class=\"data row13 col0\" >Fold Number</td>\n",
       "      <td id=\"T_02745_row13_col1\" class=\"data row13 col1\" >10</td>\n",
       "    </tr>\n",
       "    <tr>\n",
       "      <th id=\"T_02745_level0_row14\" class=\"row_heading level0 row14\" >14</th>\n",
       "      <td id=\"T_02745_row14_col0\" class=\"data row14 col0\" >CPU Jobs</td>\n",
       "      <td id=\"T_02745_row14_col1\" class=\"data row14 col1\" >-1</td>\n",
       "    </tr>\n",
       "    <tr>\n",
       "      <th id=\"T_02745_level0_row15\" class=\"row_heading level0 row15\" >15</th>\n",
       "      <td id=\"T_02745_row15_col0\" class=\"data row15 col0\" >Use GPU</td>\n",
       "      <td id=\"T_02745_row15_col1\" class=\"data row15 col1\" >False</td>\n",
       "    </tr>\n",
       "    <tr>\n",
       "      <th id=\"T_02745_level0_row16\" class=\"row_heading level0 row16\" >16</th>\n",
       "      <td id=\"T_02745_row16_col0\" class=\"data row16 col0\" >Log Experiment</td>\n",
       "      <td id=\"T_02745_row16_col1\" class=\"data row16 col1\" >False</td>\n",
       "    </tr>\n",
       "    <tr>\n",
       "      <th id=\"T_02745_level0_row17\" class=\"row_heading level0 row17\" >17</th>\n",
       "      <td id=\"T_02745_row17_col0\" class=\"data row17 col0\" >Experiment Name</td>\n",
       "      <td id=\"T_02745_row17_col1\" class=\"data row17 col1\" >clf-default-name</td>\n",
       "    </tr>\n",
       "    <tr>\n",
       "      <th id=\"T_02745_level0_row18\" class=\"row_heading level0 row18\" >18</th>\n",
       "      <td id=\"T_02745_row18_col0\" class=\"data row18 col0\" >USI</td>\n",
       "      <td id=\"T_02745_row18_col1\" class=\"data row18 col1\" >dbdf</td>\n",
       "    </tr>\n",
       "  </tbody>\n",
       "</table>\n"
      ],
      "text/plain": [
       "<pandas.io.formats.style.Styler at 0x1aa125bd270>"
      ]
     },
     "metadata": {},
     "output_type": "display_data"
    },
    {
     "data": {
      "text/plain": [
       "<pycaret.classification.oop.ClassificationExperiment at 0x1aa11727ee0>"
      ]
     },
     "execution_count": 9,
     "metadata": {},
     "output_type": "execute_result"
    }
   ],
   "source": [
    "# inicializar ambiente pyCaret\n",
    "classification_xp = ClassificationExperiment()\n",
    "classification_xp.setup(data=train_X, target=train_y.squeeze(), train_size=(1 - test_size), session_id=random_state, fold_strategy = 'stratifiedkfold')"
   ]
  },
  {
   "cell_type": "code",
   "execution_count": 10,
   "metadata": {},
   "outputs": [
    {
     "data": {
      "text/html": [],
      "text/plain": [
       "<IPython.core.display.HTML object>"
      ]
     },
     "metadata": {},
     "output_type": "display_data"
    },
    {
     "data": {
      "text/html": [
       "<style type=\"text/css\">\n",
       "#T_b3f83 th {\n",
       "  text-align: left;\n",
       "}\n",
       "#T_b3f83_row0_col0, #T_b3f83_row0_col2, #T_b3f83_row0_col3, #T_b3f83_row0_col5, #T_b3f83_row0_col6, #T_b3f83_row0_col8, #T_b3f83_row0_col9, #T_b3f83_row1_col0, #T_b3f83_row1_col1, #T_b3f83_row1_col2, #T_b3f83_row1_col3, #T_b3f83_row1_col4, #T_b3f83_row1_col5, #T_b3f83_row1_col7, #T_b3f83_row1_col8, #T_b3f83_row1_col9, #T_b3f83_row2_col0, #T_b3f83_row2_col1, #T_b3f83_row2_col2, #T_b3f83_row2_col3, #T_b3f83_row2_col4, #T_b3f83_row2_col5, #T_b3f83_row2_col6, #T_b3f83_row2_col7, #T_b3f83_row2_col8, #T_b3f83_row2_col9, #T_b3f83_row3_col0, #T_b3f83_row3_col1, #T_b3f83_row3_col2, #T_b3f83_row3_col3, #T_b3f83_row3_col4, #T_b3f83_row3_col5, #T_b3f83_row3_col6, #T_b3f83_row3_col7, #T_b3f83_row3_col8, #T_b3f83_row3_col9, #T_b3f83_row4_col0, #T_b3f83_row4_col1, #T_b3f83_row4_col2, #T_b3f83_row4_col3, #T_b3f83_row4_col4, #T_b3f83_row4_col5, #T_b3f83_row4_col6, #T_b3f83_row4_col7, #T_b3f83_row4_col8, #T_b3f83_row4_col9, #T_b3f83_row5_col0, #T_b3f83_row5_col1, #T_b3f83_row5_col2, #T_b3f83_row5_col3, #T_b3f83_row5_col4, #T_b3f83_row5_col5, #T_b3f83_row5_col6, #T_b3f83_row5_col7, #T_b3f83_row5_col8, #T_b3f83_row5_col9, #T_b3f83_row6_col0, #T_b3f83_row6_col1, #T_b3f83_row6_col3, #T_b3f83_row6_col4, #T_b3f83_row6_col5, #T_b3f83_row6_col6, #T_b3f83_row6_col7, #T_b3f83_row6_col8, #T_b3f83_row6_col9, #T_b3f83_row7_col0, #T_b3f83_row7_col1, #T_b3f83_row7_col2, #T_b3f83_row7_col3, #T_b3f83_row7_col4, #T_b3f83_row7_col5, #T_b3f83_row7_col6, #T_b3f83_row7_col7, #T_b3f83_row7_col8, #T_b3f83_row7_col9, #T_b3f83_row8_col0, #T_b3f83_row8_col1, #T_b3f83_row8_col2, #T_b3f83_row8_col3, #T_b3f83_row8_col4, #T_b3f83_row8_col5, #T_b3f83_row8_col6, #T_b3f83_row8_col7, #T_b3f83_row8_col8, #T_b3f83_row8_col9, #T_b3f83_row9_col0, #T_b3f83_row9_col1, #T_b3f83_row9_col2, #T_b3f83_row9_col3, #T_b3f83_row9_col4, #T_b3f83_row9_col5, #T_b3f83_row9_col6, #T_b3f83_row9_col7, #T_b3f83_row9_col8, #T_b3f83_row9_col9, #T_b3f83_row10_col0, #T_b3f83_row10_col1, #T_b3f83_row10_col2, #T_b3f83_row10_col4, #T_b3f83_row10_col6, #T_b3f83_row10_col7, #T_b3f83_row10_col8, #T_b3f83_row11_col0, #T_b3f83_row11_col1, #T_b3f83_row11_col2, #T_b3f83_row11_col3, #T_b3f83_row11_col4, #T_b3f83_row11_col5, #T_b3f83_row11_col6, #T_b3f83_row11_col7, #T_b3f83_row11_col8, #T_b3f83_row11_col9, #T_b3f83_row12_col0, #T_b3f83_row12_col1, #T_b3f83_row12_col2, #T_b3f83_row12_col3, #T_b3f83_row12_col4, #T_b3f83_row12_col5, #T_b3f83_row12_col6, #T_b3f83_row12_col7, #T_b3f83_row12_col8, #T_b3f83_row12_col9, #T_b3f83_row13_col0, #T_b3f83_row13_col1, #T_b3f83_row13_col2, #T_b3f83_row13_col3, #T_b3f83_row13_col4, #T_b3f83_row13_col5, #T_b3f83_row13_col6, #T_b3f83_row13_col7, #T_b3f83_row13_col9 {\n",
       "  text-align: left;\n",
       "}\n",
       "#T_b3f83_row0_col1, #T_b3f83_row0_col4, #T_b3f83_row0_col7, #T_b3f83_row1_col6, #T_b3f83_row6_col2, #T_b3f83_row10_col3, #T_b3f83_row10_col5, #T_b3f83_row10_col9, #T_b3f83_row13_col8 {\n",
       "  text-align: left;\n",
       "  background-color: yellow;\n",
       "}\n",
       "#T_b3f83_row0_col10, #T_b3f83_row1_col10, #T_b3f83_row2_col10, #T_b3f83_row3_col10, #T_b3f83_row4_col10, #T_b3f83_row5_col10, #T_b3f83_row6_col10, #T_b3f83_row8_col10, #T_b3f83_row9_col10, #T_b3f83_row10_col10, #T_b3f83_row11_col10, #T_b3f83_row12_col10, #T_b3f83_row13_col10 {\n",
       "  text-align: left;\n",
       "  background-color: lightgrey;\n",
       "}\n",
       "#T_b3f83_row7_col10 {\n",
       "  text-align: left;\n",
       "  background-color: yellow;\n",
       "  background-color: lightgrey;\n",
       "}\n",
       "</style>\n",
       "<table id=\"T_b3f83\">\n",
       "  <thead>\n",
       "    <tr>\n",
       "      <th class=\"blank level0\" >&nbsp;</th>\n",
       "      <th id=\"T_b3f83_level0_col0\" class=\"col_heading level0 col0\" >Model</th>\n",
       "      <th id=\"T_b3f83_level0_col1\" class=\"col_heading level0 col1\" >Accuracy</th>\n",
       "      <th id=\"T_b3f83_level0_col2\" class=\"col_heading level0 col2\" >AUC</th>\n",
       "      <th id=\"T_b3f83_level0_col3\" class=\"col_heading level0 col3\" >Recall</th>\n",
       "      <th id=\"T_b3f83_level0_col4\" class=\"col_heading level0 col4\" >Prec.</th>\n",
       "      <th id=\"T_b3f83_level0_col5\" class=\"col_heading level0 col5\" >F1</th>\n",
       "      <th id=\"T_b3f83_level0_col6\" class=\"col_heading level0 col6\" >Kappa</th>\n",
       "      <th id=\"T_b3f83_level0_col7\" class=\"col_heading level0 col7\" >MCC</th>\n",
       "      <th id=\"T_b3f83_level0_col8\" class=\"col_heading level0 col8\" >Log Loss</th>\n",
       "      <th id=\"T_b3f83_level0_col9\" class=\"col_heading level0 col9\" >F1 score</th>\n",
       "      <th id=\"T_b3f83_level0_col10\" class=\"col_heading level0 col10\" >TT (Sec)</th>\n",
       "    </tr>\n",
       "  </thead>\n",
       "  <tbody>\n",
       "    <tr>\n",
       "      <th id=\"T_b3f83_level0_row0\" class=\"row_heading level0 row0\" >ada</th>\n",
       "      <td id=\"T_b3f83_row0_col0\" class=\"data row0 col0\" >Ada Boost Classifier</td>\n",
       "      <td id=\"T_b3f83_row0_col1\" class=\"data row0 col1\" >0.5892</td>\n",
       "      <td id=\"T_b3f83_row0_col2\" class=\"data row0 col2\" >0.5999</td>\n",
       "      <td id=\"T_b3f83_row0_col3\" class=\"data row0 col3\" >0.3800</td>\n",
       "      <td id=\"T_b3f83_row0_col4\" class=\"data row0 col4\" >0.6133</td>\n",
       "      <td id=\"T_b3f83_row0_col5\" class=\"data row0 col5\" >0.4688</td>\n",
       "      <td id=\"T_b3f83_row0_col6\" class=\"data row0 col6\" >0.1630</td>\n",
       "      <td id=\"T_b3f83_row0_col7\" class=\"data row0 col7\" >0.1757</td>\n",
       "      <td id=\"T_b3f83_row0_col8\" class=\"data row0 col8\" >6.5491</td>\n",
       "      <td id=\"T_b3f83_row0_col9\" class=\"data row0 col9\" >0.4688</td>\n",
       "      <td id=\"T_b3f83_row0_col10\" class=\"data row0 col10\" >0.8420</td>\n",
       "    </tr>\n",
       "    <tr>\n",
       "      <th id=\"T_b3f83_level0_row1\" class=\"row_heading level0 row1\" >gbc</th>\n",
       "      <td id=\"T_b3f83_row1_col0\" class=\"data row1 col0\" >Gradient Boosting Classifier</td>\n",
       "      <td id=\"T_b3f83_row1_col1\" class=\"data row1 col1\" >0.5890</td>\n",
       "      <td id=\"T_b3f83_row1_col2\" class=\"data row1 col2\" >0.5985</td>\n",
       "      <td id=\"T_b3f83_row1_col3\" class=\"data row1 col3\" >0.3921</td>\n",
       "      <td id=\"T_b3f83_row1_col4\" class=\"data row1 col4\" >0.6079</td>\n",
       "      <td id=\"T_b3f83_row1_col5\" class=\"data row1 col5\" >0.4766</td>\n",
       "      <td id=\"T_b3f83_row1_col6\" class=\"data row1 col6\" >0.1634</td>\n",
       "      <td id=\"T_b3f83_row1_col7\" class=\"data row1 col7\" >0.1742</td>\n",
       "      <td id=\"T_b3f83_row1_col8\" class=\"data row1 col8\" >6.5528</td>\n",
       "      <td id=\"T_b3f83_row1_col9\" class=\"data row1 col9\" >0.4766</td>\n",
       "      <td id=\"T_b3f83_row1_col10\" class=\"data row1 col10\" >0.8340</td>\n",
       "    </tr>\n",
       "    <tr>\n",
       "      <th id=\"T_b3f83_level0_row2\" class=\"row_heading level0 row2\" >lda</th>\n",
       "      <td id=\"T_b3f83_row2_col0\" class=\"data row2 col0\" >Linear Discriminant Analysis</td>\n",
       "      <td id=\"T_b3f83_row2_col1\" class=\"data row2 col1\" >0.5779</td>\n",
       "      <td id=\"T_b3f83_row2_col2\" class=\"data row2 col2\" >0.5990</td>\n",
       "      <td id=\"T_b3f83_row2_col3\" class=\"data row2 col3\" >0.4906</td>\n",
       "      <td id=\"T_b3f83_row2_col4\" class=\"data row2 col4\" >0.5671</td>\n",
       "      <td id=\"T_b3f83_row2_col5\" class=\"data row2 col5\" >0.5260</td>\n",
       "      <td id=\"T_b3f83_row2_col6\" class=\"data row2 col6\" >0.1491</td>\n",
       "      <td id=\"T_b3f83_row2_col7\" class=\"data row2 col7\" >0.1504</td>\n",
       "      <td id=\"T_b3f83_row2_col8\" class=\"data row2 col8\" >6.7296</td>\n",
       "      <td id=\"T_b3f83_row2_col9\" class=\"data row2 col9\" >0.5260</td>\n",
       "      <td id=\"T_b3f83_row2_col10\" class=\"data row2 col10\" >0.7990</td>\n",
       "    </tr>\n",
       "    <tr>\n",
       "      <th id=\"T_b3f83_level0_row3\" class=\"row_heading level0 row3\" >ridge</th>\n",
       "      <td id=\"T_b3f83_row3_col0\" class=\"data row3 col0\" >Ridge Classifier</td>\n",
       "      <td id=\"T_b3f83_row3_col1\" class=\"data row3 col1\" >0.5772</td>\n",
       "      <td id=\"T_b3f83_row3_col2\" class=\"data row3 col2\" >0.0000</td>\n",
       "      <td id=\"T_b3f83_row3_col3\" class=\"data row3 col3\" >0.4893</td>\n",
       "      <td id=\"T_b3f83_row3_col4\" class=\"data row3 col4\" >0.5664</td>\n",
       "      <td id=\"T_b3f83_row3_col5\" class=\"data row3 col5\" >0.5249</td>\n",
       "      <td id=\"T_b3f83_row3_col6\" class=\"data row3 col6\" >0.1476</td>\n",
       "      <td id=\"T_b3f83_row3_col7\" class=\"data row3 col7\" >0.1490</td>\n",
       "      <td id=\"T_b3f83_row3_col8\" class=\"data row3 col8\" >6.7407</td>\n",
       "      <td id=\"T_b3f83_row3_col9\" class=\"data row3 col9\" >0.5249</td>\n",
       "      <td id=\"T_b3f83_row3_col10\" class=\"data row3 col10\" >0.8020</td>\n",
       "    </tr>\n",
       "    <tr>\n",
       "      <th id=\"T_b3f83_level0_row4\" class=\"row_heading level0 row4\" >lr</th>\n",
       "      <td id=\"T_b3f83_row4_col0\" class=\"data row4 col0\" >Logistic Regression</td>\n",
       "      <td id=\"T_b3f83_row4_col1\" class=\"data row4 col1\" >0.5764</td>\n",
       "      <td id=\"T_b3f83_row4_col2\" class=\"data row4 col2\" >0.5987</td>\n",
       "      <td id=\"T_b3f83_row4_col3\" class=\"data row4 col3\" >0.4856</td>\n",
       "      <td id=\"T_b3f83_row4_col4\" class=\"data row4 col4\" >0.5661</td>\n",
       "      <td id=\"T_b3f83_row4_col5\" class=\"data row4 col5\" >0.5226</td>\n",
       "      <td id=\"T_b3f83_row4_col6\" class=\"data row4 col6\" >0.1459</td>\n",
       "      <td id=\"T_b3f83_row4_col7\" class=\"data row4 col7\" >0.1474</td>\n",
       "      <td id=\"T_b3f83_row4_col8\" class=\"data row4 col8\" >6.7530</td>\n",
       "      <td id=\"T_b3f83_row4_col9\" class=\"data row4 col9\" >0.5226</td>\n",
       "      <td id=\"T_b3f83_row4_col10\" class=\"data row4 col10\" >1.3100</td>\n",
       "    </tr>\n",
       "    <tr>\n",
       "      <th id=\"T_b3f83_level0_row5\" class=\"row_heading level0 row5\" >lightgbm</th>\n",
       "      <td id=\"T_b3f83_row5_col0\" class=\"data row5 col0\" >Light Gradient Boosting Machine</td>\n",
       "      <td id=\"T_b3f83_row5_col1\" class=\"data row5 col1\" >0.5757</td>\n",
       "      <td id=\"T_b3f83_row5_col2\" class=\"data row5 col2\" >0.5923</td>\n",
       "      <td id=\"T_b3f83_row5_col3\" class=\"data row5 col3\" >0.4707</td>\n",
       "      <td id=\"T_b3f83_row5_col4\" class=\"data row5 col4\" >0.5673</td>\n",
       "      <td id=\"T_b3f83_row5_col5\" class=\"data row5 col5\" >0.5143</td>\n",
       "      <td id=\"T_b3f83_row5_col6\" class=\"data row5 col6\" >0.1434</td>\n",
       "      <td id=\"T_b3f83_row5_col7\" class=\"data row5 col7\" >0.1455</td>\n",
       "      <td id=\"T_b3f83_row5_col8\" class=\"data row5 col8\" >6.7640</td>\n",
       "      <td id=\"T_b3f83_row5_col9\" class=\"data row5 col9\" >0.5143</td>\n",
       "      <td id=\"T_b3f83_row5_col10\" class=\"data row5 col10\" >0.8910</td>\n",
       "    </tr>\n",
       "    <tr>\n",
       "      <th id=\"T_b3f83_level0_row6\" class=\"row_heading level0 row6\" >qda</th>\n",
       "      <td id=\"T_b3f83_row6_col0\" class=\"data row6 col0\" >Quadratic Discriminant Analysis</td>\n",
       "      <td id=\"T_b3f83_row6_col1\" class=\"data row6 col1\" >0.5746</td>\n",
       "      <td id=\"T_b3f83_row6_col2\" class=\"data row6 col2\" >0.6006</td>\n",
       "      <td id=\"T_b3f83_row6_col3\" class=\"data row6 col3\" >0.5315</td>\n",
       "      <td id=\"T_b3f83_row6_col4\" class=\"data row6 col4\" >0.5573</td>\n",
       "      <td id=\"T_b3f83_row6_col5\" class=\"data row6 col5\" >0.5439</td>\n",
       "      <td id=\"T_b3f83_row6_col6\" class=\"data row6 col6\" >0.1458</td>\n",
       "      <td id=\"T_b3f83_row6_col7\" class=\"data row6 col7\" >0.1461</td>\n",
       "      <td id=\"T_b3f83_row6_col8\" class=\"data row6 col8\" >6.7812</td>\n",
       "      <td id=\"T_b3f83_row6_col9\" class=\"data row6 col9\" >0.5439</td>\n",
       "      <td id=\"T_b3f83_row6_col10\" class=\"data row6 col10\" >0.8320</td>\n",
       "    </tr>\n",
       "    <tr>\n",
       "      <th id=\"T_b3f83_level0_row7\" class=\"row_heading level0 row7\" >nb</th>\n",
       "      <td id=\"T_b3f83_row7_col0\" class=\"data row7 col0\" >Naive Bayes</td>\n",
       "      <td id=\"T_b3f83_row7_col1\" class=\"data row7 col1\" >0.5735</td>\n",
       "      <td id=\"T_b3f83_row7_col2\" class=\"data row7 col2\" >0.5953</td>\n",
       "      <td id=\"T_b3f83_row7_col3\" class=\"data row7 col3\" >0.5038</td>\n",
       "      <td id=\"T_b3f83_row7_col4\" class=\"data row7 col4\" >0.5593</td>\n",
       "      <td id=\"T_b3f83_row7_col5\" class=\"data row7 col5\" >0.5300</td>\n",
       "      <td id=\"T_b3f83_row7_col6\" class=\"data row7 col6\" >0.1415</td>\n",
       "      <td id=\"T_b3f83_row7_col7\" class=\"data row7 col7\" >0.1423</td>\n",
       "      <td id=\"T_b3f83_row7_col8\" class=\"data row7 col8\" >6.7996</td>\n",
       "      <td id=\"T_b3f83_row7_col9\" class=\"data row7 col9\" >0.5300</td>\n",
       "      <td id=\"T_b3f83_row7_col10\" class=\"data row7 col10\" >0.7950</td>\n",
       "    </tr>\n",
       "    <tr>\n",
       "      <th id=\"T_b3f83_level0_row8\" class=\"row_heading level0 row8\" >rf</th>\n",
       "      <td id=\"T_b3f83_row8_col0\" class=\"data row8 col0\" >Random Forest Classifier</td>\n",
       "      <td id=\"T_b3f83_row8_col1\" class=\"data row8 col1\" >0.5615</td>\n",
       "      <td id=\"T_b3f83_row8_col2\" class=\"data row8 col2\" >0.5751</td>\n",
       "      <td id=\"T_b3f83_row8_col3\" class=\"data row8 col3\" >0.5382</td>\n",
       "      <td id=\"T_b3f83_row8_col4\" class=\"data row8 col4\" >0.5411</td>\n",
       "      <td id=\"T_b3f83_row8_col5\" class=\"data row8 col5\" >0.5395</td>\n",
       "      <td id=\"T_b3f83_row8_col6\" class=\"data row8 col6\" >0.1211</td>\n",
       "      <td id=\"T_b3f83_row8_col7\" class=\"data row8 col7\" >0.1211</td>\n",
       "      <td id=\"T_b3f83_row8_col8\" class=\"data row8 col8\" >6.9900</td>\n",
       "      <td id=\"T_b3f83_row8_col9\" class=\"data row8 col9\" >0.5395</td>\n",
       "      <td id=\"T_b3f83_row8_col10\" class=\"data row8 col10\" >1.0300</td>\n",
       "    </tr>\n",
       "    <tr>\n",
       "      <th id=\"T_b3f83_level0_row9\" class=\"row_heading level0 row9\" >et</th>\n",
       "      <td id=\"T_b3f83_row9_col0\" class=\"data row9 col0\" >Extra Trees Classifier</td>\n",
       "      <td id=\"T_b3f83_row9_col1\" class=\"data row9 col1\" >0.5547</td>\n",
       "      <td id=\"T_b3f83_row9_col2\" class=\"data row9 col2\" >0.5664</td>\n",
       "      <td id=\"T_b3f83_row9_col3\" class=\"data row9 col3\" >0.5454</td>\n",
       "      <td id=\"T_b3f83_row9_col4\" class=\"data row9 col4\" >0.5327</td>\n",
       "      <td id=\"T_b3f83_row9_col5\" class=\"data row9 col5\" >0.5389</td>\n",
       "      <td id=\"T_b3f83_row9_col6\" class=\"data row9 col6\" >0.1085</td>\n",
       "      <td id=\"T_b3f83_row9_col7\" class=\"data row9 col7\" >0.1085</td>\n",
       "      <td id=\"T_b3f83_row9_col8\" class=\"data row9 col8\" >7.0993</td>\n",
       "      <td id=\"T_b3f83_row9_col9\" class=\"data row9 col9\" >0.5389</td>\n",
       "      <td id=\"T_b3f83_row9_col10\" class=\"data row9 col10\" >1.1000</td>\n",
       "    </tr>\n",
       "    <tr>\n",
       "      <th id=\"T_b3f83_level0_row10\" class=\"row_heading level0 row10\" >dt</th>\n",
       "      <td id=\"T_b3f83_row10_col0\" class=\"data row10 col0\" >Decision Tree Classifier</td>\n",
       "      <td id=\"T_b3f83_row10_col1\" class=\"data row10 col1\" >0.5409</td>\n",
       "      <td id=\"T_b3f83_row10_col2\" class=\"data row10 col2\" >0.5250</td>\n",
       "      <td id=\"T_b3f83_row10_col3\" class=\"data row10 col3\" >0.5827</td>\n",
       "      <td id=\"T_b3f83_row10_col4\" class=\"data row10 col4\" >0.5170</td>\n",
       "      <td id=\"T_b3f83_row10_col5\" class=\"data row10 col5\" >0.5477</td>\n",
       "      <td id=\"T_b3f83_row10_col6\" class=\"data row10 col6\" >0.0850</td>\n",
       "      <td id=\"T_b3f83_row10_col7\" class=\"data row10 col7\" >0.0857</td>\n",
       "      <td id=\"T_b3f83_row10_col8\" class=\"data row10 col8\" >7.3191</td>\n",
       "      <td id=\"T_b3f83_row10_col9\" class=\"data row10 col9\" >0.5477</td>\n",
       "      <td id=\"T_b3f83_row10_col10\" class=\"data row10 col10\" >0.8490</td>\n",
       "    </tr>\n",
       "    <tr>\n",
       "      <th id=\"T_b3f83_level0_row11\" class=\"row_heading level0 row11\" >knn</th>\n",
       "      <td id=\"T_b3f83_row11_col0\" class=\"data row11 col0\" >K Neighbors Classifier</td>\n",
       "      <td id=\"T_b3f83_row11_col1\" class=\"data row11 col1\" >0.5366</td>\n",
       "      <td id=\"T_b3f83_row11_col2\" class=\"data row11 col2\" >0.5484</td>\n",
       "      <td id=\"T_b3f83_row11_col3\" class=\"data row11 col3\" >0.5135</td>\n",
       "      <td id=\"T_b3f83_row11_col4\" class=\"data row11 col4\" >0.5146</td>\n",
       "      <td id=\"T_b3f83_row11_col5\" class=\"data row11 col5\" >0.5139</td>\n",
       "      <td id=\"T_b3f83_row11_col6\" class=\"data row11 col6\" >0.0712</td>\n",
       "      <td id=\"T_b3f83_row11_col7\" class=\"data row11 col7\" >0.0712</td>\n",
       "      <td id=\"T_b3f83_row11_col8\" class=\"data row11 col8\" >7.3879</td>\n",
       "      <td id=\"T_b3f83_row11_col9\" class=\"data row11 col9\" >0.5139</td>\n",
       "      <td id=\"T_b3f83_row11_col10\" class=\"data row11 col10\" >0.8350</td>\n",
       "    </tr>\n",
       "    <tr>\n",
       "      <th id=\"T_b3f83_level0_row12\" class=\"row_heading level0 row12\" >dummy</th>\n",
       "      <td id=\"T_b3f83_row12_col0\" class=\"data row12 col0\" >Dummy Classifier</td>\n",
       "      <td id=\"T_b3f83_row12_col1\" class=\"data row12 col1\" >0.5226</td>\n",
       "      <td id=\"T_b3f83_row12_col2\" class=\"data row12 col2\" >0.5000</td>\n",
       "      <td id=\"T_b3f83_row12_col3\" class=\"data row12 col3\" >0.0000</td>\n",
       "      <td id=\"T_b3f83_row12_col4\" class=\"data row12 col4\" >0.0000</td>\n",
       "      <td id=\"T_b3f83_row12_col5\" class=\"data row12 col5\" >0.0000</td>\n",
       "      <td id=\"T_b3f83_row12_col6\" class=\"data row12 col6\" >0.0000</td>\n",
       "      <td id=\"T_b3f83_row12_col7\" class=\"data row12 col7\" >0.0000</td>\n",
       "      <td id=\"T_b3f83_row12_col8\" class=\"data row12 col8\" >7.6101</td>\n",
       "      <td id=\"T_b3f83_row12_col9\" class=\"data row12 col9\" >0.0000</td>\n",
       "      <td id=\"T_b3f83_row12_col10\" class=\"data row12 col10\" >0.8080</td>\n",
       "    </tr>\n",
       "    <tr>\n",
       "      <th id=\"T_b3f83_level0_row13\" class=\"row_heading level0 row13\" >svm</th>\n",
       "      <td id=\"T_b3f83_row13_col0\" class=\"data row13 col0\" >SVM - Linear Kernel</td>\n",
       "      <td id=\"T_b3f83_row13_col1\" class=\"data row13 col1\" >0.5172</td>\n",
       "      <td id=\"T_b3f83_row13_col2\" class=\"data row13 col2\" >0.0000</td>\n",
       "      <td id=\"T_b3f83_row13_col3\" class=\"data row13 col3\" >0.3003</td>\n",
       "      <td id=\"T_b3f83_row13_col4\" class=\"data row13 col4\" >0.2671</td>\n",
       "      <td id=\"T_b3f83_row13_col5\" class=\"data row13 col5\" >0.2333</td>\n",
       "      <td id=\"T_b3f83_row13_col6\" class=\"data row13 col6\" >0.0157</td>\n",
       "      <td id=\"T_b3f83_row13_col7\" class=\"data row13 col7\" >0.0229</td>\n",
       "      <td id=\"T_b3f83_row13_col8\" class=\"data row13 col8\" >7.6973</td>\n",
       "      <td id=\"T_b3f83_row13_col9\" class=\"data row13 col9\" >0.2333</td>\n",
       "      <td id=\"T_b3f83_row13_col10\" class=\"data row13 col10\" >0.9260</td>\n",
       "    </tr>\n",
       "  </tbody>\n",
       "</table>\n"
      ],
      "text/plain": [
       "<pandas.io.formats.style.Styler at 0x1aa11596440>"
      ]
     },
     "metadata": {},
     "output_type": "display_data"
    },
    {
     "data": {
      "text/html": [],
      "text/plain": [
       "<IPython.core.display.HTML object>"
      ]
     },
     "metadata": {},
     "output_type": "display_data"
    }
   ],
   "source": [
    "classification_xp.add_metric('logloss', 'Log Loss', log_loss, greater_is_better = False)\n",
    "classification_xp.add_metric('F1_score', 'F1 score', f1_score)\n",
    "\n",
    "best_classification_model = classification_xp.compare_models(verbose=True)"
   ]
  },
  {
   "cell_type": "code",
   "execution_count": 11,
   "metadata": {},
   "outputs": [
    {
     "data": {
      "text/html": [],
      "text/plain": [
       "<IPython.core.display.HTML object>"
      ]
     },
     "metadata": {},
     "output_type": "display_data"
    },
    {
     "data": {
      "text/html": [
       "<style type=\"text/css\">\n",
       "#T_67a91_row10_col0, #T_67a91_row10_col1, #T_67a91_row10_col2, #T_67a91_row10_col3, #T_67a91_row10_col4, #T_67a91_row10_col5, #T_67a91_row10_col6, #T_67a91_row10_col7, #T_67a91_row10_col8 {\n",
       "  background: yellow;\n",
       "}\n",
       "</style>\n",
       "<table id=\"T_67a91\">\n",
       "  <thead>\n",
       "    <tr>\n",
       "      <th class=\"blank level0\" >&nbsp;</th>\n",
       "      <th id=\"T_67a91_level0_col0\" class=\"col_heading level0 col0\" >Accuracy</th>\n",
       "      <th id=\"T_67a91_level0_col1\" class=\"col_heading level0 col1\" >AUC</th>\n",
       "      <th id=\"T_67a91_level0_col2\" class=\"col_heading level0 col2\" >Recall</th>\n",
       "      <th id=\"T_67a91_level0_col3\" class=\"col_heading level0 col3\" >Prec.</th>\n",
       "      <th id=\"T_67a91_level0_col4\" class=\"col_heading level0 col4\" >F1</th>\n",
       "      <th id=\"T_67a91_level0_col5\" class=\"col_heading level0 col5\" >Kappa</th>\n",
       "      <th id=\"T_67a91_level0_col6\" class=\"col_heading level0 col6\" >MCC</th>\n",
       "      <th id=\"T_67a91_level0_col7\" class=\"col_heading level0 col7\" >Log Loss</th>\n",
       "      <th id=\"T_67a91_level0_col8\" class=\"col_heading level0 col8\" >F1 score</th>\n",
       "    </tr>\n",
       "    <tr>\n",
       "      <th class=\"index_name level0\" >Fold</th>\n",
       "      <th class=\"blank col0\" >&nbsp;</th>\n",
       "      <th class=\"blank col1\" >&nbsp;</th>\n",
       "      <th class=\"blank col2\" >&nbsp;</th>\n",
       "      <th class=\"blank col3\" >&nbsp;</th>\n",
       "      <th class=\"blank col4\" >&nbsp;</th>\n",
       "      <th class=\"blank col5\" >&nbsp;</th>\n",
       "      <th class=\"blank col6\" >&nbsp;</th>\n",
       "      <th class=\"blank col7\" >&nbsp;</th>\n",
       "      <th class=\"blank col8\" >&nbsp;</th>\n",
       "    </tr>\n",
       "  </thead>\n",
       "  <tbody>\n",
       "    <tr>\n",
       "      <th id=\"T_67a91_level0_row0\" class=\"row_heading level0 row0\" >0</th>\n",
       "      <td id=\"T_67a91_row0_col0\" class=\"data row0 col0\" >0.5966</td>\n",
       "      <td id=\"T_67a91_row0_col1\" class=\"data row0 col1\" >0.6195</td>\n",
       "      <td id=\"T_67a91_row0_col2\" class=\"data row0 col2\" >0.3645</td>\n",
       "      <td id=\"T_67a91_row0_col3\" class=\"data row0 col3\" >0.6348</td>\n",
       "      <td id=\"T_67a91_row0_col4\" class=\"data row0 col4\" >0.4631</td>\n",
       "      <td id=\"T_67a91_row0_col5\" class=\"data row0 col5\" >0.1763</td>\n",
       "      <td id=\"T_67a91_row0_col6\" class=\"data row0 col6\" >0.1938</td>\n",
       "      <td id=\"T_67a91_row0_col7\" class=\"data row0 col7\" >6.4310</td>\n",
       "      <td id=\"T_67a91_row0_col8\" class=\"data row0 col8\" >0.4631</td>\n",
       "    </tr>\n",
       "    <tr>\n",
       "      <th id=\"T_67a91_level0_row1\" class=\"row_heading level0 row1\" >1</th>\n",
       "      <td id=\"T_67a91_row1_col0\" class=\"data row1 col0\" >0.5858</td>\n",
       "      <td id=\"T_67a91_row1_col1\" class=\"data row1 col1\" >0.5958</td>\n",
       "      <td id=\"T_67a91_row1_col2\" class=\"data row1 col2\" >0.3629</td>\n",
       "      <td id=\"T_67a91_row1_col3\" class=\"data row1 col3\" >0.6114</td>\n",
       "      <td id=\"T_67a91_row1_col4\" class=\"data row1 col4\" >0.4555</td>\n",
       "      <td id=\"T_67a91_row1_col5\" class=\"data row1 col5\" >0.1550</td>\n",
       "      <td id=\"T_67a91_row1_col6\" class=\"data row1 col6\" >0.1688</td>\n",
       "      <td id=\"T_67a91_row1_col7\" class=\"data row1 col7\" >6.6028</td>\n",
       "      <td id=\"T_67a91_row1_col8\" class=\"data row1 col8\" >0.4555</td>\n",
       "    </tr>\n",
       "    <tr>\n",
       "      <th id=\"T_67a91_level0_row2\" class=\"row_heading level0 row2\" >2</th>\n",
       "      <td id=\"T_67a91_row2_col0\" class=\"data row2 col0\" >0.6063</td>\n",
       "      <td id=\"T_67a91_row2_col1\" class=\"data row2 col1\" >0.6185</td>\n",
       "      <td id=\"T_67a91_row2_col2\" class=\"data row2 col2\" >0.3926</td>\n",
       "      <td id=\"T_67a91_row2_col3\" class=\"data row2 col3\" >0.6429</td>\n",
       "      <td id=\"T_67a91_row2_col4\" class=\"data row2 col4\" >0.4875</td>\n",
       "      <td id=\"T_67a91_row2_col5\" class=\"data row2 col5\" >0.1971</td>\n",
       "      <td id=\"T_67a91_row2_col6\" class=\"data row2 col6\" >0.2130</td>\n",
       "      <td id=\"T_67a91_row2_col7\" class=\"data row2 col7\" >6.2762</td>\n",
       "      <td id=\"T_67a91_row2_col8\" class=\"data row2 col8\" >0.4875</td>\n",
       "    </tr>\n",
       "    <tr>\n",
       "      <th id=\"T_67a91_level0_row3\" class=\"row_heading level0 row3\" >3</th>\n",
       "      <td id=\"T_67a91_row3_col0\" class=\"data row3 col0\" >0.5809</td>\n",
       "      <td id=\"T_67a91_row3_col1\" class=\"data row3 col1\" >0.5929</td>\n",
       "      <td id=\"T_67a91_row3_col2\" class=\"data row3 col2\" >0.3457</td>\n",
       "      <td id=\"T_67a91_row3_col3\" class=\"data row3 col3\" >0.6062</td>\n",
       "      <td id=\"T_67a91_row3_col4\" class=\"data row3 col4\" >0.4403</td>\n",
       "      <td id=\"T_67a91_row3_col5\" class=\"data row3 col5\" >0.1437</td>\n",
       "      <td id=\"T_67a91_row3_col6\" class=\"data row3 col6\" >0.1583</td>\n",
       "      <td id=\"T_67a91_row3_col7\" class=\"data row3 col7\" >6.6816</td>\n",
       "      <td id=\"T_67a91_row3_col8\" class=\"data row3 col8\" >0.4403</td>\n",
       "    </tr>\n",
       "    <tr>\n",
       "      <th id=\"T_67a91_level0_row4\" class=\"row_heading level0 row4\" >4</th>\n",
       "      <td id=\"T_67a91_row4_col0\" class=\"data row4 col0\" >0.6055</td>\n",
       "      <td id=\"T_67a91_row4_col1\" class=\"data row4 col1\" >0.6133</td>\n",
       "      <td id=\"T_67a91_row4_col2\" class=\"data row4 col2\" >0.3764</td>\n",
       "      <td id=\"T_67a91_row4_col3\" class=\"data row4 col3\" >0.6490</td>\n",
       "      <td id=\"T_67a91_row4_col4\" class=\"data row4 col4\" >0.4765</td>\n",
       "      <td id=\"T_67a91_row4_col5\" class=\"data row4 col5\" >0.1945</td>\n",
       "      <td id=\"T_67a91_row4_col6\" class=\"data row4 col6\" >0.2131</td>\n",
       "      <td id=\"T_67a91_row4_col7\" class=\"data row4 col7\" >6.2885</td>\n",
       "      <td id=\"T_67a91_row4_col8\" class=\"data row4 col8\" >0.4765</td>\n",
       "    </tr>\n",
       "    <tr>\n",
       "      <th id=\"T_67a91_level0_row5\" class=\"row_heading level0 row5\" >5</th>\n",
       "      <td id=\"T_67a91_row5_col0\" class=\"data row5 col0\" >0.5686</td>\n",
       "      <td id=\"T_67a91_row5_col1\" class=\"data row5 col1\" >0.5843</td>\n",
       "      <td id=\"T_67a91_row5_col2\" class=\"data row5 col2\" >0.3613</td>\n",
       "      <td id=\"T_67a91_row5_col3\" class=\"data row5 col3\" >0.5773</td>\n",
       "      <td id=\"T_67a91_row5_col4\" class=\"data row5 col4\" >0.4444</td>\n",
       "      <td id=\"T_67a91_row5_col5\" class=\"data row5 col5\" >0.1213</td>\n",
       "      <td id=\"T_67a91_row5_col6\" class=\"data row5 col6\" >0.1303</td>\n",
       "      <td id=\"T_67a91_row5_col7\" class=\"data row5 col7\" >6.8781</td>\n",
       "      <td id=\"T_67a91_row5_col8\" class=\"data row5 col8\" >0.4444</td>\n",
       "    </tr>\n",
       "    <tr>\n",
       "      <th id=\"T_67a91_level0_row6\" class=\"row_heading level0 row6\" >6</th>\n",
       "      <td id=\"T_67a91_row6_col0\" class=\"data row6 col0\" >0.5824</td>\n",
       "      <td id=\"T_67a91_row6_col1\" class=\"data row6 col1\" >0.5782</td>\n",
       "      <td id=\"T_67a91_row6_col2\" class=\"data row6 col2\" >0.3468</td>\n",
       "      <td id=\"T_67a91_row6_col3\" class=\"data row6 col3\" >0.6108</td>\n",
       "      <td id=\"T_67a91_row6_col4\" class=\"data row6 col4\" >0.4424</td>\n",
       "      <td id=\"T_67a91_row6_col5\" class=\"data row6 col5\" >0.1474</td>\n",
       "      <td id=\"T_67a91_row6_col6\" class=\"data row6 col6\" >0.1626</td>\n",
       "      <td id=\"T_67a91_row6_col7\" class=\"data row6 col7\" >6.6570</td>\n",
       "      <td id=\"T_67a91_row6_col8\" class=\"data row6 col8\" >0.4424</td>\n",
       "    </tr>\n",
       "    <tr>\n",
       "      <th id=\"T_67a91_level0_row7\" class=\"row_heading level0 row7\" >7</th>\n",
       "      <td id=\"T_67a91_row7_col0\" class=\"data row7 col0\" >0.6094</td>\n",
       "      <td id=\"T_67a91_row7_col1\" class=\"data row7 col1\" >0.6272</td>\n",
       "      <td id=\"T_67a91_row7_col2\" class=\"data row7 col2\" >0.3742</td>\n",
       "      <td id=\"T_67a91_row7_col3\" class=\"data row7 col3\" >0.6610</td>\n",
       "      <td id=\"T_67a91_row7_col4\" class=\"data row7 col4\" >0.4779</td>\n",
       "      <td id=\"T_67a91_row7_col5\" class=\"data row7 col5\" >0.2024</td>\n",
       "      <td id=\"T_67a91_row7_col6\" class=\"data row7 col6\" >0.2234</td>\n",
       "      <td id=\"T_67a91_row7_col7\" class=\"data row7 col7\" >6.2271</td>\n",
       "      <td id=\"T_67a91_row7_col8\" class=\"data row7 col8\" >0.4779</td>\n",
       "    </tr>\n",
       "    <tr>\n",
       "      <th id=\"T_67a91_level0_row8\" class=\"row_heading level0 row8\" >8</th>\n",
       "      <td id=\"T_67a91_row8_col0\" class=\"data row8 col0\" >0.5878</td>\n",
       "      <td id=\"T_67a91_row8_col1\" class=\"data row8 col1\" >0.5975</td>\n",
       "      <td id=\"T_67a91_row8_col2\" class=\"data row8 col2\" >0.3597</td>\n",
       "      <td id=\"T_67a91_row8_col3\" class=\"data row8 col3\" >0.6177</td>\n",
       "      <td id=\"T_67a91_row8_col4\" class=\"data row8 col4\" >0.4546</td>\n",
       "      <td id=\"T_67a91_row8_col5\" class=\"data row8 col5\" >0.1590</td>\n",
       "      <td id=\"T_67a91_row8_col6\" class=\"data row8 col6\" >0.1741</td>\n",
       "      <td id=\"T_67a91_row8_col7\" class=\"data row8 col7\" >6.5710</td>\n",
       "      <td id=\"T_67a91_row8_col8\" class=\"data row8 col8\" >0.4546</td>\n",
       "    </tr>\n",
       "    <tr>\n",
       "      <th id=\"T_67a91_level0_row9\" class=\"row_heading level0 row9\" >9</th>\n",
       "      <td id=\"T_67a91_row9_col0\" class=\"data row9 col0\" >0.5894</td>\n",
       "      <td id=\"T_67a91_row9_col1\" class=\"data row9 col1\" >0.6072</td>\n",
       "      <td id=\"T_67a91_row9_col2\" class=\"data row9 col2\" >0.3629</td>\n",
       "      <td id=\"T_67a91_row9_col3\" class=\"data row9 col3\" >0.6198</td>\n",
       "      <td id=\"T_67a91_row9_col4\" class=\"data row9 col4\" >0.4578</td>\n",
       "      <td id=\"T_67a91_row9_col5\" class=\"data row9 col5\" >0.1622</td>\n",
       "      <td id=\"T_67a91_row9_col6\" class=\"data row9 col6\" >0.1774</td>\n",
       "      <td id=\"T_67a91_row9_col7\" class=\"data row9 col7\" >6.5464</td>\n",
       "      <td id=\"T_67a91_row9_col8\" class=\"data row9 col8\" >0.4578</td>\n",
       "    </tr>\n",
       "    <tr>\n",
       "      <th id=\"T_67a91_level0_row10\" class=\"row_heading level0 row10\" >Mean</th>\n",
       "      <td id=\"T_67a91_row10_col0\" class=\"data row10 col0\" >0.5913</td>\n",
       "      <td id=\"T_67a91_row10_col1\" class=\"data row10 col1\" >0.6034</td>\n",
       "      <td id=\"T_67a91_row10_col2\" class=\"data row10 col2\" >0.3647</td>\n",
       "      <td id=\"T_67a91_row10_col3\" class=\"data row10 col3\" >0.6231</td>\n",
       "      <td id=\"T_67a91_row10_col4\" class=\"data row10 col4\" >0.4600</td>\n",
       "      <td id=\"T_67a91_row10_col5\" class=\"data row10 col5\" >0.1659</td>\n",
       "      <td id=\"T_67a91_row10_col6\" class=\"data row10 col6\" >0.1815</td>\n",
       "      <td id=\"T_67a91_row10_col7\" class=\"data row10 col7\" >6.5160</td>\n",
       "      <td id=\"T_67a91_row10_col8\" class=\"data row10 col8\" >0.4600</td>\n",
       "    </tr>\n",
       "    <tr>\n",
       "      <th id=\"T_67a91_level0_row11\" class=\"row_heading level0 row11\" >Std</th>\n",
       "      <td id=\"T_67a91_row11_col0\" class=\"data row11 col0\" >0.0124</td>\n",
       "      <td id=\"T_67a91_row11_col1\" class=\"data row11 col1\" >0.0154</td>\n",
       "      <td id=\"T_67a91_row11_col2\" class=\"data row11 col2\" >0.0131</td>\n",
       "      <td id=\"T_67a91_row11_col3\" class=\"data row11 col3\" >0.0231</td>\n",
       "      <td id=\"T_67a91_row11_col4\" class=\"data row11 col4\" >0.0153</td>\n",
       "      <td id=\"T_67a91_row11_col5\" class=\"data row11 col5\" >0.0250</td>\n",
       "      <td id=\"T_67a91_row11_col6\" class=\"data row11 col6\" >0.0277</td>\n",
       "      <td id=\"T_67a91_row11_col7\" class=\"data row11 col7\" >0.1974</td>\n",
       "      <td id=\"T_67a91_row11_col8\" class=\"data row11 col8\" >0.0153</td>\n",
       "    </tr>\n",
       "  </tbody>\n",
       "</table>\n"
      ],
      "text/plain": [
       "<pandas.io.formats.style.Styler at 0x1aa11f5f610>"
      ]
     },
     "metadata": {},
     "output_type": "display_data"
    },
    {
     "data": {
      "text/html": [],
      "text/plain": [
       "<IPython.core.display.HTML object>"
      ]
     },
     "metadata": {},
     "output_type": "display_data"
    },
    {
     "name": "stdout",
     "output_type": "stream",
     "text": [
      "Fitting 10 folds for each of 10 candidates, totalling 100 fits\n"
     ]
    }
   ],
   "source": [
    "classification_best_tuned_model = classification_xp.tune_model(best_classification_model)"
   ]
  },
  {
   "cell_type": "code",
   "execution_count": 12,
   "metadata": {},
   "outputs": [
    {
     "data": {
      "text/plain": [
       "<bound method BaseEstimator.get_params of AdaBoostClassifier(algorithm='SAMME.R', base_estimator='deprecated',\n",
       "                   estimator=None, learning_rate=0.15, n_estimators=110,\n",
       "                   random_state=42)>"
      ]
     },
     "execution_count": 12,
     "metadata": {},
     "output_type": "execute_result"
    }
   ],
   "source": [
    "classification_best_tuned_model.get_params"
   ]
  },
  {
   "cell_type": "code",
   "execution_count": 13,
   "metadata": {},
   "outputs": [
    {
     "data": {
      "text/html": [],
      "text/plain": [
       "<IPython.core.display.HTML object>"
      ]
     },
     "metadata": {},
     "output_type": "display_data"
    }
   ],
   "source": [
    "classification_train_predictions = classification_xp.predict_model(classification_best_tuned_model, data=train_X)"
   ]
  },
  {
   "cell_type": "code",
   "execution_count": 14,
   "metadata": {},
   "outputs": [],
   "source": [
    "classification_train_log_loss_score = log_loss(train_y, classification_train_predictions['prediction_score'])\n",
    "classification_train_f1_score = f1_score(train_y, classification_train_predictions['prediction_label'])"
   ]
  },
  {
   "cell_type": "code",
   "execution_count": 15,
   "metadata": {},
   "outputs": [
    {
     "name": "stdout",
     "output_type": "stream",
     "text": [
      "Classification Train log_loss_score: 0.6934957461541119\n",
      "Classification Train f1_score: 0.46739393939393936\n"
     ]
    }
   ],
   "source": [
    "print('Classification Train log_loss_score: {}\\nClassification Train f1_score: {}'.format(classification_train_log_loss_score, classification_train_f1_score))"
   ]
  },
  {
   "cell_type": "code",
   "execution_count": 16,
   "metadata": {},
   "outputs": [
    {
     "data": {
      "text/html": [],
      "text/plain": [
       "<IPython.core.display.HTML object>"
      ]
     },
     "metadata": {},
     "output_type": "display_data"
    }
   ],
   "source": [
    "classification_test_predictions = classification_xp.predict_model(classification_best_tuned_model, data=test_X)"
   ]
  },
  {
   "cell_type": "code",
   "execution_count": 17,
   "metadata": {},
   "outputs": [],
   "source": [
    "classification_test_log_loss_score = log_loss(test_y, classification_test_predictions['prediction_score'])\n",
    "classification_test_f1_score = f1_score(test_y, classification_test_predictions['prediction_label'])"
   ]
  },
  {
   "attachments": {},
   "cell_type": "markdown",
   "metadata": {},
   "source": [
    "### Sumário"
   ]
  },
  {
   "cell_type": "code",
   "execution_count": null,
   "metadata": {},
   "outputs": [],
   "source": [
    "print('Métricas Regressão Linear')\n",
    "print('---------------------------------------------------------------')\n",
    "print('Logistic Regreeesion Train - log_loss_score: {}\\nLogistic Regression Train -  f1_score: {}'.format(lr_train_log_loss_score, lr_train_f1_score))\n",
    "# print('Logistic Regreeesion Test - log_loss_score: {}\\nLogistic Regression Train f1_score: {}'.format(lr_test_log_loss_score, lr_test_f1_score))\n",
    "print('')\n",
    "print('Métricas Classificador')\n",
    "print('---------------------------------------------------------------')\n",
    "print('Classification Train - log_loss_score: {}\\nClassification Train - f1_score: {}'.format(classification_train_log_loss_score, classification_train_f1_score))\n",
    "print('Classification Test - log_loss_score: {}\\nClassification Test - f1_score: {}'.format(classification_test_log_loss_score, classification_test_f1_score))\n",
    "print('')\n",
    "print('Predição com dados de treino - Classificador')\n",
    "print('---------------------------------------------------------------')\n",
    "print('Total de Registros: {}\\nTotal de erros: {}\\nTotal de acertos: {}'.format(\n",
    "    train_X.shape[0],\n",
    "    classification_train_predictions['prediction_label'].value_counts()[0],\n",
    "    classification_train_predictions['prediction_label'].value_counts()[1],\n",
    "))\n",
    "print('')\n",
    "print('Predição com dados de teste - Classificador')\n",
    "print('---------------------------------------------------------------')\n",
    "print('Total de Registros: {}\\nTotal de erros: {}\\nTotal de acertos: {}'.format(\n",
    "    test_X.shape[0],\n",
    "    classification_test_predictions['prediction_label'].value_counts()[0],\n",
    "    classification_test_predictions['prediction_label'].value_counts()[1],\n",
    "))"
   ]
  },
  {
   "attachments": {},
   "cell_type": "markdown",
   "metadata": {},
   "source": [
    "## Predição dos Arremessos com 3PT Field Goal"
   ]
  },
  {
   "cell_type": "code",
   "execution_count": 19,
   "metadata": {},
   "outputs": [],
   "source": [
    "three_points_df = raw_data[raw_data['shot_type'] == '3PT Field Goal']"
   ]
  },
  {
   "cell_type": "code",
   "execution_count": 20,
   "metadata": {},
   "outputs": [],
   "source": [
    "three_samples_labels = three_points_df['shot_made_flag']\n",
    "three_samples_df = three_points_df.drop('shot_made_flag', axis=1)"
   ]
  },
  {
   "attachments": {},
   "cell_type": "markdown",
   "metadata": {},
   "source": [
    "### Classification Prediction"
   ]
  },
  {
   "cell_type": "code",
   "execution_count": 21,
   "metadata": {},
   "outputs": [
    {
     "data": {
      "text/html": [],
      "text/plain": [
       "<IPython.core.display.HTML object>"
      ]
     },
     "metadata": {},
     "output_type": "display_data"
    }
   ],
   "source": [
    "classification_three_points_predictions = classification_xp.predict_model(classification_best_tuned_model, data=three_samples_df)"
   ]
  },
  {
   "cell_type": "code",
   "execution_count": 22,
   "metadata": {},
   "outputs": [
    {
     "data": {
      "text/html": [
       "<div>\n",
       "<style scoped>\n",
       "    .dataframe tbody tr th:only-of-type {\n",
       "        vertical-align: middle;\n",
       "    }\n",
       "\n",
       "    .dataframe tbody tr th {\n",
       "        vertical-align: top;\n",
       "    }\n",
       "\n",
       "    .dataframe thead th {\n",
       "        text-align: right;\n",
       "    }\n",
       "</style>\n",
       "<table border=\"1\" class=\"dataframe\">\n",
       "  <thead>\n",
       "    <tr style=\"text-align: right;\">\n",
       "      <th></th>\n",
       "      <th>lat</th>\n",
       "      <th>lon</th>\n",
       "      <th>minutes_remaining</th>\n",
       "      <th>period</th>\n",
       "      <th>playoffs</th>\n",
       "      <th>shot_distance</th>\n",
       "      <th>shot_made_flag</th>\n",
       "      <th>prediction_label</th>\n",
       "      <th>prediction_score</th>\n",
       "    </tr>\n",
       "  </thead>\n",
       "  <tbody>\n",
       "    <tr>\n",
       "      <th>10</th>\n",
       "      <td>33.806301</td>\n",
       "      <td>-118.363800</td>\n",
       "      <td>1</td>\n",
       "      <td>3</td>\n",
       "      <td>0</td>\n",
       "      <td>25</td>\n",
       "      <td>0.0</td>\n",
       "      <td>0</td>\n",
       "      <td>0.5084</td>\n",
       "    </tr>\n",
       "    <tr>\n",
       "      <th>17</th>\n",
       "      <td>33.818298</td>\n",
       "      <td>-118.386803</td>\n",
       "      <td>8</td>\n",
       "      <td>2</td>\n",
       "      <td>0</td>\n",
       "      <td>25</td>\n",
       "      <td>1.0</td>\n",
       "      <td>0</td>\n",
       "      <td>0.5084</td>\n",
       "    </tr>\n",
       "    <tr>\n",
       "      <th>27</th>\n",
       "      <td>33.858299</td>\n",
       "      <td>-118.452797</td>\n",
       "      <td>0</td>\n",
       "      <td>3</td>\n",
       "      <td>0</td>\n",
       "      <td>26</td>\n",
       "      <td>0.0</td>\n",
       "      <td>0</td>\n",
       "      <td>0.5060</td>\n",
       "    </tr>\n",
       "    <tr>\n",
       "      <th>39</th>\n",
       "      <td>33.772301</td>\n",
       "      <td>-118.296799</td>\n",
       "      <td>0</td>\n",
       "      <td>2</td>\n",
       "      <td>0</td>\n",
       "      <td>27</td>\n",
       "      <td>1.0</td>\n",
       "      <td>0</td>\n",
       "      <td>0.5069</td>\n",
       "    </tr>\n",
       "    <tr>\n",
       "      <th>55</th>\n",
       "      <td>33.850300</td>\n",
       "      <td>-118.424797</td>\n",
       "      <td>2</td>\n",
       "      <td>1</td>\n",
       "      <td>0</td>\n",
       "      <td>24</td>\n",
       "      <td>0.0</td>\n",
       "      <td>0</td>\n",
       "      <td>0.5051</td>\n",
       "    </tr>\n",
       "    <tr>\n",
       "      <th>...</th>\n",
       "      <td>...</td>\n",
       "      <td>...</td>\n",
       "      <td>...</td>\n",
       "      <td>...</td>\n",
       "      <td>...</td>\n",
       "      <td>...</td>\n",
       "      <td>...</td>\n",
       "      <td>...</td>\n",
       "      <td>...</td>\n",
       "    </tr>\n",
       "    <tr>\n",
       "      <th>30675</th>\n",
       "      <td>33.828300</td>\n",
       "      <td>-118.403801</td>\n",
       "      <td>2</td>\n",
       "      <td>1</td>\n",
       "      <td>1</td>\n",
       "      <td>25</td>\n",
       "      <td>0.0</td>\n",
       "      <td>0</td>\n",
       "      <td>0.5078</td>\n",
       "    </tr>\n",
       "    <tr>\n",
       "      <th>30681</th>\n",
       "      <td>33.783298</td>\n",
       "      <td>-118.287804</td>\n",
       "      <td>0</td>\n",
       "      <td>2</td>\n",
       "      <td>1</td>\n",
       "      <td>26</td>\n",
       "      <td>1.0</td>\n",
       "      <td>0</td>\n",
       "      <td>0.5069</td>\n",
       "    </tr>\n",
       "    <tr>\n",
       "      <th>30685</th>\n",
       "      <td>33.794300</td>\n",
       "      <td>-118.188797</td>\n",
       "      <td>7</td>\n",
       "      <td>3</td>\n",
       "      <td>1</td>\n",
       "      <td>26</td>\n",
       "      <td>0.0</td>\n",
       "      <td>0</td>\n",
       "      <td>0.5061</td>\n",
       "    </tr>\n",
       "    <tr>\n",
       "      <th>30689</th>\n",
       "      <td>33.365299</td>\n",
       "      <td>-118.281799</td>\n",
       "      <td>0</td>\n",
       "      <td>3</td>\n",
       "      <td>1</td>\n",
       "      <td>67</td>\n",
       "      <td>0.0</td>\n",
       "      <td>0</td>\n",
       "      <td>0.5069</td>\n",
       "    </tr>\n",
       "    <tr>\n",
       "      <th>30695</th>\n",
       "      <td>33.777302</td>\n",
       "      <td>-118.238800</td>\n",
       "      <td>2</td>\n",
       "      <td>4</td>\n",
       "      <td>1</td>\n",
       "      <td>26</td>\n",
       "      <td>0.0</td>\n",
       "      <td>0</td>\n",
       "      <td>0.5070</td>\n",
       "    </tr>\n",
       "  </tbody>\n",
       "</table>\n",
       "<p>5412 rows × 9 columns</p>\n",
       "</div>"
      ],
      "text/plain": [
       "             lat         lon  minutes_remaining  period  playoffs  \\\n",
       "10     33.806301 -118.363800                  1       3         0   \n",
       "17     33.818298 -118.386803                  8       2         0   \n",
       "27     33.858299 -118.452797                  0       3         0   \n",
       "39     33.772301 -118.296799                  0       2         0   \n",
       "55     33.850300 -118.424797                  2       1         0   \n",
       "...          ...         ...                ...     ...       ...   \n",
       "30675  33.828300 -118.403801                  2       1         1   \n",
       "30681  33.783298 -118.287804                  0       2         1   \n",
       "30685  33.794300 -118.188797                  7       3         1   \n",
       "30689  33.365299 -118.281799                  0       3         1   \n",
       "30695  33.777302 -118.238800                  2       4         1   \n",
       "\n",
       "       shot_distance  shot_made_flag  prediction_label  prediction_score  \n",
       "10                25             0.0                 0            0.5084  \n",
       "17                25             1.0                 0            0.5084  \n",
       "27                26             0.0                 0            0.5060  \n",
       "39                27             1.0                 0            0.5069  \n",
       "55                24             0.0                 0            0.5051  \n",
       "...              ...             ...               ...               ...  \n",
       "30675             25             0.0                 0            0.5078  \n",
       "30681             26             1.0                 0            0.5069  \n",
       "30685             26             0.0                 0            0.5061  \n",
       "30689             67             0.0                 0            0.5069  \n",
       "30695             26             0.0                 0            0.5070  \n",
       "\n",
       "[5412 rows x 9 columns]"
      ]
     },
     "execution_count": 22,
     "metadata": {},
     "output_type": "execute_result"
    }
   ],
   "source": [
    "classification_three_points_predictions_df = classification_three_points_predictions\n",
    "classification_three_points_predictions_df[target] = three_points_df[target]\n",
    "classification_three_points_predictions_df[['lat', 'lon', 'minutes_remaining', 'period', 'playoffs', 'shot_distance', 'shot_made_flag', 'prediction_label', 'prediction_score']]"
   ]
  },
  {
   "cell_type": "code",
   "execution_count": 23,
   "metadata": {},
   "outputs": [],
   "source": [
    "classification_three_points_predictions_log_loss_score = log_loss(three_points_df['shot_made_flag'], classification_three_points_predictions['prediction_score'])\n",
    "classification_three_points_predictions_f1_score = f1_score(three_points_df['shot_made_flag'], classification_three_points_predictions['prediction_label'])"
   ]
  },
  {
   "cell_type": "code",
   "execution_count": 24,
   "metadata": {},
   "outputs": [
    {
     "name": "stdout",
     "output_type": "stream",
     "text": [
      "Three Points Predictions log_loss_score: 0.7024367545108244\n",
      "Three Points Predictions f1_score: 0.08789062499999999\n"
     ]
    }
   ],
   "source": [
    "print('Three Points Predictions log_loss_score: {}\\nThree Points Predictions f1_score: {}'.format(classification_three_points_predictions_log_loss_score, classification_three_points_predictions_f1_score))"
   ]
  },
  {
   "attachments": {},
   "cell_type": "markdown",
   "metadata": {},
   "source": [
    "### Logistic Regression Prediction"
   ]
  },
  {
   "cell_type": "code",
   "execution_count": null,
   "metadata": {},
   "outputs": [],
   "source": [
    "lr_three_points_predictions = lr_xp.predict_model(lr_tuned_model, data=three_samples_df)"
   ]
  },
  {
   "cell_type": "code",
   "execution_count": null,
   "metadata": {},
   "outputs": [],
   "source": [
    "lr_three_points_predictions_df = lr_three_points_predictions\n",
    "lr_three_points_predictions_df[target] = three_points_df[target]\n",
    "lr_three_points_predictions_df[['lat', 'lon', 'minutes_remaining', 'period', 'playoffs', 'shot_distance', 'shot_made_flag', 'prediction_label', 'prediction_score']]"
   ]
  },
  {
   "cell_type": "code",
   "execution_count": null,
   "metadata": {},
   "outputs": [],
   "source": [
    "lr_three_points_predictions_log_loss_score = log_loss(three_points_df['shot_made_flag'], lr_three_points_predictions['prediction_score'])\n",
    "lr_three_points_predictions_f1_score = f1_score(three_points_df['shot_made_flag'], lr_three_points_predictions['prediction_label'])"
   ]
  },
  {
   "cell_type": "code",
   "execution_count": null,
   "metadata": {},
   "outputs": [],
   "source": [
    "print('Three Points Predictions log_loss_score: {}\\nThree Points Predictions f1_score: {}'.format(lr_three_points_predictions_log_loss_score, lr_three_points_predictions_f1_score))"
   ]
  },
  {
   "attachments": {},
   "cell_type": "markdown",
   "metadata": {},
   "source": [
    "### Sumário"
   ]
  },
  {
   "cell_type": "code",
   "execution_count": null,
   "metadata": {},
   "outputs": [],
   "source": [
    "classification_best_tuned_model.get_params"
   ]
  },
  {
   "cell_type": "code",
   "execution_count": 25,
   "metadata": {},
   "outputs": [
    {
     "name": "stdout",
     "output_type": "stream",
     "text": [
      "--- Classification Test Data Prediction ---\n",
      "-------------------------------------------\n",
      "Total de arremessos: 5412\n",
      "Arremessos perdidos: 5146\n",
      "Arremessos convertidos: 266\n",
      "-------------------------------------------\n"
     ]
    }
   ],
   "source": [
    "print('--- Classification Test Data Prediction ---')\n",
    "print('-------------------------------------------')\n",
    "print('Total de arremessos: {}\\nArremessos perdidos: {}\\nArremessos convertidos: {}'.format(\n",
    "    three_samples_df.shape[0],\n",
    "    classification_three_points_predictions['prediction_label'].value_counts()[0],\n",
    "    classification_three_points_predictions['prediction_label'].value_counts()[1],\n",
    "))\n",
    "print('-------------------------------------------')"
   ]
  },
  {
   "cell_type": "code",
   "execution_count": 26,
   "metadata": {},
   "outputs": [
    {
     "data": {
      "image/png": "[encoded data removed]",
      "text/plain": [
       "<Figure size 800x550 with 2 Axes>"
      ]
     },
     "metadata": {},
     "output_type": "display_data"
    }
   ],
   "source": [
    "plot_confusion_matrix(three_samples_labels, classification_three_points_predictions['prediction_label'])"
   ]
  },
  {
   "cell_type": "code",
   "execution_count": null,
   "metadata": {},
   "outputs": [],
   "source": [
    "lr_tuned_model.get_params"
   ]
  },
  {
   "cell_type": "code",
   "execution_count": null,
   "metadata": {},
   "outputs": [],
   "source": [
    "print('--- Logistic Regression Test Data Prediction ---')\n",
    "print('-------------------------------------------')\n",
    "print('Total de arremessos: {}\\nArremessos perdidos: {}\\nArremessos convertidos: {}'.format(\n",
    "    three_samples_df.shape[0],\n",
    "    lr_three_points_predictions['prediction_label'].value_counts()[0],\n",
    "    lr_three_points_predictions['prediction_label'].value_counts()[1],\n",
    "))\n",
    "print('-------------------------------------------')"
   ]
  },
  {
   "cell_type": "code",
   "execution_count": null,
   "metadata": {},
   "outputs": [],
   "source": [
    "plot_confusion_matrix(three_samples_labels, lr_three_points_predictions['prediction_label'])"
   ]
  }
 ],
 "metadata": {
  "kernelspec": {
   "display_name": ".venv",
   "language": "python",
   "name": "python3"
  },
  "language_info": {
   "codemirror_mode": {
    "name": "ipython",
    "version": 3
   },
   "file_extension": ".py",
   "mimetype": "text/x-python",
   "name": "python",
   "nbconvert_exporter": "python",
   "pygments_lexer": "ipython3",
   "version": "3.10.4"
  },
  "orig_nbformat": 4,
  "vscode": {
   "interpreter": {
    "hash": "6d24f039cf43d64e7e42b08c2913f041bebaafd7e3c1194964c92cc1c6881dd9"
   }
  }
 },
 "nbformat": 4,
 "nbformat_minor": 2
}
