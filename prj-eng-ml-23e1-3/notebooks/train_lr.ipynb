{
 "cells": [
  {
   "cell_type": "code",
   "execution_count": 1,
   "metadata": {},
   "outputs": [],
   "source": [
    "from sklearn.metrics import log_loss, f1_score\n",
    "from pycaret.classification import *"
   ]
  },
  {
   "cell_type": "code",
   "execution_count": 2,
   "metadata": {},
   "outputs": [],
   "source": [
    "random_state = 42\n",
    "folds = 2\n",
    "target = 'shot_made_flag'"
   ]
  },
  {
   "cell_type": "code",
   "execution_count": 3,
   "metadata": {},
   "outputs": [
    {
     "data": {
      "text/html": [
       "<pre style=\"white-space:pre;overflow-x:auto;line-height:normal;font-family:Menlo,'DejaVu Sans Mono',consolas,'Courier New',monospace\"><span style=\"color: #7fbfbf; text-decoration-color: #7fbfbf\">[04/16/23 17:25:18] </span><span style=\"color: #000080; text-decoration-color: #000080\">INFO    </span> Loading data from <span style=\"color: #008000; text-decoration-color: #008000\">'data_train'</span> <span style=\"font-weight: bold\">(</span>ParquetDataSet<span style=\"font-weight: bold\">)</span><span style=\"color: #808000; text-decoration-color: #808000\">...</span>                 <span style=\"color: #7f7f7f; text-decoration-color: #7f7f7f\">data_catalog.py:343</span>\n",
       "</pre>\n"
      ],
      "text/plain": [
       "\u001b[2;36m[04/16/23 17:25:18]\u001b[0m\u001b[2;36m \u001b[0m\u001b[34mINFO    \u001b[0m Loading data from \u001b[32m'data_train'\u001b[0m \u001b[1m(\u001b[0mParquetDataSet\u001b[1m)\u001b[0m\u001b[33m...\u001b[0m                 \u001b[2mdata_catalog.py\u001b[0m\u001b[2m:\u001b[0m\u001b[2m343\u001b[0m\n"
      ]
     },
     "metadata": {},
     "output_type": "display_data"
    },
    {
     "data": {
      "text/html": [
       "<pre style=\"white-space:pre;overflow-x:auto;line-height:normal;font-family:Menlo,'DejaVu Sans Mono',consolas,'Courier New',monospace\"><span style=\"color: #7fbfbf; text-decoration-color: #7fbfbf\">                    </span><span style=\"color: #000080; text-decoration-color: #000080\">INFO    </span> Loading data from <span style=\"color: #008000; text-decoration-color: #008000\">'data_test'</span> <span style=\"font-weight: bold\">(</span>ParquetDataSet<span style=\"font-weight: bold\">)</span><span style=\"color: #808000; text-decoration-color: #808000\">...</span>                  <span style=\"color: #7f7f7f; text-decoration-color: #7f7f7f\">data_catalog.py:343</span>\n",
       "</pre>\n"
      ],
      "text/plain": [
       "\u001b[2;36m                   \u001b[0m\u001b[2;36m \u001b[0m\u001b[34mINFO    \u001b[0m Loading data from \u001b[32m'data_test'\u001b[0m \u001b[1m(\u001b[0mParquetDataSet\u001b[1m)\u001b[0m\u001b[33m...\u001b[0m                  \u001b[2mdata_catalog.py\u001b[0m\u001b[2m:\u001b[0m\u001b[2m343\u001b[0m\n"
      ]
     },
     "metadata": {},
     "output_type": "display_data"
    },
    {
     "data": {
      "text/html": [
       "<pre style=\"white-space:pre;overflow-x:auto;line-height:normal;font-family:Menlo,'DejaVu Sans Mono',consolas,'Courier New',monospace\"><span style=\"color: #7fbfbf; text-decoration-color: #7fbfbf\">                    </span><span style=\"color: #000080; text-decoration-color: #000080\">INFO    </span> Loading data from <span style=\"color: #008000; text-decoration-color: #008000\">'labels_test'</span> <span style=\"font-weight: bold\">(</span>ParquetDataSet<span style=\"font-weight: bold\">)</span><span style=\"color: #808000; text-decoration-color: #808000\">...</span>                <span style=\"color: #7f7f7f; text-decoration-color: #7f7f7f\">data_catalog.py:343</span>\n",
       "</pre>\n"
      ],
      "text/plain": [
       "\u001b[2;36m                   \u001b[0m\u001b[2;36m \u001b[0m\u001b[34mINFO    \u001b[0m Loading data from \u001b[32m'labels_test'\u001b[0m \u001b[1m(\u001b[0mParquetDataSet\u001b[1m)\u001b[0m\u001b[33m...\u001b[0m                \u001b[2mdata_catalog.py\u001b[0m\u001b[2m:\u001b[0m\u001b[2m343\u001b[0m\n"
      ]
     },
     "metadata": {},
     "output_type": "display_data"
    },
    {
     "data": {
      "text/html": [
       "<pre style=\"white-space:pre;overflow-x:auto;line-height:normal;font-family:Menlo,'DejaVu Sans Mono',consolas,'Courier New',monospace\"><span style=\"color: #7fbfbf; text-decoration-color: #7fbfbf\">                    </span><span style=\"color: #000080; text-decoration-color: #000080\">INFO    </span> Loading data from <span style=\"color: #008000; text-decoration-color: #008000\">'labels_train'</span> <span style=\"font-weight: bold\">(</span>ParquetDataSet<span style=\"font-weight: bold\">)</span><span style=\"color: #808000; text-decoration-color: #808000\">...</span>               <span style=\"color: #7f7f7f; text-decoration-color: #7f7f7f\">data_catalog.py:343</span>\n",
       "</pre>\n"
      ],
      "text/plain": [
       "\u001b[2;36m                   \u001b[0m\u001b[2;36m \u001b[0m\u001b[34mINFO    \u001b[0m Loading data from \u001b[32m'labels_train'\u001b[0m \u001b[1m(\u001b[0mParquetDataSet\u001b[1m)\u001b[0m\u001b[33m...\u001b[0m               \u001b[2mdata_catalog.py\u001b[0m\u001b[2m:\u001b[0m\u001b[2m343\u001b[0m\n"
      ]
     },
     "metadata": {},
     "output_type": "display_data"
    }
   ],
   "source": [
    "data_train = catalog.load('data_train')\n",
    "data_test = catalog.load('data_test')\n",
    "\n",
    "labels_test = catalog.load('labels_test')\n",
    "labels_train = catalog.load('labels_train')"
   ]
  },
  {
   "cell_type": "code",
   "execution_count": null,
   "metadata": {},
   "outputs": [],
   "source": [
    "############################### get_logistic_regression_metrics ###############################"
   ]
  },
  {
   "cell_type": "code",
   "execution_count": null,
   "metadata": {},
   "outputs": [],
   "source": [
    "setup(\n",
    "        data = data_train,\n",
    "        session_id = random_state,\n",
    "        fold = folds,\n",
    "        n_jobs = -2,\n",
    "        fold_strategy = 'stratifiedkfold',\n",
    "        experiment_name = 'logistic_regression_metrics'\n",
    "    ).add_metric(\n",
    "        'logloss',\n",
    "        'Log Loss',\n",
    "        log_loss,\n",
    "        greater_is_better = False\n",
    "    )"
   ]
  },
  {
   "cell_type": "code",
   "execution_count": null,
   "metadata": {},
   "outputs": [],
   "source": [
    "lr_model = create_model('lr')"
   ]
  },
  {
   "cell_type": "code",
   "execution_count": null,
   "metadata": {},
   "outputs": [],
   "source": [
    "lr_tuned_model = tune_model(lr_model)"
   ]
  },
  {
   "cell_type": "code",
   "execution_count": null,
   "metadata": {},
   "outputs": [],
   "source": [
    "predictions = predict_model(lr_tuned_model, data=data_test)"
   ]
  },
  {
   "cell_type": "code",
   "execution_count": null,
   "metadata": {},
   "outputs": [],
   "source": [
    "labels_test"
   ]
  },
  {
   "cell_type": "code",
   "execution_count": null,
   "metadata": {},
   "outputs": [],
   "source": [
    "log_loss_score = log_loss(labels_test, predictions['prediction_score'])"
   ]
  },
  {
   "cell_type": "code",
   "execution_count": null,
   "metadata": {},
   "outputs": [],
   "source": [
    "log_loss_score"
   ]
  },
  {
   "cell_type": "code",
   "execution_count": null,
   "metadata": {},
   "outputs": [],
   "source": [
    "############################### train_classification_model ###############################"
   ]
  },
  {
   "cell_type": "code",
   "execution_count": 4,
   "metadata": {},
   "outputs": [
    {
     "data": {
      "text/html": [
       "<style type=\"text/css\">\n",
       "#T_53f3b_row8_col1 {\n",
       "  background-color: lightgreen;\n",
       "}\n",
       "</style>\n",
       "<table id=\"T_53f3b\">\n",
       "  <thead>\n",
       "    <tr>\n",
       "      <th class=\"blank level0\" >&nbsp;</th>\n",
       "      <th id=\"T_53f3b_level0_col0\" class=\"col_heading level0 col0\" >Description</th>\n",
       "      <th id=\"T_53f3b_level0_col1\" class=\"col_heading level0 col1\" >Value</th>\n",
       "    </tr>\n",
       "  </thead>\n",
       "  <tbody>\n",
       "    <tr>\n",
       "      <th id=\"T_53f3b_level0_row0\" class=\"row_heading level0 row0\" >0</th>\n",
       "      <td id=\"T_53f3b_row0_col0\" class=\"data row0 col0\" >Session id</td>\n",
       "      <td id=\"T_53f3b_row0_col1\" class=\"data row0 col1\" >42</td>\n",
       "    </tr>\n",
       "    <tr>\n",
       "      <th id=\"T_53f3b_level0_row1\" class=\"row_heading level0 row1\" >1</th>\n",
       "      <td id=\"T_53f3b_row1_col0\" class=\"data row1 col0\" >Target</td>\n",
       "      <td id=\"T_53f3b_row1_col1\" class=\"data row1 col1\" >shot_distance</td>\n",
       "    </tr>\n",
       "    <tr>\n",
       "      <th id=\"T_53f3b_level0_row2\" class=\"row_heading level0 row2\" >2</th>\n",
       "      <td id=\"T_53f3b_row2_col0\" class=\"data row2 col0\" >Target type</td>\n",
       "      <td id=\"T_53f3b_row2_col1\" class=\"data row2 col1\" >Multiclass</td>\n",
       "    </tr>\n",
       "    <tr>\n",
       "      <th id=\"T_53f3b_level0_row3\" class=\"row_heading level0 row3\" >3</th>\n",
       "      <td id=\"T_53f3b_row3_col0\" class=\"data row3 col0\" >Original data shape</td>\n",
       "      <td id=\"T_53f3b_row3_col1\" class=\"data row3 col1\" >(4057, 6)</td>\n",
       "    </tr>\n",
       "    <tr>\n",
       "      <th id=\"T_53f3b_level0_row4\" class=\"row_heading level0 row4\" >4</th>\n",
       "      <td id=\"T_53f3b_row4_col0\" class=\"data row4 col0\" >Transformed data shape</td>\n",
       "      <td id=\"T_53f3b_row4_col1\" class=\"data row4 col1\" >(4057, 6)</td>\n",
       "    </tr>\n",
       "    <tr>\n",
       "      <th id=\"T_53f3b_level0_row5\" class=\"row_heading level0 row5\" >5</th>\n",
       "      <td id=\"T_53f3b_row5_col0\" class=\"data row5 col0\" >Transformed train set shape</td>\n",
       "      <td id=\"T_53f3b_row5_col1\" class=\"data row5 col1\" >(2839, 6)</td>\n",
       "    </tr>\n",
       "    <tr>\n",
       "      <th id=\"T_53f3b_level0_row6\" class=\"row_heading level0 row6\" >6</th>\n",
       "      <td id=\"T_53f3b_row6_col0\" class=\"data row6 col0\" >Transformed test set shape</td>\n",
       "      <td id=\"T_53f3b_row6_col1\" class=\"data row6 col1\" >(1218, 6)</td>\n",
       "    </tr>\n",
       "    <tr>\n",
       "      <th id=\"T_53f3b_level0_row7\" class=\"row_heading level0 row7\" >7</th>\n",
       "      <td id=\"T_53f3b_row7_col0\" class=\"data row7 col0\" >Numeric features</td>\n",
       "      <td id=\"T_53f3b_row7_col1\" class=\"data row7 col1\" >5</td>\n",
       "    </tr>\n",
       "    <tr>\n",
       "      <th id=\"T_53f3b_level0_row8\" class=\"row_heading level0 row8\" >8</th>\n",
       "      <td id=\"T_53f3b_row8_col0\" class=\"data row8 col0\" >Preprocess</td>\n",
       "      <td id=\"T_53f3b_row8_col1\" class=\"data row8 col1\" >True</td>\n",
       "    </tr>\n",
       "    <tr>\n",
       "      <th id=\"T_53f3b_level0_row9\" class=\"row_heading level0 row9\" >9</th>\n",
       "      <td id=\"T_53f3b_row9_col0\" class=\"data row9 col0\" >Imputation type</td>\n",
       "      <td id=\"T_53f3b_row9_col1\" class=\"data row9 col1\" >simple</td>\n",
       "    </tr>\n",
       "    <tr>\n",
       "      <th id=\"T_53f3b_level0_row10\" class=\"row_heading level0 row10\" >10</th>\n",
       "      <td id=\"T_53f3b_row10_col0\" class=\"data row10 col0\" >Numeric imputation</td>\n",
       "      <td id=\"T_53f3b_row10_col1\" class=\"data row10 col1\" >mean</td>\n",
       "    </tr>\n",
       "    <tr>\n",
       "      <th id=\"T_53f3b_level0_row11\" class=\"row_heading level0 row11\" >11</th>\n",
       "      <td id=\"T_53f3b_row11_col0\" class=\"data row11 col0\" >Categorical imputation</td>\n",
       "      <td id=\"T_53f3b_row11_col1\" class=\"data row11 col1\" >mode</td>\n",
       "    </tr>\n",
       "    <tr>\n",
       "      <th id=\"T_53f3b_level0_row12\" class=\"row_heading level0 row12\" >12</th>\n",
       "      <td id=\"T_53f3b_row12_col0\" class=\"data row12 col0\" >Fold Generator</td>\n",
       "      <td id=\"T_53f3b_row12_col1\" class=\"data row12 col1\" >StratifiedKFold</td>\n",
       "    </tr>\n",
       "    <tr>\n",
       "      <th id=\"T_53f3b_level0_row13\" class=\"row_heading level0 row13\" >13</th>\n",
       "      <td id=\"T_53f3b_row13_col0\" class=\"data row13 col0\" >Fold Number</td>\n",
       "      <td id=\"T_53f3b_row13_col1\" class=\"data row13 col1\" >2</td>\n",
       "    </tr>\n",
       "    <tr>\n",
       "      <th id=\"T_53f3b_level0_row14\" class=\"row_heading level0 row14\" >14</th>\n",
       "      <td id=\"T_53f3b_row14_col0\" class=\"data row14 col0\" >CPU Jobs</td>\n",
       "      <td id=\"T_53f3b_row14_col1\" class=\"data row14 col1\" >-2</td>\n",
       "    </tr>\n",
       "    <tr>\n",
       "      <th id=\"T_53f3b_level0_row15\" class=\"row_heading level0 row15\" >15</th>\n",
       "      <td id=\"T_53f3b_row15_col0\" class=\"data row15 col0\" >Use GPU</td>\n",
       "      <td id=\"T_53f3b_row15_col1\" class=\"data row15 col1\" >False</td>\n",
       "    </tr>\n",
       "    <tr>\n",
       "      <th id=\"T_53f3b_level0_row16\" class=\"row_heading level0 row16\" >16</th>\n",
       "      <td id=\"T_53f3b_row16_col0\" class=\"data row16 col0\" >Log Experiment</td>\n",
       "      <td id=\"T_53f3b_row16_col1\" class=\"data row16 col1\" >False</td>\n",
       "    </tr>\n",
       "    <tr>\n",
       "      <th id=\"T_53f3b_level0_row17\" class=\"row_heading level0 row17\" >17</th>\n",
       "      <td id=\"T_53f3b_row17_col0\" class=\"data row17 col0\" >Experiment Name</td>\n",
       "      <td id=\"T_53f3b_row17_col1\" class=\"data row17 col1\" >classification_xp</td>\n",
       "    </tr>\n",
       "    <tr>\n",
       "      <th id=\"T_53f3b_level0_row18\" class=\"row_heading level0 row18\" >18</th>\n",
       "      <td id=\"T_53f3b_row18_col0\" class=\"data row18 col0\" >USI</td>\n",
       "      <td id=\"T_53f3b_row18_col1\" class=\"data row18 col1\" >b10a</td>\n",
       "    </tr>\n",
       "  </tbody>\n",
       "</table>\n"
      ],
      "text/plain": [
       "<pandas.io.formats.style.Styler at 0x27b3b99b010>"
      ]
     },
     "metadata": {},
     "output_type": "display_data"
    },
    {
     "data": {
      "text/plain": [
       "<pycaret.classification.oop.ClassificationExperiment at 0x27b3b4ee560>"
      ]
     },
     "execution_count": 4,
     "metadata": {},
     "output_type": "execute_result"
    }
   ],
   "source": [
    "classification_xp = ClassificationExperiment()\n",
    "classification_xp.setup(\n",
    "    data = data_train,\n",
    "    session_id = random_state,\n",
    "    fold = folds,\n",
    "    n_jobs = -2,\n",
    "    fold_strategy = 'stratifiedkfold',\n",
    "    experiment_name = 'classification_xp'\n",
    ")"
   ]
  },
  {
   "cell_type": "code",
   "execution_count": null,
   "metadata": {},
   "outputs": [],
   "source": [
    "data_train"
   ]
  },
  {
   "cell_type": "code",
   "execution_count": null,
   "metadata": {},
   "outputs": [],
   "source": [
    "data_test"
   ]
  },
  {
   "cell_type": "code",
   "execution_count": 5,
   "metadata": {},
   "outputs": [
    {
     "data": {
      "text/plain": [
       "Name                                                       Log Loss\n",
       "Display Name                                               Log Loss\n",
       "Score Function            <function log_loss at 0x0000027B3788DA20>\n",
       "Scorer               make_scorer(log_loss, greater_is_better=False)\n",
       "Target                                                         pred\n",
       "Args                                                             {}\n",
       "Greater is Better                                             False\n",
       "Multiclass                                                     True\n",
       "Custom                                                         True\n",
       "Name: logloss, dtype: object"
      ]
     },
     "execution_count": 5,
     "metadata": {},
     "output_type": "execute_result"
    }
   ],
   "source": [
    "classification_xp.add_metric(\n",
    "    'logloss',\n",
    "    'Log Loss',\n",
    "    log_loss,\n",
    "    greater_is_better = False\n",
    ")"
   ]
  },
  {
   "cell_type": "code",
   "execution_count": 6,
   "metadata": {},
   "outputs": [
    {
     "data": {
      "text/html": [],
      "text/plain": [
       "<IPython.core.display.HTML object>"
      ]
     },
     "metadata": {},
     "output_type": "display_data"
    },
    {
     "data": {
      "text/html": [
       "<style type=\"text/css\">\n",
       "#T_f2f25 th {\n",
       "  text-align: left;\n",
       "}\n",
       "#T_f2f25_row0_col0, #T_f2f25_row0_col2, #T_f2f25_row1_col0, #T_f2f25_row1_col1, #T_f2f25_row1_col3, #T_f2f25_row1_col4, #T_f2f25_row1_col5, #T_f2f25_row1_col6, #T_f2f25_row1_col7, #T_f2f25_row2_col0, #T_f2f25_row2_col1, #T_f2f25_row2_col2, #T_f2f25_row2_col3, #T_f2f25_row2_col4, #T_f2f25_row2_col5, #T_f2f25_row2_col6, #T_f2f25_row2_col7, #T_f2f25_row3_col0, #T_f2f25_row3_col1, #T_f2f25_row3_col2, #T_f2f25_row3_col3, #T_f2f25_row3_col4, #T_f2f25_row3_col5, #T_f2f25_row3_col6, #T_f2f25_row3_col7, #T_f2f25_row4_col0, #T_f2f25_row4_col1, #T_f2f25_row4_col2, #T_f2f25_row4_col3, #T_f2f25_row4_col4, #T_f2f25_row4_col5, #T_f2f25_row4_col6, #T_f2f25_row4_col7, #T_f2f25_row5_col0, #T_f2f25_row5_col1, #T_f2f25_row5_col2, #T_f2f25_row5_col3, #T_f2f25_row5_col4, #T_f2f25_row5_col5, #T_f2f25_row5_col6, #T_f2f25_row5_col7, #T_f2f25_row6_col0, #T_f2f25_row6_col1, #T_f2f25_row6_col2, #T_f2f25_row6_col3, #T_f2f25_row6_col4, #T_f2f25_row6_col5, #T_f2f25_row6_col6, #T_f2f25_row6_col7, #T_f2f25_row7_col0, #T_f2f25_row7_col1, #T_f2f25_row7_col2, #T_f2f25_row7_col3, #T_f2f25_row7_col4, #T_f2f25_row7_col5, #T_f2f25_row7_col6, #T_f2f25_row7_col7, #T_f2f25_row8_col0, #T_f2f25_row8_col1, #T_f2f25_row8_col2, #T_f2f25_row8_col3, #T_f2f25_row8_col4, #T_f2f25_row8_col5, #T_f2f25_row8_col6, #T_f2f25_row8_col7, #T_f2f25_row9_col0, #T_f2f25_row9_col1, #T_f2f25_row9_col2, #T_f2f25_row9_col3, #T_f2f25_row9_col4, #T_f2f25_row9_col5, #T_f2f25_row9_col6, #T_f2f25_row9_col7, #T_f2f25_row10_col0, #T_f2f25_row10_col1, #T_f2f25_row10_col2, #T_f2f25_row10_col3, #T_f2f25_row10_col4, #T_f2f25_row10_col5, #T_f2f25_row10_col6, #T_f2f25_row10_col7, #T_f2f25_row11_col0, #T_f2f25_row11_col1, #T_f2f25_row11_col2, #T_f2f25_row11_col3, #T_f2f25_row11_col4, #T_f2f25_row11_col5, #T_f2f25_row11_col6, #T_f2f25_row11_col7, #T_f2f25_row12_col0, #T_f2f25_row12_col1, #T_f2f25_row12_col2, #T_f2f25_row12_col3, #T_f2f25_row12_col4, #T_f2f25_row12_col5, #T_f2f25_row12_col6, #T_f2f25_row12_col7, #T_f2f25_row13_col0, #T_f2f25_row13_col1, #T_f2f25_row13_col2, #T_f2f25_row13_col3, #T_f2f25_row13_col4, #T_f2f25_row13_col5, #T_f2f25_row13_col6, #T_f2f25_row13_col7 {\n",
       "  text-align: left;\n",
       "}\n",
       "#T_f2f25_row0_col1, #T_f2f25_row0_col3, #T_f2f25_row0_col4, #T_f2f25_row0_col5, #T_f2f25_row0_col6, #T_f2f25_row0_col7, #T_f2f25_row0_col8, #T_f2f25_row1_col2, #T_f2f25_row1_col8, #T_f2f25_row2_col8, #T_f2f25_row3_col8, #T_f2f25_row4_col8, #T_f2f25_row5_col8, #T_f2f25_row6_col8, #T_f2f25_row7_col8, #T_f2f25_row8_col8, #T_f2f25_row9_col8, #T_f2f25_row10_col8, #T_f2f25_row11_col8, #T_f2f25_row12_col8, #T_f2f25_row13_col8 {\n",
       "  text-align: left;\n",
       "  background-color: yellow;\n",
       "}\n",
       "#T_f2f25_row0_col9, #T_f2f25_row1_col9, #T_f2f25_row2_col9, #T_f2f25_row3_col9, #T_f2f25_row4_col9, #T_f2f25_row5_col9, #T_f2f25_row6_col9, #T_f2f25_row8_col9, #T_f2f25_row9_col9, #T_f2f25_row10_col9, #T_f2f25_row11_col9, #T_f2f25_row12_col9, #T_f2f25_row13_col9 {\n",
       "  text-align: left;\n",
       "  background-color: lightgrey;\n",
       "}\n",
       "#T_f2f25_row7_col9 {\n",
       "  text-align: left;\n",
       "  background-color: yellow;\n",
       "  background-color: lightgrey;\n",
       "}\n",
       "</style>\n",
       "<table id=\"T_f2f25\">\n",
       "  <thead>\n",
       "    <tr>\n",
       "      <th class=\"blank level0\" >&nbsp;</th>\n",
       "      <th id=\"T_f2f25_level0_col0\" class=\"col_heading level0 col0\" >Model</th>\n",
       "      <th id=\"T_f2f25_level0_col1\" class=\"col_heading level0 col1\" >Accuracy</th>\n",
       "      <th id=\"T_f2f25_level0_col2\" class=\"col_heading level0 col2\" >AUC</th>\n",
       "      <th id=\"T_f2f25_level0_col3\" class=\"col_heading level0 col3\" >Recall</th>\n",
       "      <th id=\"T_f2f25_level0_col4\" class=\"col_heading level0 col4\" >Prec.</th>\n",
       "      <th id=\"T_f2f25_level0_col5\" class=\"col_heading level0 col5\" >F1</th>\n",
       "      <th id=\"T_f2f25_level0_col6\" class=\"col_heading level0 col6\" >Kappa</th>\n",
       "      <th id=\"T_f2f25_level0_col7\" class=\"col_heading level0 col7\" >MCC</th>\n",
       "      <th id=\"T_f2f25_level0_col8\" class=\"col_heading level0 col8\" >Log Loss</th>\n",
       "      <th id=\"T_f2f25_level0_col9\" class=\"col_heading level0 col9\" >TT (Sec)</th>\n",
       "    </tr>\n",
       "  </thead>\n",
       "  <tbody>\n",
       "    <tr>\n",
       "      <th id=\"T_f2f25_level0_row0\" class=\"row_heading level0 row0\" >dt</th>\n",
       "      <td id=\"T_f2f25_row0_col0\" class=\"data row0 col0\" >Decision Tree Classifier</td>\n",
       "      <td id=\"T_f2f25_row0_col1\" class=\"data row0 col1\" >0.6992</td>\n",
       "      <td id=\"T_f2f25_row0_col2\" class=\"data row0 col2\" >0.8427</td>\n",
       "      <td id=\"T_f2f25_row0_col3\" class=\"data row0 col3\" >0.6992</td>\n",
       "      <td id=\"T_f2f25_row0_col4\" class=\"data row0 col4\" >0.7019</td>\n",
       "      <td id=\"T_f2f25_row0_col5\" class=\"data row0 col5\" >0.6980</td>\n",
       "      <td id=\"T_f2f25_row0_col6\" class=\"data row0 col6\" >0.6715</td>\n",
       "      <td id=\"T_f2f25_row0_col7\" class=\"data row0 col7\" >0.6717</td>\n",
       "      <td id=\"T_f2f25_row0_col8\" class=\"data row0 col8\" >0.0000</td>\n",
       "      <td id=\"T_f2f25_row0_col9\" class=\"data row0 col9\" >0.8700</td>\n",
       "    </tr>\n",
       "    <tr>\n",
       "      <th id=\"T_f2f25_level0_row1\" class=\"row_heading level0 row1\" >lightgbm</th>\n",
       "      <td id=\"T_f2f25_row1_col0\" class=\"data row1 col0\" >Light Gradient Boosting Machine</td>\n",
       "      <td id=\"T_f2f25_row1_col1\" class=\"data row1 col1\" >0.6756</td>\n",
       "      <td id=\"T_f2f25_row1_col2\" class=\"data row1 col2\" >0.9653</td>\n",
       "      <td id=\"T_f2f25_row1_col3\" class=\"data row1 col3\" >0.6756</td>\n",
       "      <td id=\"T_f2f25_row1_col4\" class=\"data row1 col4\" >0.6791</td>\n",
       "      <td id=\"T_f2f25_row1_col5\" class=\"data row1 col5\" >0.6737</td>\n",
       "      <td id=\"T_f2f25_row1_col6\" class=\"data row1 col6\" >0.6458</td>\n",
       "      <td id=\"T_f2f25_row1_col7\" class=\"data row1 col7\" >0.6462</td>\n",
       "      <td id=\"T_f2f25_row1_col8\" class=\"data row1 col8\" >0.0000</td>\n",
       "      <td id=\"T_f2f25_row1_col9\" class=\"data row1 col9\" >1.0700</td>\n",
       "    </tr>\n",
       "    <tr>\n",
       "      <th id=\"T_f2f25_level0_row2\" class=\"row_heading level0 row2\" >gbc</th>\n",
       "      <td id=\"T_f2f25_row2_col0\" class=\"data row2 col0\" >Gradient Boosting Classifier</td>\n",
       "      <td id=\"T_f2f25_row2_col1\" class=\"data row2 col1\" >0.6636</td>\n",
       "      <td id=\"T_f2f25_row2_col2\" class=\"data row2 col2\" >0.9615</td>\n",
       "      <td id=\"T_f2f25_row2_col3\" class=\"data row2 col3\" >0.6636</td>\n",
       "      <td id=\"T_f2f25_row2_col4\" class=\"data row2 col4\" >0.6692</td>\n",
       "      <td id=\"T_f2f25_row2_col5\" class=\"data row2 col5\" >0.6625</td>\n",
       "      <td id=\"T_f2f25_row2_col6\" class=\"data row2 col6\" >0.6328</td>\n",
       "      <td id=\"T_f2f25_row2_col7\" class=\"data row2 col7\" >0.6331</td>\n",
       "      <td id=\"T_f2f25_row2_col8\" class=\"data row2 col8\" >0.0000</td>\n",
       "      <td id=\"T_f2f25_row2_col9\" class=\"data row2 col9\" >1.1250</td>\n",
       "    </tr>\n",
       "    <tr>\n",
       "      <th id=\"T_f2f25_level0_row3\" class=\"row_heading level0 row3\" >rf</th>\n",
       "      <td id=\"T_f2f25_row3_col0\" class=\"data row3 col0\" >Random Forest Classifier</td>\n",
       "      <td id=\"T_f2f25_row3_col1\" class=\"data row3 col1\" >0.5509</td>\n",
       "      <td id=\"T_f2f25_row3_col2\" class=\"data row3 col2\" >0.9525</td>\n",
       "      <td id=\"T_f2f25_row3_col3\" class=\"data row3 col3\" >0.5509</td>\n",
       "      <td id=\"T_f2f25_row3_col4\" class=\"data row3 col4\" >0.5482</td>\n",
       "      <td id=\"T_f2f25_row3_col5\" class=\"data row3 col5\" >0.5458</td>\n",
       "      <td id=\"T_f2f25_row3_col6\" class=\"data row3 col6\" >0.5093</td>\n",
       "      <td id=\"T_f2f25_row3_col7\" class=\"data row3 col7\" >0.5096</td>\n",
       "      <td id=\"T_f2f25_row3_col8\" class=\"data row3 col8\" >0.0000</td>\n",
       "      <td id=\"T_f2f25_row3_col9\" class=\"data row3 col9\" >0.3350</td>\n",
       "    </tr>\n",
       "    <tr>\n",
       "      <th id=\"T_f2f25_level0_row4\" class=\"row_heading level0 row4\" >et</th>\n",
       "      <td id=\"T_f2f25_row4_col0\" class=\"data row4 col0\" >Extra Trees Classifier</td>\n",
       "      <td id=\"T_f2f25_row4_col1\" class=\"data row4 col1\" >0.5421</td>\n",
       "      <td id=\"T_f2f25_row4_col2\" class=\"data row4 col2\" >0.9512</td>\n",
       "      <td id=\"T_f2f25_row4_col3\" class=\"data row4 col3\" >0.5421</td>\n",
       "      <td id=\"T_f2f25_row4_col4\" class=\"data row4 col4\" >0.5398</td>\n",
       "      <td id=\"T_f2f25_row4_col5\" class=\"data row4 col5\" >0.5380</td>\n",
       "      <td id=\"T_f2f25_row4_col6\" class=\"data row4 col6\" >0.4992</td>\n",
       "      <td id=\"T_f2f25_row4_col7\" class=\"data row4 col7\" >0.4994</td>\n",
       "      <td id=\"T_f2f25_row4_col8\" class=\"data row4 col8\" >0.0000</td>\n",
       "      <td id=\"T_f2f25_row4_col9\" class=\"data row4 col9\" >0.3450</td>\n",
       "    </tr>\n",
       "    <tr>\n",
       "      <th id=\"T_f2f25_level0_row5\" class=\"row_heading level0 row5\" >nb</th>\n",
       "      <td id=\"T_f2f25_row5_col0\" class=\"data row5 col0\" >Naive Bayes</td>\n",
       "      <td id=\"T_f2f25_row5_col1\" class=\"data row5 col1\" >0.3452</td>\n",
       "      <td id=\"T_f2f25_row5_col2\" class=\"data row5 col2\" >0.8462</td>\n",
       "      <td id=\"T_f2f25_row5_col3\" class=\"data row5 col3\" >0.3452</td>\n",
       "      <td id=\"T_f2f25_row5_col4\" class=\"data row5 col4\" >0.3584</td>\n",
       "      <td id=\"T_f2f25_row5_col5\" class=\"data row5 col5\" >0.3401</td>\n",
       "      <td id=\"T_f2f25_row5_col6\" class=\"data row5 col6\" >0.2884</td>\n",
       "      <td id=\"T_f2f25_row5_col7\" class=\"data row5 col7\" >0.2946</td>\n",
       "      <td id=\"T_f2f25_row5_col8\" class=\"data row5 col8\" >0.0000</td>\n",
       "      <td id=\"T_f2f25_row5_col9\" class=\"data row5 col9\" >1.1200</td>\n",
       "    </tr>\n",
       "    <tr>\n",
       "      <th id=\"T_f2f25_level0_row6\" class=\"row_heading level0 row6\" >lda</th>\n",
       "      <td id=\"T_f2f25_row6_col0\" class=\"data row6 col0\" >Linear Discriminant Analysis</td>\n",
       "      <td id=\"T_f2f25_row6_col1\" class=\"data row6 col1\" >0.2835</td>\n",
       "      <td id=\"T_f2f25_row6_col2\" class=\"data row6 col2\" >0.7615</td>\n",
       "      <td id=\"T_f2f25_row6_col3\" class=\"data row6 col3\" >0.2835</td>\n",
       "      <td id=\"T_f2f25_row6_col4\" class=\"data row6 col4\" >0.1353</td>\n",
       "      <td id=\"T_f2f25_row6_col5\" class=\"data row6 col5\" >0.1758</td>\n",
       "      <td id=\"T_f2f25_row6_col6\" class=\"data row6 col6\" >0.1504</td>\n",
       "      <td id=\"T_f2f25_row6_col7\" class=\"data row6 col7\" >0.1678</td>\n",
       "      <td id=\"T_f2f25_row6_col8\" class=\"data row6 col8\" >0.0000</td>\n",
       "      <td id=\"T_f2f25_row6_col9\" class=\"data row6 col9\" >0.2150</td>\n",
       "    </tr>\n",
       "    <tr>\n",
       "      <th id=\"T_f2f25_level0_row7\" class=\"row_heading level0 row7\" >ridge</th>\n",
       "      <td id=\"T_f2f25_row7_col0\" class=\"data row7 col0\" >Ridge Classifier</td>\n",
       "      <td id=\"T_f2f25_row7_col1\" class=\"data row7 col1\" >0.2649</td>\n",
       "      <td id=\"T_f2f25_row7_col2\" class=\"data row7 col2\" >0.0000</td>\n",
       "      <td id=\"T_f2f25_row7_col3\" class=\"data row7 col3\" >0.2649</td>\n",
       "      <td id=\"T_f2f25_row7_col4\" class=\"data row7 col4\" >0.1007</td>\n",
       "      <td id=\"T_f2f25_row7_col5\" class=\"data row7 col5\" >0.1399</td>\n",
       "      <td id=\"T_f2f25_row7_col6\" class=\"data row7 col6\" >0.1041</td>\n",
       "      <td id=\"T_f2f25_row7_col7\" class=\"data row7 col7\" >0.1313</td>\n",
       "      <td id=\"T_f2f25_row7_col8\" class=\"data row7 col8\" >0.0000</td>\n",
       "      <td id=\"T_f2f25_row7_col9\" class=\"data row7 col9\" >0.1950</td>\n",
       "    </tr>\n",
       "    <tr>\n",
       "      <th id=\"T_f2f25_level0_row8\" class=\"row_heading level0 row8\" >lr</th>\n",
       "      <td id=\"T_f2f25_row8_col0\" class=\"data row8 col0\" >Logistic Regression</td>\n",
       "      <td id=\"T_f2f25_row8_col1\" class=\"data row8 col1\" >0.2501</td>\n",
       "      <td id=\"T_f2f25_row8_col2\" class=\"data row8 col2\" >0.6383</td>\n",
       "      <td id=\"T_f2f25_row8_col3\" class=\"data row8 col3\" >0.2501</td>\n",
       "      <td id=\"T_f2f25_row8_col4\" class=\"data row8 col4\" >0.1295</td>\n",
       "      <td id=\"T_f2f25_row8_col5\" class=\"data row8 col5\" >0.1199</td>\n",
       "      <td id=\"T_f2f25_row8_col6\" class=\"data row8 col6\" >0.0509</td>\n",
       "      <td id=\"T_f2f25_row8_col7\" class=\"data row8 col7\" >0.0921</td>\n",
       "      <td id=\"T_f2f25_row8_col8\" class=\"data row8 col8\" >0.0000</td>\n",
       "      <td id=\"T_f2f25_row8_col9\" class=\"data row8 col9\" >1.4800</td>\n",
       "    </tr>\n",
       "    <tr>\n",
       "      <th id=\"T_f2f25_level0_row9\" class=\"row_heading level0 row9\" >knn</th>\n",
       "      <td id=\"T_f2f25_row9_col0\" class=\"data row9 col0\" >K Neighbors Classifier</td>\n",
       "      <td id=\"T_f2f25_row9_col1\" class=\"data row9 col1\" >0.2448</td>\n",
       "      <td id=\"T_f2f25_row9_col2\" class=\"data row9 col2\" >0.6522</td>\n",
       "      <td id=\"T_f2f25_row9_col3\" class=\"data row9 col3\" >0.2448</td>\n",
       "      <td id=\"T_f2f25_row9_col4\" class=\"data row9 col4\" >0.1682</td>\n",
       "      <td id=\"T_f2f25_row9_col5\" class=\"data row9 col5\" >0.1869</td>\n",
       "      <td id=\"T_f2f25_row9_col6\" class=\"data row9 col6\" >0.1427</td>\n",
       "      <td id=\"T_f2f25_row9_col7\" class=\"data row9 col7\" >0.1468</td>\n",
       "      <td id=\"T_f2f25_row9_col8\" class=\"data row9 col8\" >0.0000</td>\n",
       "      <td id=\"T_f2f25_row9_col9\" class=\"data row9 col9\" >1.1550</td>\n",
       "    </tr>\n",
       "    <tr>\n",
       "      <th id=\"T_f2f25_level0_row10\" class=\"row_heading level0 row10\" >dummy</th>\n",
       "      <td id=\"T_f2f25_row10_col0\" class=\"data row10 col0\" >Dummy Classifier</td>\n",
       "      <td id=\"T_f2f25_row10_col1\" class=\"data row10 col1\" >0.2297</td>\n",
       "      <td id=\"T_f2f25_row10_col2\" class=\"data row10 col2\" >0.5000</td>\n",
       "      <td id=\"T_f2f25_row10_col3\" class=\"data row10 col3\" >0.2297</td>\n",
       "      <td id=\"T_f2f25_row10_col4\" class=\"data row10 col4\" >0.0527</td>\n",
       "      <td id=\"T_f2f25_row10_col5\" class=\"data row10 col5\" >0.0858</td>\n",
       "      <td id=\"T_f2f25_row10_col6\" class=\"data row10 col6\" >0.0000</td>\n",
       "      <td id=\"T_f2f25_row10_col7\" class=\"data row10 col7\" >0.0000</td>\n",
       "      <td id=\"T_f2f25_row10_col8\" class=\"data row10 col8\" >0.0000</td>\n",
       "      <td id=\"T_f2f25_row10_col9\" class=\"data row10 col9\" >0.2050</td>\n",
       "    </tr>\n",
       "    <tr>\n",
       "      <th id=\"T_f2f25_level0_row11\" class=\"row_heading level0 row11\" >ada</th>\n",
       "      <td id=\"T_f2f25_row11_col0\" class=\"data row11 col0\" >Ada Boost Classifier</td>\n",
       "      <td id=\"T_f2f25_row11_col1\" class=\"data row11 col1\" >0.1878</td>\n",
       "      <td id=\"T_f2f25_row11_col2\" class=\"data row11 col2\" >0.6656</td>\n",
       "      <td id=\"T_f2f25_row11_col3\" class=\"data row11 col3\" >0.1878</td>\n",
       "      <td id=\"T_f2f25_row11_col4\" class=\"data row11 col4\" >0.1135</td>\n",
       "      <td id=\"T_f2f25_row11_col5\" class=\"data row11 col5\" >0.1208</td>\n",
       "      <td id=\"T_f2f25_row11_col6\" class=\"data row11 col6\" >0.1303</td>\n",
       "      <td id=\"T_f2f25_row11_col7\" class=\"data row11 col7\" >0.1518</td>\n",
       "      <td id=\"T_f2f25_row11_col8\" class=\"data row11 col8\" >0.0000</td>\n",
       "      <td id=\"T_f2f25_row11_col9\" class=\"data row11 col9\" >0.2950</td>\n",
       "    </tr>\n",
       "    <tr>\n",
       "      <th id=\"T_f2f25_level0_row12\" class=\"row_heading level0 row12\" >qda</th>\n",
       "      <td id=\"T_f2f25_row12_col0\" class=\"data row12 col0\" >Quadratic Discriminant Analysis</td>\n",
       "      <td id=\"T_f2f25_row12_col1\" class=\"data row12 col1\" >0.1790</td>\n",
       "      <td id=\"T_f2f25_row12_col2\" class=\"data row12 col2\" >0.4319</td>\n",
       "      <td id=\"T_f2f25_row12_col3\" class=\"data row12 col3\" >0.1790</td>\n",
       "      <td id=\"T_f2f25_row12_col4\" class=\"data row12 col4\" >0.1798</td>\n",
       "      <td id=\"T_f2f25_row12_col5\" class=\"data row12 col5\" >0.1758</td>\n",
       "      <td id=\"T_f2f25_row12_col6\" class=\"data row12 col6\" >0.1476</td>\n",
       "      <td id=\"T_f2f25_row12_col7\" class=\"data row12 col7\" >0.1482</td>\n",
       "      <td id=\"T_f2f25_row12_col8\" class=\"data row12 col8\" >0.0000</td>\n",
       "      <td id=\"T_f2f25_row12_col9\" class=\"data row12 col9\" >0.2150</td>\n",
       "    </tr>\n",
       "    <tr>\n",
       "      <th id=\"T_f2f25_level0_row13\" class=\"row_heading level0 row13\" >svm</th>\n",
       "      <td id=\"T_f2f25_row13_col0\" class=\"data row13 col0\" >SVM - Linear Kernel</td>\n",
       "      <td id=\"T_f2f25_row13_col1\" class=\"data row13 col1\" >0.1349</td>\n",
       "      <td id=\"T_f2f25_row13_col2\" class=\"data row13 col2\" >0.0000</td>\n",
       "      <td id=\"T_f2f25_row13_col3\" class=\"data row13 col3\" >0.1349</td>\n",
       "      <td id=\"T_f2f25_row13_col4\" class=\"data row13 col4\" >0.0649</td>\n",
       "      <td id=\"T_f2f25_row13_col5\" class=\"data row13 col5\" >0.0504</td>\n",
       "      <td id=\"T_f2f25_row13_col6\" class=\"data row13 col6\" >0.0022</td>\n",
       "      <td id=\"T_f2f25_row13_col7\" class=\"data row13 col7\" >0.0124</td>\n",
       "      <td id=\"T_f2f25_row13_col8\" class=\"data row13 col8\" >0.0000</td>\n",
       "      <td id=\"T_f2f25_row13_col9\" class=\"data row13 col9\" >0.2350</td>\n",
       "    </tr>\n",
       "  </tbody>\n",
       "</table>\n"
      ],
      "text/plain": [
       "<pandas.io.formats.style.Styler at 0x27b3aeff820>"
      ]
     },
     "metadata": {},
     "output_type": "display_data"
    },
    {
     "data": {
      "text/html": [],
      "text/plain": [
       "<IPython.core.display.HTML object>"
      ]
     },
     "metadata": {},
     "output_type": "display_data"
    }
   ],
   "source": [
    "best = classification_xp.compare_models(verbose=True)"
   ]
  },
  {
   "cell_type": "code",
   "execution_count": null,
   "metadata": {},
   "outputs": [],
   "source": [
    "best_tuned = classification_xp.tune_model(best)"
   ]
  },
  {
   "cell_type": "code",
   "execution_count": null,
   "metadata": {},
   "outputs": [],
   "source": [
    "best_tuned.get_params()"
   ]
  },
  {
   "cell_type": "code",
   "execution_count": 7,
   "metadata": {
    "scrolled": true
   },
   "outputs": [
    {
     "data": {
      "text/html": [
       "<style type=\"text/css\">\n",
       "</style>\n",
       "<table id=\"T_34d56\">\n",
       "  <thead>\n",
       "    <tr>\n",
       "      <th class=\"blank level0\" >&nbsp;</th>\n",
       "      <th id=\"T_34d56_level0_col0\" class=\"col_heading level0 col0\" >Model</th>\n",
       "      <th id=\"T_34d56_level0_col1\" class=\"col_heading level0 col1\" >Accuracy</th>\n",
       "      <th id=\"T_34d56_level0_col2\" class=\"col_heading level0 col2\" >AUC</th>\n",
       "      <th id=\"T_34d56_level0_col3\" class=\"col_heading level0 col3\" >Recall</th>\n",
       "      <th id=\"T_34d56_level0_col4\" class=\"col_heading level0 col4\" >Prec.</th>\n",
       "      <th id=\"T_34d56_level0_col5\" class=\"col_heading level0 col5\" >F1</th>\n",
       "      <th id=\"T_34d56_level0_col6\" class=\"col_heading level0 col6\" >Kappa</th>\n",
       "      <th id=\"T_34d56_level0_col7\" class=\"col_heading level0 col7\" >MCC</th>\n",
       "      <th id=\"T_34d56_level0_col8\" class=\"col_heading level0 col8\" >Log Loss</th>\n",
       "    </tr>\n",
       "  </thead>\n",
       "  <tbody>\n",
       "    <tr>\n",
       "      <th id=\"T_34d56_level0_row0\" class=\"row_heading level0 row0\" >0</th>\n",
       "      <td id=\"T_34d56_row0_col0\" class=\"data row0 col0\" >Decision Tree Classifier</td>\n",
       "      <td id=\"T_34d56_row0_col1\" class=\"data row0 col1\" >0.9367</td>\n",
       "      <td id=\"T_34d56_row0_col2\" class=\"data row0 col2\" >0.9670</td>\n",
       "      <td id=\"T_34d56_row0_col3\" class=\"data row0 col3\" >0.9367</td>\n",
       "      <td id=\"T_34d56_row0_col4\" class=\"data row0 col4\" >0.9375</td>\n",
       "      <td id=\"T_34d56_row0_col5\" class=\"data row0 col5\" >0.9368</td>\n",
       "      <td id=\"T_34d56_row0_col6\" class=\"data row0 col6\" >0.9309</td>\n",
       "      <td id=\"T_34d56_row0_col7\" class=\"data row0 col7\" >0.9309</td>\n",
       "      <td id=\"T_34d56_row0_col8\" class=\"data row0 col8\" >0</td>\n",
       "    </tr>\n",
       "  </tbody>\n",
       "</table>\n"
      ],
      "text/plain": [
       "<pandas.io.formats.style.Styler at 0x27b3b8ffd30>"
      ]
     },
     "metadata": {},
     "output_type": "display_data"
    }
   ],
   "source": [
    "cl_predictions = classification_xp.predict_model(best, data=data_train)"
   ]
  },
  {
   "cell_type": "code",
   "execution_count": 8,
   "metadata": {},
   "outputs": [
    {
     "data": {
      "text/html": [
       "<div>\n",
       "<style scoped>\n",
       "    .dataframe tbody tr th:only-of-type {\n",
       "        vertical-align: middle;\n",
       "    }\n",
       "\n",
       "    .dataframe tbody tr th {\n",
       "        vertical-align: top;\n",
       "    }\n",
       "\n",
       "    .dataframe thead th {\n",
       "        text-align: right;\n",
       "    }\n",
       "</style>\n",
       "<table border=\"1\" class=\"dataframe\">\n",
       "  <thead>\n",
       "    <tr style=\"text-align: right;\">\n",
       "      <th></th>\n",
       "      <th>lat</th>\n",
       "      <th>lon</th>\n",
       "      <th>minutes_remaining</th>\n",
       "      <th>period</th>\n",
       "      <th>playoffs</th>\n",
       "      <th>shot_distance</th>\n",
       "      <th>prediction_label</th>\n",
       "      <th>prediction_score</th>\n",
       "    </tr>\n",
       "  </thead>\n",
       "  <tbody>\n",
       "    <tr>\n",
       "      <th>13438</th>\n",
       "      <td>33.884300</td>\n",
       "      <td>-118.336800</td>\n",
       "      <td>1</td>\n",
       "      <td>2</td>\n",
       "      <td>0</td>\n",
       "      <td>17</td>\n",
       "      <td>17</td>\n",
       "      <td>1.0</td>\n",
       "    </tr>\n",
       "    <tr>\n",
       "      <th>17346</th>\n",
       "      <td>34.013302</td>\n",
       "      <td>-118.226799</td>\n",
       "      <td>1</td>\n",
       "      <td>2</td>\n",
       "      <td>0</td>\n",
       "      <td>5</td>\n",
       "      <td>5</td>\n",
       "      <td>1.0</td>\n",
       "    </tr>\n",
       "    <tr>\n",
       "      <th>16516</th>\n",
       "      <td>34.011299</td>\n",
       "      <td>-118.174797</td>\n",
       "      <td>6</td>\n",
       "      <td>3</td>\n",
       "      <td>0</td>\n",
       "      <td>10</td>\n",
       "      <td>10</td>\n",
       "      <td>1.0</td>\n",
       "    </tr>\n",
       "    <tr>\n",
       "      <th>14119</th>\n",
       "      <td>33.943298</td>\n",
       "      <td>-118.334801</td>\n",
       "      <td>3</td>\n",
       "      <td>4</td>\n",
       "      <td>0</td>\n",
       "      <td>12</td>\n",
       "      <td>11</td>\n",
       "      <td>1.0</td>\n",
       "    </tr>\n",
       "    <tr>\n",
       "      <th>20162</th>\n",
       "      <td>34.050301</td>\n",
       "      <td>-118.189796</td>\n",
       "      <td>1</td>\n",
       "      <td>2</td>\n",
       "      <td>0</td>\n",
       "      <td>8</td>\n",
       "      <td>8</td>\n",
       "      <td>1.0</td>\n",
       "    </tr>\n",
       "    <tr>\n",
       "      <th>...</th>\n",
       "      <td>...</td>\n",
       "      <td>...</td>\n",
       "      <td>...</td>\n",
       "      <td>...</td>\n",
       "      <td>...</td>\n",
       "      <td>...</td>\n",
       "      <td>...</td>\n",
       "      <td>...</td>\n",
       "    </tr>\n",
       "    <tr>\n",
       "      <th>17353</th>\n",
       "      <td>33.936298</td>\n",
       "      <td>-118.378799</td>\n",
       "      <td>0</td>\n",
       "      <td>3</td>\n",
       "      <td>0</td>\n",
       "      <td>15</td>\n",
       "      <td>15</td>\n",
       "      <td>1.0</td>\n",
       "    </tr>\n",
       "    <tr>\n",
       "      <th>13536</th>\n",
       "      <td>33.904301</td>\n",
       "      <td>-118.276802</td>\n",
       "      <td>5</td>\n",
       "      <td>4</td>\n",
       "      <td>0</td>\n",
       "      <td>14</td>\n",
       "      <td>14</td>\n",
       "      <td>1.0</td>\n",
       "    </tr>\n",
       "    <tr>\n",
       "      <th>20542</th>\n",
       "      <td>34.041302</td>\n",
       "      <td>-118.295799</td>\n",
       "      <td>7</td>\n",
       "      <td>3</td>\n",
       "      <td>0</td>\n",
       "      <td>2</td>\n",
       "      <td>2</td>\n",
       "      <td>1.0</td>\n",
       "    </tr>\n",
       "    <tr>\n",
       "      <th>29292</th>\n",
       "      <td>33.937302</td>\n",
       "      <td>-118.211800</td>\n",
       "      <td>4</td>\n",
       "      <td>2</td>\n",
       "      <td>1</td>\n",
       "      <td>12</td>\n",
       "      <td>12</td>\n",
       "      <td>1.0</td>\n",
       "    </tr>\n",
       "    <tr>\n",
       "      <th>30128</th>\n",
       "      <td>33.989300</td>\n",
       "      <td>-118.397797</td>\n",
       "      <td>0</td>\n",
       "      <td>1</td>\n",
       "      <td>1</td>\n",
       "      <td>13</td>\n",
       "      <td>13</td>\n",
       "      <td>1.0</td>\n",
       "    </tr>\n",
       "  </tbody>\n",
       "</table>\n",
       "<p>4057 rows × 8 columns</p>\n",
       "</div>"
      ],
      "text/plain": [
       "             lat         lon  minutes_remaining  period  playoffs  \\\n",
       "13438  33.884300 -118.336800                  1       2         0   \n",
       "17346  34.013302 -118.226799                  1       2         0   \n",
       "16516  34.011299 -118.174797                  6       3         0   \n",
       "14119  33.943298 -118.334801                  3       4         0   \n",
       "20162  34.050301 -118.189796                  1       2         0   \n",
       "...          ...         ...                ...     ...       ...   \n",
       "17353  33.936298 -118.378799                  0       3         0   \n",
       "13536  33.904301 -118.276802                  5       4         0   \n",
       "20542  34.041302 -118.295799                  7       3         0   \n",
       "29292  33.937302 -118.211800                  4       2         1   \n",
       "30128  33.989300 -118.397797                  0       1         1   \n",
       "\n",
       "       shot_distance  prediction_label  prediction_score  \n",
       "13438             17                17               1.0  \n",
       "17346              5                 5               1.0  \n",
       "16516             10                10               1.0  \n",
       "14119             12                11               1.0  \n",
       "20162              8                 8               1.0  \n",
       "...              ...               ...               ...  \n",
       "17353             15                15               1.0  \n",
       "13536             14                14               1.0  \n",
       "20542              2                 2               1.0  \n",
       "29292             12                12               1.0  \n",
       "30128             13                13               1.0  \n",
       "\n",
       "[4057 rows x 8 columns]"
      ]
     },
     "execution_count": 8,
     "metadata": {},
     "output_type": "execute_result"
    }
   ],
   "source": [
    "cl_predictions"
   ]
  },
  {
   "cell_type": "code",
   "execution_count": null,
   "metadata": {},
   "outputs": [],
   "source": [
    "log_loss_score = log_loss(labels_train, cl_predictions['prediction_score'])\n",
    "log_loss_score"
   ]
  },
  {
   "cell_type": "code",
   "execution_count": null,
   "metadata": {},
   "outputs": [],
   "source": [
    "f1_score(labels_train, cl_predictions['prediction_label'], average='weighted')"
   ]
  },
  {
   "cell_type": "code",
   "execution_count": null,
   "metadata": {},
   "outputs": [],
   "source": [
    " ############################### get_classification_model_metrics ###############################"
   ]
  },
  {
   "cell_type": "code",
   "execution_count": null,
   "metadata": {},
   "outputs": [],
   "source": [
    "cl_predictions = classification_xp.predict_model(best_tuned, data=data_test)"
   ]
  },
  {
   "cell_type": "code",
   "execution_count": null,
   "metadata": {},
   "outputs": [],
   "source": [
    "data_test"
   ]
  },
  {
   "cell_type": "code",
   "execution_count": null,
   "metadata": {},
   "outputs": [],
   "source": [
    "data_train"
   ]
  },
  {
   "cell_type": "code",
   "execution_count": null,
   "metadata": {},
   "outputs": [],
   "source": [
    "cl_predictions = best_tuned.fit(data_test)"
   ]
  },
  {
   "cell_type": "code",
   "execution_count": null,
   "metadata": {},
   "outputs": [],
   "source": [
    "cl_predictions"
   ]
  },
  {
   "cell_type": "code",
   "execution_count": null,
   "metadata": {},
   "outputs": [],
   "source": [
    "log_loss_score = log_loss(labels_test, cl_predictions['prediction_score'])"
   ]
  },
  {
   "cell_type": "code",
   "execution_count": null,
   "metadata": {},
   "outputs": [],
   "source": [
    "log_loss_score"
   ]
  },
  {
   "cell_type": "code",
   "execution_count": null,
   "metadata": {},
   "outputs": [],
   "source": [
    "f1 = f1_score(labels_test, cl_predictions['prediction_score'])"
   ]
  },
  {
   "cell_type": "code",
   "execution_count": null,
   "metadata": {},
   "outputs": [],
   "source": [
    "cl_predictions['prediction_label']"
   ]
  },
  {
   "cell_type": "code",
   "execution_count": null,
   "metadata": {},
   "outputs": [],
   "source": [
    "f1"
   ]
  }
 ],
 "metadata": {
  "kernelspec": {
   "display_name": ".venv",
   "language": "python",
   "name": "python3"
  },
  "language_info": {
   "codemirror_mode": {
    "name": "ipython",
    "version": 3
   },
   "file_extension": ".py",
   "mimetype": "text/x-python",
   "name": "python",
   "nbconvert_exporter": "python",
   "pygments_lexer": "ipython3",
   "version": "3.10.4 (tags/v3.10.4:9d38120, Mar 23 2022, 23:13:41) [MSC v.1929 64 bit (AMD64)]"
  },
  "vscode": {
   "interpreter": {
    "hash": "6d24f039cf43d64e7e42b08c2913f041bebaafd7e3c1194964c92cc1c6881dd9"
   }
  }
 },
 "nbformat": 4,
 "nbformat_minor": 2
}
